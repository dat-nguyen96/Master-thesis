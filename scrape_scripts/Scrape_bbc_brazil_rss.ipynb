{
 "cells": [
  {
   "cell_type": "code",
   "execution_count": 3,
   "metadata": {},
   "outputs": [],
   "source": [
    "import urllib.request,sys,time\n",
    "from bs4 import BeautifulSoup\n",
    "import requests\n",
    "import pandas as pd\n",
    "import numpy as np\n",
    "import re\n",
    "import feedparser\n",
    "import os\n",
    "import numpy as np\n",
    "import time\n",
    "import cchardet\n",
    "import lxml"
   ]
  },
  {
   "cell_type": "code",
   "execution_count": 5,
   "metadata": {},
   "outputs": [],
   "source": [
    "# Getting the current work directory (cwd)\n",
    "thisdir = os.getcwd()\n",
    "snapshots = []\n",
    "\n",
    "# r=root, d=directories, f = files\n",
    "for r, d, f in os.walk(thisdir+\"/bbc_brazil\"):\n",
    "    for file in f:\n",
    "        if file.endswith(\".snapshot\"):\n",
    "            snapshots.append(os.path.join(r, file))"
   ]
  },
  {
   "cell_type": "code",
   "execution_count": 8,
   "metadata": {},
   "outputs": [
    {
     "data": {
      "text/plain": [
       "['/Users/dat/Master-thesis/bbc_brazil/feeds.bbci.co.uk/portuguese/rss.xml/20170707091807.snapshot',\n",
       " '/Users/dat/Master-thesis/bbc_brazil/feeds.bbci.co.uk/portuguese/rss.xml/20181223115422.snapshot',\n",
       " '/Users/dat/Master-thesis/bbc_brazil/feeds.bbci.co.uk/portuguese/rss.xml/20190607124352.snapshot',\n",
       " '/Users/dat/Master-thesis/bbc_brazil/feeds.bbci.co.uk/portuguese/rss.xml/20190910090354.snapshot',\n",
       " '/Users/dat/Master-thesis/bbc_brazil/feeds.bbci.co.uk/portuguese/rss.xml/20160921203541.snapshot',\n",
       " '/Users/dat/Master-thesis/bbc_brazil/feeds.bbci.co.uk/portuguese/rss.xml/20160718191346.snapshot',\n",
       " '/Users/dat/Master-thesis/bbc_brazil/feeds.bbci.co.uk/portuguese/rss.xml/20160819182524.snapshot',\n",
       " '/Users/dat/Master-thesis/bbc_brazil/feeds.bbci.co.uk/portuguese/rss.xml/20180317231641.snapshot',\n",
       " '/Users/dat/Master-thesis/bbc_brazil/feeds.bbci.co.uk/portuguese/rss.xml/20200308075257.snapshot',\n",
       " '/Users/dat/Master-thesis/bbc_brazil/feeds.bbci.co.uk/portuguese/rss.xml/20190202193507.snapshot',\n",
       " '/Users/dat/Master-thesis/bbc_brazil/feeds.bbci.co.uk/portuguese/rss.xml/20180418105438.snapshot',\n",
       " '/Users/dat/Master-thesis/bbc_brazil/feeds.bbci.co.uk/portuguese/rss.xml/20181128125158.snapshot',\n",
       " '/Users/dat/Master-thesis/bbc_brazil/feeds.bbci.co.uk/portuguese/rss.xml/20170901231434.snapshot',\n",
       " '/Users/dat/Master-thesis/bbc_brazil/feeds.bbci.co.uk/portuguese/rss.xml/20190102040303.snapshot',\n",
       " '/Users/dat/Master-thesis/bbc_brazil/feeds.bbci.co.uk/portuguese/rss.xml/20210130050335.snapshot',\n",
       " '/Users/dat/Master-thesis/bbc_brazil/feeds.bbci.co.uk/portuguese/rss.xml/20161115151218.snapshot',\n",
       " '/Users/dat/Master-thesis/bbc_brazil/feeds.bbci.co.uk/portuguese/rss.xml/20190306012423.snapshot',\n",
       " '/Users/dat/Master-thesis/bbc_brazil/feeds.bbci.co.uk/portuguese/rss.xml/20200420050457.snapshot',\n",
       " '/Users/dat/Master-thesis/bbc_brazil/feeds.bbci.co.uk/portuguese/rss.xml/20180107020349.snapshot',\n",
       " '/Users/dat/Master-thesis/bbc_brazil/feeds.bbci.co.uk/portuguese/rss.xml/20200716231733.snapshot',\n",
       " '/Users/dat/Master-thesis/bbc_brazil/feeds.bbci.co.uk/portuguese/rss.xml/20170907065828.snapshot',\n",
       " '/Users/dat/Master-thesis/bbc_brazil/feeds.bbci.co.uk/portuguese/rss.xml/20170806152423.snapshot',\n",
       " '/Users/dat/Master-thesis/bbc_brazil/feeds.bbci.co.uk/portuguese/rss.xml/20180722124152.snapshot',\n",
       " '/Users/dat/Master-thesis/bbc_brazil/feeds.bbci.co.uk/portuguese/rss.xml/20191009152252.snapshot',\n",
       " '/Users/dat/Master-thesis/bbc_brazil/feeds.bbci.co.uk/portuguese/rss.xml/20190330203707.snapshot',\n",
       " '/Users/dat/Master-thesis/bbc_brazil/feeds.bbci.co.uk/portuguese/rss.xml/20161024082623.snapshot',\n",
       " '/Users/dat/Master-thesis/bbc_brazil/feeds.bbci.co.uk/portuguese/rss.xml/20190708183440.snapshot',\n",
       " '/Users/dat/Master-thesis/bbc_brazil/feeds.bbci.co.uk/portuguese/rss.xml/20201204105447.snapshot',\n",
       " '/Users/dat/Master-thesis/bbc_brazil/feeds.bbci.co.uk/portuguese/rss.xml/20180126092158.snapshot',\n",
       " '/Users/dat/Master-thesis/bbc_brazil/feeds.bbci.co.uk/portuguese/rss.xml/20181025175053.snapshot',\n",
       " '/Users/dat/Master-thesis/bbc_brazil/feeds.bbci.co.uk/portuguese/rss.xml/20180520141941.snapshot',\n",
       " '/Users/dat/Master-thesis/bbc_brazil/feeds.bbci.co.uk/portuguese/rss.xml/20190507133737.snapshot',\n",
       " '/Users/dat/Master-thesis/bbc_brazil/feeds.bbci.co.uk/portuguese/rss.xml/20180923150318.snapshot',\n",
       " '/Users/dat/Master-thesis/bbc_brazil/feeds.bbci.co.uk/portuguese/rss.xml/20160516022115.snapshot',\n",
       " '/Users/dat/Master-thesis/bbc_brazil/feeds.bbci.co.uk/portuguese/rss.xml/20180215001710.snapshot',\n",
       " '/Users/dat/Master-thesis/bbc_brazil/feeds.bbci.co.uk/portuguese/rss.xml/20170603210518.snapshot',\n",
       " '/Users/dat/Master-thesis/bbc_brazil/feeds.bbci.co.uk/portuguese/rss.xml/20190810000705.snapshot',\n",
       " '/Users/dat/Master-thesis/bbc_brazil/feeds.bbci.co.uk/portuguese/rss.xml/20160821004811.snapshot',\n",
       " '/Users/dat/Master-thesis/bbc_brazil/feeds.bbci.co.uk/portuguese/rss.xml/20200507123514.snapshot',\n",
       " '/Users/dat/Master-thesis/bbc_brazil/feeds.bbci.co.uk/portuguese/rss.xml/20190108034817.snapshot',\n",
       " '/Users/dat/Master-thesis/bbc_brazil/feeds.bbci.co.uk/portuguese/rss.xml/20180815143912.snapshot',\n",
       " '/Users/dat/Master-thesis/bbc_brazil/feeds.bbci.co.uk/portuguese/rss.xml/20170520225128.snapshot',\n",
       " '/Users/dat/Master-thesis/bbc_brazil/feeds.bbci.co.uk/portuguese/rss.xml/20200829210131.snapshot',\n",
       " '/Users/dat/Master-thesis/bbc_brazil/feeds.bbci.co.uk/portuguese/rss.xml/20180124211742.snapshot',\n",
       " '/Users/dat/Master-thesis/bbc_brazil/feeds.bbci.co.uk/portuguese/rss.xml/20210301192828.snapshot',\n",
       " '/Users/dat/Master-thesis/bbc_brazil/feeds.bbci.co.uk/portuguese/rss.xml/20200626140439.snapshot',\n",
       " '/Users/dat/Master-thesis/bbc_brazil/feeds.bbci.co.uk/portuguese/rss.xml/20161230082454.snapshot',\n",
       " '/Users/dat/Master-thesis/bbc_brazil/feeds.bbci.co.uk/portuguese/rss.xml/20160617063038.snapshot',\n",
       " '/Users/dat/Master-thesis/bbc_brazil/feeds.bbci.co.uk/portuguese/rss.xml/20171022210321.snapshot',\n",
       " '/Users/dat/Master-thesis/bbc_brazil/feeds.bbci.co.uk/portuguese/rss.xml/20180621120503.snapshot',\n",
       " '/Users/dat/Master-thesis/bbc_brazil/feeds.bbci.co.uk/portuguese/rss.xml/20191229190905.snapshot',\n",
       " '/Users/dat/Master-thesis/bbc_brazil/feeds.bbci.co.uk/portuguese/rss.xml/20170118172608.snapshot',\n",
       " '/Users/dat/Master-thesis/bbc_brazil/feeds.bbci.co.uk/portuguese/rss.xml/20171123165552.snapshot',\n",
       " '/Users/dat/Master-thesis/bbc_brazil/feeds.bbci.co.uk/portuguese/rss.xml/20190323220029.snapshot',\n",
       " '/Users/dat/Master-thesis/bbc_brazil/feeds.bbci.co.uk/portuguese/rss.xml/20210128015536.snapshot',\n",
       " '/Users/dat/Master-thesis/bbc_brazil/feeds.bbci.co.uk/portuguese/rss.xml/20200616170111.snapshot',\n",
       " '/Users/dat/Master-thesis/bbc_brazil/feeds.bbci.co.uk/portuguese/rss.xml/20191030112355.snapshot',\n",
       " '/Users/dat/Master-thesis/bbc_brazil/feeds.bbci.co.uk/portuguese/rss.xml/20200912105448.snapshot',\n",
       " '/Users/dat/Master-thesis/bbc_brazil/feeds.bbci.co.uk/portuguese/rss.xml/20200517104324.snapshot',\n",
       " '/Users/dat/Master-thesis/bbc_brazil/feeds.bbci.co.uk/portuguese/rss.xml/20201226123945.snapshot',\n",
       " '/Users/dat/Master-thesis/bbc_brazil/feeds.bbci.co.uk/portuguese/rss.xml/20201129152659.snapshot',\n",
       " '/Users/dat/Master-thesis/bbc_brazil/feeds.bbci.co.uk/portuguese/rss.xml/20210126061456.snapshot',\n",
       " '/Users/dat/Master-thesis/bbc_brazil/feeds.bbci.co.uk/portuguese/rss.xml/20200901185055.snapshot',\n",
       " '/Users/dat/Master-thesis/bbc_brazil/feeds.bbci.co.uk/portuguese/rss.xml/20200821130354.snapshot',\n",
       " '/Users/dat/Master-thesis/bbc_brazil/feeds.bbci.co.uk/portuguese/rss.xml/20190406064220.snapshot',\n",
       " '/Users/dat/Master-thesis/bbc_brazil/feeds.bbci.co.uk/portuguese/rss.xml/20200805014703.snapshot',\n",
       " '/Users/dat/Master-thesis/bbc_brazil/feeds.bbci.co.uk/portuguese/rss.xml/20170706131915.snapshot',\n",
       " '/Users/dat/Master-thesis/bbc_brazil/feeds.bbci.co.uk/portuguese/rss.xml/20180823041250.snapshot',\n",
       " '/Users/dat/Master-thesis/bbc_brazil/feeds.bbci.co.uk/portuguese/internacional/rss.xml/20190430212016.snapshot',\n",
       " '/Users/dat/Master-thesis/bbc_brazil/feeds.bbci.co.uk/portuguese/internacional/rss.xml/20190602222606.snapshot',\n",
       " '/Users/dat/Master-thesis/bbc_brazil/feeds.bbci.co.uk/portuguese/internacional/rss.xml/20190323220031.snapshot',\n",
       " '/Users/dat/Master-thesis/bbc_brazil/feeds.bbci.co.uk/portuguese/internacional/rss.xml/20201204104750.snapshot',\n",
       " '/Users/dat/Master-thesis/bbc_brazil/feeds.bbci.co.uk/portuguese/internacional/rss.xml/20190807052722.snapshot',\n",
       " '/Users/dat/Master-thesis/bbc_brazil/feeds.bbci.co.uk/portuguese/internacional/rss.xml/20190226025034.snapshot',\n",
       " '/Users/dat/Master-thesis/bbc_brazil/feeds.bbci.co.uk/portuguese/internacional/rss.xml/20180602193459.snapshot',\n",
       " '/Users/dat/Master-thesis/bbc_brazil/feeds.bbci.co.uk/portuguese/internacional/rss.xml/20190125173417.snapshot',\n",
       " '/Users/dat/Master-thesis/bbc_brazil/feeds.bbci.co.uk/portuguese/internacional/rss.xml/20200930202723.snapshot',\n",
       " '/Users/dat/Master-thesis/bbc_brazil/feeds.bbci.co.uk/portuguese/internacional/rss.xml/20190907191455.snapshot',\n",
       " '/Users/dat/Master-thesis/bbc_brazil/feeds.bbci.co.uk/portuguese/internacional/rss.xml/20181020123218.snapshot',\n",
       " '/Users/dat/Master-thesis/bbc_brazil/feeds.bbci.co.uk/portuguese/internacional/rss.xml/20181120225015.snapshot',\n",
       " '/Users/dat/Master-thesis/bbc_brazil/feeds.bbci.co.uk/portuguese/internacional/rss.xml/20190704012731.snapshot',\n",
       " '/Users/dat/Master-thesis/bbc_brazil/feeds.bbci.co.uk/portuguese/internacional/rss.xml/20200920040736.snapshot',\n",
       " '/Users/dat/Master-thesis/bbc_brazil/feeds.bbci.co.uk/portuguese/internacional/rss.xml/20190330202948.snapshot',\n",
       " '/Users/dat/Master-thesis/bbc_brazil/feeds.bbci.co.uk/portuguese/internacional/rss.xml/20190330104051.snapshot',\n",
       " '/Users/dat/Master-thesis/bbc_brazil/feeds.bbci.co.uk/portuguese/internacional/rss.xml/20170526105503.snapshot',\n",
       " '/Users/dat/Master-thesis/bbc_brazil/feeds.bbci.co.uk/portuguese/internacional/rss.xml/20191110145855.snapshot',\n",
       " '/Users/dat/Master-thesis/bbc_brazil/feeds.bbci.co.uk/portuguese/internacional/rss.xml/20180215003136.snapshot',\n",
       " '/Users/dat/Master-thesis/bbc_brazil/feeds.bbci.co.uk/portuguese/internacional/rss.xml/20170320174506.snapshot',\n",
       " '/Users/dat/Master-thesis/bbc_brazil/feeds.bbci.co.uk/portuguese/internacional/rss.xml/20171129035701.snapshot',\n",
       " '/Users/dat/Master-thesis/bbc_brazil/feeds.bbci.co.uk/portuguese/internacional/rss.xml/20200115122102.snapshot',\n",
       " '/Users/dat/Master-thesis/bbc_brazil/feeds.bbci.co.uk/portuguese/internacional/rss.xml/20200420035231.snapshot',\n",
       " '/Users/dat/Master-thesis/bbc_brazil/feeds.bbci.co.uk/portuguese/internacional/rss.xml/20170929043922.snapshot',\n",
       " '/Users/dat/Master-thesis/bbc_brazil/feeds.bbci.co.uk/portuguese/internacional/rss.xml/20170726133108.snapshot',\n",
       " '/Users/dat/Master-thesis/bbc_brazil/feeds.bbci.co.uk/portuguese/internacional/rss.xml/20181225092236.snapshot',\n",
       " '/Users/dat/Master-thesis/bbc_brazil/feeds.bbci.co.uk/portuguese/internacional/rss.xml/20200316100219.snapshot',\n",
       " '/Users/dat/Master-thesis/bbc_brazil/feeds.bbci.co.uk/portuguese/brasil/rss.xml/20190330200758.snapshot',\n",
       " '/Users/dat/Master-thesis/bbc_brazil/feeds.bbci.co.uk/portuguese/brasil/rss.xml/20200420054117.snapshot',\n",
       " '/Users/dat/Master-thesis/bbc_brazil/feeds.bbci.co.uk/portuguese/brasil/rss.xml/20171122020256.snapshot',\n",
       " '/Users/dat/Master-thesis/bbc_brazil/feeds.bbci.co.uk/portuguese/brasil/rss.xml/20180122005354.snapshot',\n",
       " '/Users/dat/Master-thesis/bbc_brazil/feeds.bbci.co.uk/portuguese/brasil/rss.xml/20170722170230.snapshot',\n",
       " '/Users/dat/Master-thesis/bbc_brazil/feeds.bbci.co.uk/portuguese/brasil/rss.xml/20201204113720.snapshot',\n",
       " '/Users/dat/Master-thesis/bbc_brazil/feeds.bbci.co.uk/portuguese/brasil/rss.xml/20170921184727.snapshot',\n",
       " '/Users/dat/Master-thesis/bbc_brazil/feeds.bbci.co.uk/portuguese/brasil/rss.xml/20190323220025.snapshot',\n",
       " '/Users/dat/Master-thesis/bbc_brazil/feeds.bbci.co.uk/portuguese/brasil/rss.xml/20170521105903.snapshot',\n",
       " '/Users/dat/Master-thesis/bbc_brazil/feeds.bbci.co.uk/portuguese/brasil/rss.xml/20200920053049.snapshot',\n",
       " '/Users/dat/Master-thesis/bbc_brazil/feeds.bbci.co.uk/portuguese/geral/rss.xml/20170805033815.snapshot',\n",
       " '/Users/dat/Master-thesis/bbc_brazil/feeds.bbci.co.uk/portuguese/geral/rss.xml/20171107010958.snapshot',\n",
       " '/Users/dat/Master-thesis/bbc_brazil/feeds.bbci.co.uk/portuguese/geral/rss.xml/20171006172922.snapshot',\n",
       " '/Users/dat/Master-thesis/bbc_brazil/feeds.bbci.co.uk/portuguese/geral/rss.xml/20170905074241.snapshot',\n",
       " '/Users/dat/Master-thesis/bbc_brazil/feeds.bbci.co.uk/portuguese/geral/rss.xml/20171208025803.snapshot',\n",
       " '/Users/dat/Master-thesis/bbc_brazil/feeds.bbci.co.uk/portuguese/geral/rss.xml/20180108144629.snapshot']"
      ]
     },
     "execution_count": 8,
     "metadata": {},
     "output_type": "execute_result"
    }
   ],
   "source": [
    "snapshots"
   ]
  },
  {
   "cell_type": "code",
   "execution_count": 9,
   "metadata": {},
   "outputs": [],
   "source": [
    "data = pd.DataFrame([])\n",
    "for snap in snapshots:\n",
    "    parser = feedparser.parse(snap)\n",
    "    for post in parser.entries:\n",
    "        try:\n",
    "            title = post.title\n",
    "            link = post.link\n",
    "            date = post.published\n",
    "            data = data.append(pd.DataFrame({'title': title, 'url': link,'date' : date}, index=[0]), ignore_index=True)\n",
    "        except:\n",
    "            continue\n",
    "    "
   ]
  },
  {
   "cell_type": "code",
   "execution_count": 10,
   "metadata": {},
   "outputs": [
    {
     "data": {
      "text/plain": [
       "(4952, 3)"
      ]
     },
     "execution_count": 10,
     "metadata": {},
     "output_type": "execute_result"
    }
   ],
   "source": [
    "data.shape"
   ]
  },
  {
   "cell_type": "code",
   "execution_count": 18,
   "metadata": {},
   "outputs": [],
   "source": [
    "data = data.drop_duplicates(subset='url')\n",
    "data = data.dropna(subset=[\"url\"])"
   ]
  },
  {
   "cell_type": "code",
   "execution_count": 19,
   "metadata": {},
   "outputs": [
    {
     "data": {
      "text/plain": [
       "(4125, 3)"
      ]
     },
     "execution_count": 19,
     "metadata": {},
     "output_type": "execute_result"
    }
   ],
   "source": [
    "data.shape"
   ]
  },
  {
   "cell_type": "code",
   "execution_count": 20,
   "metadata": {},
   "outputs": [],
   "source": [
    "def categorize(x):\n",
    "    if 'geral' in x:\n",
    "        return \"geral\"\n",
    "    elif 'internacional' in x:\n",
    "        return \"internacional\"\n",
    "    elif 'brasil' in x:\n",
    "        return \"brasil\"\n",
    "    else:\n",
    "        return np.nan\n"
   ]
  },
  {
   "cell_type": "code",
   "execution_count": 21,
   "metadata": {},
   "outputs": [],
   "source": [
    "data['category'] = data[\"url\"].apply (lambda x: categorize(x))"
   ]
  },
  {
   "cell_type": "code",
   "execution_count": 1,
   "metadata": {},
   "outputs": [],
   "source": [
    "def extract_userneed(x):\n",
    "    try:\n",
    "        page=requests.get(x)\n",
    "        soup=BeautifulSoup(page.text,'lxml')\n",
    "        x = [i for i in soup.find(\"script\",text = re.compile(r'(?<=\"campaignName\".\").+?(?=\\\")'))][0]\n",
    "        return re.search(r'(?<=\"campaignName\".\").+?(?=\\\")',x)[0]\n",
    "    except:\n",
    "        return np.nan"
   ]
  },
  {
   "cell_type": "code",
   "execution_count": 51,
   "metadata": {},
   "outputs": [],
   "source": [
    "def get_text(url):\n",
    "    try:\n",
    "        requests_session = requests.Session()\n",
    "        article = requests_session.get(url)\n",
    "        soup = BeautifulSoup(article.content, 'lxml')\n",
    "        body = soup.find(role='main')\n",
    "        text = [p.text for p in body.find_all('p',dir=\"ltr\")]\n",
    "        return ''.join(text)\n",
    "    except:\n",
    "        return \"error\""
   ]
  },
  {
   "cell_type": "code",
   "execution_count": 52,
   "metadata": {},
   "outputs": [
    {
     "name": "stdout",
     "output_type": "stream",
     "text": [
      "CPU times: user 5min 47s, sys: 12.6 s, total: 6min\n",
      "Wall time: 43min\n"
     ]
    }
   ],
   "source": [
    "%%time\n",
    "data[\"User Need\"] = data[\"url\"].apply(lambda x : extract_userneed(x))"
   ]
  },
  {
   "cell_type": "code",
   "execution_count": 53,
   "metadata": {},
   "outputs": [],
   "source": [
    "data[\"User Need\"] = data[\"User Need\"].apply(lambda s: re.sub(r\"(WS - )\", \"\", s) if pd.notnull(s) else s)\n"
   ]
  },
  {
   "cell_type": "code",
   "execution_count": 54,
   "metadata": {},
   "outputs": [
    {
     "name": "stdout",
     "output_type": "stream",
     "text": [
      "CPU times: user 4min 38s, sys: 8.83 s, total: 4min 47s\n",
      "Wall time: 13min 58s\n"
     ]
    }
   ],
   "source": [
    "%%time\n",
    "data[\"text\"] = data[\"url\"].apply(lambda x : get_text(x))"
   ]
  },
  {
   "cell_type": "code",
   "execution_count": 56,
   "metadata": {},
   "outputs": [],
   "source": [
    "data.to_csv(\"checkpoint.csv\",index=False)"
   ]
  },
  {
   "cell_type": "code",
   "execution_count": 57,
   "metadata": {},
   "outputs": [],
   "source": [
    "brazil1 = pd.read_csv(\"brazil_userneeds.csv\")"
   ]
  },
  {
   "cell_type": "code",
   "execution_count": 61,
   "metadata": {},
   "outputs": [],
   "source": [
    "brazil_final = brazil1.append(data,ignore_index=True)"
   ]
  },
  {
   "cell_type": "code",
   "execution_count": 62,
   "metadata": {},
   "outputs": [
    {
     "data": {
      "text/plain": [
       "(7642, 6)"
      ]
     },
     "execution_count": 62,
     "metadata": {},
     "output_type": "execute_result"
    }
   ],
   "source": [
    "brazil_final.shape"
   ]
  },
  {
   "cell_type": "code",
   "execution_count": 63,
   "metadata": {},
   "outputs": [],
   "source": [
    "brazil_final = brazil_final.dropna(subset=[\"url\",\"text\"])\n",
    "brazil_final = brazil_final.drop_duplicates(subset='url')\n"
   ]
  },
  {
   "cell_type": "code",
   "execution_count": 64,
   "metadata": {},
   "outputs": [
    {
     "data": {
      "text/plain": [
       "(7638, 6)"
      ]
     },
     "execution_count": 64,
     "metadata": {},
     "output_type": "execute_result"
    }
   ],
   "source": [
    "brazil_final.shape"
   ]
  },
  {
   "cell_type": "code",
   "execution_count": 66,
   "metadata": {},
   "outputs": [],
   "source": [
    "brazil_final.to_csv(\"brazil_final.csv\",index=False)"
   ]
  },
  {
   "cell_type": "code",
   "execution_count": null,
   "metadata": {},
   "outputs": [],
   "source": []
  }
 ],
 "metadata": {
  "kernelspec": {
   "display_name": "Python 3",
   "language": "python",
   "name": "python3"
  },
  "language_info": {
   "codemirror_mode": {
    "name": "ipython",
    "version": 3
   },
   "file_extension": ".py",
   "mimetype": "text/x-python",
   "name": "python",
   "nbconvert_exporter": "python",
   "pygments_lexer": "ipython3",
   "version": "3.8.5"
  }
 },
 "nbformat": 4,
 "nbformat_minor": 4
}
