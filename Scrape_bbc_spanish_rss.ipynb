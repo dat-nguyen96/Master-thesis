{
 "cells": [
  {
   "cell_type": "code",
   "execution_count": 64,
   "metadata": {},
   "outputs": [],
   "source": [
    "import urllib.request,sys,time\n",
    "from bs4 import BeautifulSoup\n",
    "import requests\n",
    "import pandas as pd\n",
    "import numpy as np\n",
    "import re\n",
    "import feedparser\n",
    "import os\n",
    "import numpy as np\n",
    "from requests import Session\n",
    "from multiprocessing.dummy import Pool as ThreadPool"
   ]
  },
  {
   "cell_type": "code",
   "execution_count": 65,
   "metadata": {},
   "outputs": [],
   "source": [
    "data = pd.DataFrame([])\n",
    "Internacional= \"http://www.bbc.co.uk/mundo/temas/internacional/index.xml\"\n",
    "parser = feedparser.parse(Internacional)\n",
    "for post in parser.entries:\n",
    "    try:\n",
    "        title = post.title\n",
    "        link = post.link\n",
    "        date = post.published\n",
    "        data = data.append(pd.DataFrame({'title': title, 'url': link,'date' : date}, index=[0]), ignore_index=True)\n",
    "    except:\n",
    "        continue"
   ]
  },
  {
   "cell_type": "code",
   "execution_count": 98,
   "metadata": {},
   "outputs": [],
   "source": [
    "data[\"category\"] = \"internacional\""
   ]
  },
  {
   "cell_type": "code",
   "execution_count": 81,
   "metadata": {},
   "outputs": [],
   "source": [
    "data2 = pd.DataFrame([])\n",
    "ultimas = \"http://www.bbc.co.uk/mundo/ultimas_noticias/index.xml\"\n",
    "parser = feedparser.parse(ultimas)\n",
    "for post in parser.entries:\n",
    "    try:\n",
    "        title = post.title\n",
    "        link = post.link\n",
    "        date = post.published\n",
    "        data2 = data2.append(pd.DataFrame({'title': title, 'url': link,'date' : date}, index=[0]), ignore_index=True)\n",
    "    except:\n",
    "        continue"
   ]
  },
  {
   "cell_type": "code",
   "execution_count": 97,
   "metadata": {},
   "outputs": [],
   "source": [
    "data2[\"category\"] = \"ultimas\""
   ]
  },
  {
   "cell_type": "code",
   "execution_count": 79,
   "metadata": {},
   "outputs": [],
   "source": [
    "data3 = pd.DataFrame([])\n",
    "latina = \"https://www.bbc.com/mundo/temas/america_latina/index.xml\"\n",
    "parser = feedparser.parse(latina)\n",
    "for post in parser.entries:\n",
    "    try:\n",
    "        title = post.title\n",
    "        link = post.link\n",
    "        date = post.published\n",
    "        data3 = data3.append(pd.DataFrame({'title': title, 'url': link,'date' : date}, index=[0]), ignore_index=True)\n",
    "    except:\n",
    "        continue"
   ]
  },
  {
   "cell_type": "code",
   "execution_count": 96,
   "metadata": {},
   "outputs": [],
   "source": [
    "data3[\"category\"] = \"latina\""
   ]
  },
  {
   "cell_type": "code",
   "execution_count": 77,
   "metadata": {},
   "outputs": [],
   "source": [
    "data4 = pd.DataFrame([])\n",
    "ciencia = \"https://www.bbc.com/mundo/temas/ciencia/index.xml\"\n",
    "parser = feedparser.parse(ciencia)\n",
    "for post in parser.entries:\n",
    "    try:\n",
    "        title = post.title\n",
    "        link = post.link\n",
    "        date = post.published\n",
    "        data4 = data4.append(pd.DataFrame({'title': title, 'url': link,'date' : date}, index=[0]), ignore_index=True)\n",
    "    except:\n",
    "        continue"
   ]
  },
  {
   "cell_type": "code",
   "execution_count": 95,
   "metadata": {},
   "outputs": [],
   "source": [
    "data4[\"category\"] = \"ciencia\""
   ]
  },
  {
   "cell_type": "code",
   "execution_count": 83,
   "metadata": {},
   "outputs": [],
   "source": [
    "data5 = pd.DataFrame([])\n",
    "salud = \"http://www.bbc.co.uk/mundo/temas/salud/index.xml\"\n",
    "parser = feedparser.parse(salud)\n",
    "for post in parser.entries:\n",
    "    try:\n",
    "        title = post.title\n",
    "        link = post.link\n",
    "        date = post.published\n",
    "        data5 = data5.append(pd.DataFrame({'title': title, 'url': link,'date' : date}, index=[0]), ignore_index=True)\n",
    "    except:\n",
    "        continue"
   ]
  },
  {
   "cell_type": "code",
   "execution_count": 94,
   "metadata": {},
   "outputs": [],
   "source": [
    "data5[\"category\"] = \"salud\""
   ]
  },
  {
   "cell_type": "code",
   "execution_count": 85,
   "metadata": {},
   "outputs": [],
   "source": [
    "data6 = pd.DataFrame([])\n",
    "tecnologia =  \"http://www.bbc.co.uk/mundo/temas/tecnologia/index.xml\"\n",
    "parser = feedparser.parse(tecnologia)\n",
    "for post in parser.entries:\n",
    "    try:\n",
    "        title = post.title\n",
    "        link = post.link\n",
    "        date = post.published\n",
    "        data6 = data6.append(pd.DataFrame({'title': title, 'url': link,'date' : date}, index=[0]), ignore_index=True)\n",
    "    except:\n",
    "        continue"
   ]
  },
  {
   "cell_type": "code",
   "execution_count": 93,
   "metadata": {},
   "outputs": [],
   "source": [
    "data6[\"category\"] = \"tecnologia\""
   ]
  },
  {
   "cell_type": "code",
   "execution_count": 87,
   "metadata": {},
   "outputs": [],
   "source": [
    "data7 = pd.DataFrame([])\n",
    "economia = \"http://www.bbc.co.uk/mundo/temas/economia/index.xml\"\n",
    "parser = feedparser.parse(economia)\n",
    "for post in parser.entries:\n",
    "    try:\n",
    "        title = post.title\n",
    "        link = post.link\n",
    "        date = post.published\n",
    "        data7 = data7.append(pd.DataFrame({'title': title, 'url': link,'date' : date}, index=[0]), ignore_index=True)\n",
    "    except:\n",
    "        continue"
   ]
  },
  {
   "cell_type": "code",
   "execution_count": 92,
   "metadata": {},
   "outputs": [],
   "source": [
    "data7[\"category\"] = \"economia\""
   ]
  },
  {
   "cell_type": "code",
   "execution_count": 89,
   "metadata": {},
   "outputs": [],
   "source": [
    "data8 = pd.DataFrame([])\n",
    "cultura =  \"http://www.bbc.co.uk/mundo/temas/cultura/index.xml\"\n",
    "parser = feedparser.parse(cultura)\n",
    "for post in parser.entries:\n",
    "    try:\n",
    "        title = post.title\n",
    "        link = post.link\n",
    "        date = post.published\n",
    "        data8 = data8.append(pd.DataFrame({'title': title, 'url': link,'date' : date}, index=[0]), ignore_index=True)\n",
    "    except:\n",
    "        continue"
   ]
  },
  {
   "cell_type": "code",
   "execution_count": 91,
   "metadata": {},
   "outputs": [],
   "source": [
    "data8[\"category\"] = \"cultura\""
   ]
  },
  {
   "cell_type": "code",
   "execution_count": 99,
   "metadata": {},
   "outputs": [],
   "source": [
    "data_all = data.append([data2,data3,data4,data5,data6,data7,data8], ignore_index=True)"
   ]
  },
  {
   "cell_type": "code",
   "execution_count": 100,
   "metadata": {},
   "outputs": [],
   "source": [
    "data_all = data_all.drop_duplicates(subset='url')"
   ]
  },
  {
   "cell_type": "code",
   "execution_count": 101,
   "metadata": {},
   "outputs": [
    {
     "data": {
      "text/plain": [
       "(652, 4)"
      ]
     },
     "execution_count": 101,
     "metadata": {},
     "output_type": "execute_result"
    }
   ],
   "source": [
    "data_all.shape"
   ]
  },
  {
   "cell_type": "markdown",
   "metadata": {},
   "source": [
    "### Now with slightly different rss feed"
   ]
  },
  {
   "cell_type": "code",
   "execution_count": 102,
   "metadata": {},
   "outputs": [],
   "source": [
    "data = pd.DataFrame([])\n",
    "Internacional= \"http://feeds.bbci.co.uk/mundo/rss.xml\"\n",
    "parser = feedparser.parse(Internacional)\n",
    "for post in parser.entries:\n",
    "    try:\n",
    "        title = post.title\n",
    "        link = post.link\n",
    "        date = post.published\n",
    "        data = data.append(pd.DataFrame({'title': title, 'url': link,'date' : date}, index=[0]), ignore_index=True)\n",
    "    except:\n",
    "        continue\n",
    "data[\"category\"] = \"internacional\"\n",
    "\n",
    "data2 = pd.DataFrame([])\n",
    "ultimas = \"http://feeds.bbci.co.uk/mundo/internacional/rss.xml\"\n",
    "parser = feedparser.parse(ultimas)\n",
    "for post in parser.entries:\n",
    "    try:\n",
    "        title = post.title\n",
    "        link = post.link\n",
    "        date = post.published\n",
    "        data2 = data2.append(pd.DataFrame({'title': title, 'url': link,'date' : date}, index=[0]), ignore_index=True)\n",
    "    except:\n",
    "        continue\n",
    "data2[\"category\"] = \"internacional\"\n",
    "\n",
    "data22 = pd.DataFrame([])\n",
    "ultimas = \"http://feeds.bbci.co.uk/mundo/temas/internacional/rss.xml\"\n",
    "parser = feedparser.parse(ultimas)\n",
    "for post in parser.entries:\n",
    "    try:\n",
    "        title = post.title\n",
    "        link = post.link\n",
    "        date = post.published\n",
    "        data22 = data22.append(pd.DataFrame({'title': title, 'url': link,'date' : date}, index=[0]), ignore_index=True)\n",
    "    except:\n",
    "        continue\n",
    "data22[\"category\"] = \"internacional\"\n",
    "\n",
    "\n",
    "data3 = pd.DataFrame([])\n",
    "latina = \"http://feeds.bbci.co.uk/mundo/temas/america_latina/rss.xml\"\n",
    "parser = feedparser.parse(latina)\n",
    "for post in parser.entries:\n",
    "    try:\n",
    "        title = post.title\n",
    "        link = post.link\n",
    "        date = post.published\n",
    "        data3 = data3.append(pd.DataFrame({'title': title, 'url': link,'date' : date}, index=[0]), ignore_index=True)\n",
    "    except:\n",
    "        continue\n",
    "        \n",
    "data3[\"category\"] = \"latina\"\n",
    "\n",
    "data4 = pd.DataFrame([])\n",
    "ciencia = \"http://feeds.bbci.co.uk/mundo/temas/ciencia/rss.xml\"\n",
    "parser = feedparser.parse(ciencia)\n",
    "for post in parser.entries:\n",
    "    try:\n",
    "        title = post.title\n",
    "        link = post.link\n",
    "        date = post.published\n",
    "        data4 = data4.append(pd.DataFrame({'title': title, 'url': link,'date' : date}, index=[0]), ignore_index=True)\n",
    "    except:\n",
    "        continue\n",
    "        \n",
    "data4[\"category\"] = \"ciencia\"\n",
    "\n",
    "data5 = pd.DataFrame([])\n",
    "salud = \"http://feeds.bbci.co.uk/mundo/temas/salud/rss.xml\"\n",
    "parser = feedparser.parse(salud)\n",
    "for post in parser.entries:\n",
    "    try:\n",
    "        title = post.title\n",
    "        link = post.link\n",
    "        date = post.published\n",
    "        data5 = data5.append(pd.DataFrame({'title': title, 'url': link,'date' : date}, index=[0]), ignore_index=True)\n",
    "    except:\n",
    "        continue\n",
    "        \n",
    "data5[\"category\"] = \"salud\"\n",
    "\n",
    "data6 = pd.DataFrame([])\n",
    "tecnologia =  \"http://feeds.bbci.co.uk/mundo/temas/tecnologia/rss.xml\"\n",
    "parser = feedparser.parse(tecnologia)\n",
    "for post in parser.entries:\n",
    "    try:\n",
    "        title = post.title\n",
    "        link = post.link\n",
    "        date = post.published\n",
    "        data6 = data6.append(pd.DataFrame({'title': title, 'url': link,'date' : date}, index=[0]), ignore_index=True)\n",
    "    except:\n",
    "        continue\n",
    "data6[\"category\"] = \"tecnologia\"        \n",
    "\n",
    "data7 = pd.DataFrame([])\n",
    "economia = \"http://feeds.bbci.co.uk/mundo/temas/economia/rss.xml\"\n",
    "parser = feedparser.parse(economia)\n",
    "for post in parser.entries:\n",
    "    try:\n",
    "        title = post.title\n",
    "        link = post.link\n",
    "        date = post.published\n",
    "        data7 = data7.append(pd.DataFrame({'title': title, 'url': link,'date' : date}, index=[0]), ignore_index=True)\n",
    "    except:\n",
    "        continue\n",
    "data7[\"category\"] = \"economia\"   \n",
    "        \n",
    "data8 = pd.DataFrame([])\n",
    "cultura = \"http://feeds.bbci.co.uk/mundo/temas/cultura/rss.xml\"\n",
    "parser = feedparser.parse(cultura)\n",
    "for post in parser.entries:\n",
    "    try:\n",
    "        title = post.title\n",
    "        link = post.link\n",
    "        date = post.published\n",
    "        data8 = data8.append(pd.DataFrame({'title': title, 'url': link,'date' : date}, index=[0]), ignore_index=True)\n",
    "    except:\n",
    "        continue\n",
    "data8[\"category\"] = \"cultura\"   \n",
    "\n"
   ]
  },
  {
   "cell_type": "code",
   "execution_count": 103,
   "metadata": {},
   "outputs": [],
   "source": [
    "data_all2 = data.append([data2,data22,data3,data4,data5,data6,data7,data8], ignore_index=True)"
   ]
  },
  {
   "cell_type": "code",
   "execution_count": 104,
   "metadata": {},
   "outputs": [
    {
     "data": {
      "text/plain": [
       "(238, 4)"
      ]
     },
     "execution_count": 104,
     "metadata": {},
     "output_type": "execute_result"
    }
   ],
   "source": [
    "data_all2.shape"
   ]
  },
  {
   "cell_type": "code",
   "execution_count": 105,
   "metadata": {},
   "outputs": [],
   "source": [
    "data_all = data_all2.append(data_all,ignore_index=True)"
   ]
  },
  {
   "cell_type": "code",
   "execution_count": 106,
   "metadata": {},
   "outputs": [
    {
     "data": {
      "text/plain": [
       "(890, 4)"
      ]
     },
     "execution_count": 106,
     "metadata": {},
     "output_type": "execute_result"
    }
   ],
   "source": [
    "data_all.shape"
   ]
  },
  {
   "cell_type": "code",
   "execution_count": 107,
   "metadata": {},
   "outputs": [],
   "source": [
    "data_all = data_all.drop_duplicates(subset='url')"
   ]
  },
  {
   "cell_type": "code",
   "execution_count": 108,
   "metadata": {},
   "outputs": [
    {
     "data": {
      "text/plain": [
       "(851, 4)"
      ]
     },
     "execution_count": 108,
     "metadata": {},
     "output_type": "execute_result"
    }
   ],
   "source": [
    "data_all.shape"
   ]
  },
  {
   "cell_type": "code",
   "execution_count": 145,
   "metadata": {},
   "outputs": [],
   "source": [
    "data_all.to_csv(\"bbc_actual_rss_sp.csv\",index=False)"
   ]
  },
  {
   "cell_type": "code",
   "execution_count": 109,
   "metadata": {},
   "outputs": [],
   "source": [
    "#waybackmachine scraper\n",
    "#wayback-machine-scraper -a 'http://www.bbc.co.uk/mundo/temas/cultura/index.xml$' http://www.bbc.co.uk/mundo/temas/cultura/index.xml\n",
    "#wayback-machine-scraper -a 'http://www.bbc.co.uk/mundo/temas/tecnologia/index.xml$' http://www.bbc.co.uk/mundo/temas/tecnologia/index.xml\n",
    "#wayback-machine-scraper -a 'http://www.bbc.co.uk/mundo/temas/salud/index.xml$' http://www.bbc.co.uk/mundo/temas/salud/index.xml\n",
    "#wayback-machine-scraper -a 'https://www.bbc.com/mundo/temas/america_latina/index.xml$' https://www.bbc.com/mundo/temas/america_latina/index.xml\n",
    "#wayback-machine-scraper -a 'http://www.bbc.co.uk/mundo/ultimas_noticias/index.xml$' http://www.bbc.co.uk/mundo/ultimas_noticias/index.xml\n",
    "#wayback-machine-scraper -a 'http://www.bbc.co.uk/mundo/temas/internacional/index.xml$' http://www.bbc.co.uk/mundo/temas/internacional/index.xml\n",
    "#wayback-machine-scraper -a 'http://feeds.bbci.co.uk/mundo/temas/cultura/rss.xml$' http://feeds.bbci.co.uk/mundo/temas/cultura/rss.xml\n",
    "#wayback-machine-scraper -a 'http://feeds.bbci.co.uk/mundo/temas/ciencia/rss.xml$' http://feeds.bbci.co.uk/mundo/temas/ciencia/rss.xml\n",
    "#wayback-machine-scraper -a 'http://feeds.bbci.co.uk/mundo/temas/economia/rss.xml$' http://feeds.bbci.co.uk/mundo/temas/economia/rss.xml\n",
    "#wayback-machine-scraper -a 'http://feeds.bbci.co.uk/mundo/temas/salud/rss.xml$' http://feeds.bbci.co.uk/mundo/temas/salud/rss.xml\n",
    "#wayback-machine-scraper -a 'http://feeds.bbci.co.uk/mundo/temas/america_latina/rss.xml$' http://feeds.bbci.co.uk/mundo/temas/america_latina/rss.xml\n",
    "#wayback-machine-scraper -a 'http://feeds.bbci.co.uk/mundo/temas/internacional/rss.xml$' http://feeds.bbci.co.uk/mundo/temas/internacional/rss.xml\n",
    "#wayback-machine-scraper -a 'http://feeds.bbci.co.uk/mundo/internacional/rss.xml$' http://feeds.bbci.co.uk/mundo/internacional/rss.xml\n",
    "\n"
   ]
  },
  {
   "cell_type": "code",
   "execution_count": 110,
   "metadata": {},
   "outputs": [],
   "source": [
    "# Getting the current work directory (cwd)\n",
    "thisdir = os.getcwd()\n",
    "snapshots = []\n",
    "\n",
    "# r=root, d=directories, f = files\n",
    "for r, d, f in os.walk(thisdir+\"/sp\"):\n",
    "    for file in f:\n",
    "        if file.endswith(\".snapshot\"):\n",
    "            snapshots.append(os.path.join(r, file))"
   ]
  },
  {
   "cell_type": "code",
   "execution_count": 111,
   "metadata": {},
   "outputs": [
    {
     "data": {
      "text/plain": [
       "2152"
      ]
     },
     "execution_count": 111,
     "metadata": {},
     "output_type": "execute_result"
    }
   ],
   "source": [
    "len(snapshots)"
   ]
  },
  {
   "cell_type": "code",
   "execution_count": 112,
   "metadata": {},
   "outputs": [
    {
     "ename": "KeyboardInterrupt",
     "evalue": "",
     "output_type": "error",
     "traceback": [
      "\u001b[0;31m---------------------------------------------------------------------------\u001b[0m",
      "\u001b[0;31mKeyboardInterrupt\u001b[0m                         Traceback (most recent call last)",
      "\u001b[0;32m<ipython-input-112-16734e179601>\u001b[0m in \u001b[0;36m<module>\u001b[0;34m\u001b[0m\n\u001b[1;32m      1\u001b[0m \u001b[0mdata\u001b[0m \u001b[0;34m=\u001b[0m \u001b[0mpd\u001b[0m\u001b[0;34m.\u001b[0m\u001b[0mDataFrame\u001b[0m\u001b[0;34m(\u001b[0m\u001b[0;34m[\u001b[0m\u001b[0;34m]\u001b[0m\u001b[0;34m)\u001b[0m\u001b[0;34m\u001b[0m\u001b[0;34m\u001b[0m\u001b[0m\n\u001b[1;32m      2\u001b[0m \u001b[0;32mfor\u001b[0m \u001b[0msnap\u001b[0m \u001b[0;32min\u001b[0m \u001b[0msnapshots\u001b[0m\u001b[0;34m:\u001b[0m\u001b[0;34m\u001b[0m\u001b[0;34m\u001b[0m\u001b[0m\n\u001b[0;32m----> 3\u001b[0;31m     \u001b[0mparser\u001b[0m \u001b[0;34m=\u001b[0m \u001b[0mfeedparser\u001b[0m\u001b[0;34m.\u001b[0m\u001b[0mparse\u001b[0m\u001b[0;34m(\u001b[0m\u001b[0msnap\u001b[0m\u001b[0;34m)\u001b[0m\u001b[0;34m\u001b[0m\u001b[0;34m\u001b[0m\u001b[0m\n\u001b[0m\u001b[1;32m      4\u001b[0m     \u001b[0;32mfor\u001b[0m \u001b[0mpost\u001b[0m \u001b[0;32min\u001b[0m \u001b[0mparser\u001b[0m\u001b[0;34m.\u001b[0m\u001b[0mentries\u001b[0m\u001b[0;34m:\u001b[0m\u001b[0;34m\u001b[0m\u001b[0;34m\u001b[0m\u001b[0m\n\u001b[1;32m      5\u001b[0m         \u001b[0;32mtry\u001b[0m\u001b[0;34m:\u001b[0m\u001b[0;34m\u001b[0m\u001b[0;34m\u001b[0m\u001b[0m\n",
      "\u001b[0;32m~/opt/anaconda3/lib/python3.8/site-packages/feedparser/api.py\u001b[0m in \u001b[0;36mparse\u001b[0;34m(url_file_stream_or_string, etag, modified, agent, referrer, handlers, request_headers, response_headers, resolve_relative_uris, sanitize_html)\u001b[0m\n\u001b[1;32m    253\u001b[0m         \u001b[0msource\u001b[0m\u001b[0;34m.\u001b[0m\u001b[0msetByteStream\u001b[0m\u001b[0;34m(\u001b[0m\u001b[0mio\u001b[0m\u001b[0;34m.\u001b[0m\u001b[0mBytesIO\u001b[0m\u001b[0;34m(\u001b[0m\u001b[0mdata\u001b[0m\u001b[0;34m)\u001b[0m\u001b[0;34m)\u001b[0m\u001b[0;34m\u001b[0m\u001b[0;34m\u001b[0m\u001b[0m\n\u001b[1;32m    254\u001b[0m         \u001b[0;32mtry\u001b[0m\u001b[0;34m:\u001b[0m\u001b[0;34m\u001b[0m\u001b[0;34m\u001b[0m\u001b[0m\n\u001b[0;32m--> 255\u001b[0;31m             \u001b[0msaxparser\u001b[0m\u001b[0;34m.\u001b[0m\u001b[0mparse\u001b[0m\u001b[0;34m(\u001b[0m\u001b[0msource\u001b[0m\u001b[0;34m)\u001b[0m\u001b[0;34m\u001b[0m\u001b[0;34m\u001b[0m\u001b[0m\n\u001b[0m\u001b[1;32m    256\u001b[0m         \u001b[0;32mexcept\u001b[0m \u001b[0mxml\u001b[0m\u001b[0;34m.\u001b[0m\u001b[0msax\u001b[0m\u001b[0;34m.\u001b[0m\u001b[0mSAXException\u001b[0m \u001b[0;32mas\u001b[0m \u001b[0me\u001b[0m\u001b[0;34m:\u001b[0m\u001b[0;34m\u001b[0m\u001b[0;34m\u001b[0m\u001b[0m\n\u001b[1;32m    257\u001b[0m             \u001b[0mresult\u001b[0m\u001b[0;34m[\u001b[0m\u001b[0;34m'bozo'\u001b[0m\u001b[0;34m]\u001b[0m \u001b[0;34m=\u001b[0m \u001b[0;36m1\u001b[0m\u001b[0;34m\u001b[0m\u001b[0;34m\u001b[0m\u001b[0m\n",
      "\u001b[0;32m~/opt/anaconda3/lib/python3.8/xml/sax/expatreader.py\u001b[0m in \u001b[0;36mparse\u001b[0;34m(self, source)\u001b[0m\n\u001b[1;32m    109\u001b[0m             \u001b[0mself\u001b[0m\u001b[0;34m.\u001b[0m\u001b[0mreset\u001b[0m\u001b[0;34m(\u001b[0m\u001b[0;34m)\u001b[0m\u001b[0;34m\u001b[0m\u001b[0;34m\u001b[0m\u001b[0m\n\u001b[1;32m    110\u001b[0m             \u001b[0mself\u001b[0m\u001b[0;34m.\u001b[0m\u001b[0m_cont_handler\u001b[0m\u001b[0;34m.\u001b[0m\u001b[0msetDocumentLocator\u001b[0m\u001b[0;34m(\u001b[0m\u001b[0mExpatLocator\u001b[0m\u001b[0;34m(\u001b[0m\u001b[0mself\u001b[0m\u001b[0;34m)\u001b[0m\u001b[0;34m)\u001b[0m\u001b[0;34m\u001b[0m\u001b[0;34m\u001b[0m\u001b[0m\n\u001b[0;32m--> 111\u001b[0;31m             \u001b[0mxmlreader\u001b[0m\u001b[0;34m.\u001b[0m\u001b[0mIncrementalParser\u001b[0m\u001b[0;34m.\u001b[0m\u001b[0mparse\u001b[0m\u001b[0;34m(\u001b[0m\u001b[0mself\u001b[0m\u001b[0;34m,\u001b[0m \u001b[0msource\u001b[0m\u001b[0;34m)\u001b[0m\u001b[0;34m\u001b[0m\u001b[0;34m\u001b[0m\u001b[0m\n\u001b[0m\u001b[1;32m    112\u001b[0m         \u001b[0;32mexcept\u001b[0m\u001b[0;34m:\u001b[0m\u001b[0;34m\u001b[0m\u001b[0;34m\u001b[0m\u001b[0m\n\u001b[1;32m    113\u001b[0m             \u001b[0;31m# bpo-30264: Close the source on error to not leak resources:\u001b[0m\u001b[0;34m\u001b[0m\u001b[0;34m\u001b[0m\u001b[0;34m\u001b[0m\u001b[0m\n",
      "\u001b[0;32m~/opt/anaconda3/lib/python3.8/xml/sax/xmlreader.py\u001b[0m in \u001b[0;36mparse\u001b[0;34m(self, source)\u001b[0m\n\u001b[1;32m    123\u001b[0m         \u001b[0mbuffer\u001b[0m \u001b[0;34m=\u001b[0m \u001b[0mfile\u001b[0m\u001b[0;34m.\u001b[0m\u001b[0mread\u001b[0m\u001b[0;34m(\u001b[0m\u001b[0mself\u001b[0m\u001b[0;34m.\u001b[0m\u001b[0m_bufsize\u001b[0m\u001b[0;34m)\u001b[0m\u001b[0;34m\u001b[0m\u001b[0;34m\u001b[0m\u001b[0m\n\u001b[1;32m    124\u001b[0m         \u001b[0;32mwhile\u001b[0m \u001b[0mbuffer\u001b[0m\u001b[0;34m:\u001b[0m\u001b[0;34m\u001b[0m\u001b[0;34m\u001b[0m\u001b[0m\n\u001b[0;32m--> 125\u001b[0;31m             \u001b[0mself\u001b[0m\u001b[0;34m.\u001b[0m\u001b[0mfeed\u001b[0m\u001b[0;34m(\u001b[0m\u001b[0mbuffer\u001b[0m\u001b[0;34m)\u001b[0m\u001b[0;34m\u001b[0m\u001b[0;34m\u001b[0m\u001b[0m\n\u001b[0m\u001b[1;32m    126\u001b[0m             \u001b[0mbuffer\u001b[0m \u001b[0;34m=\u001b[0m \u001b[0mfile\u001b[0m\u001b[0;34m.\u001b[0m\u001b[0mread\u001b[0m\u001b[0;34m(\u001b[0m\u001b[0mself\u001b[0m\u001b[0;34m.\u001b[0m\u001b[0m_bufsize\u001b[0m\u001b[0;34m)\u001b[0m\u001b[0;34m\u001b[0m\u001b[0;34m\u001b[0m\u001b[0m\n\u001b[1;32m    127\u001b[0m         \u001b[0mself\u001b[0m\u001b[0;34m.\u001b[0m\u001b[0mclose\u001b[0m\u001b[0;34m(\u001b[0m\u001b[0;34m)\u001b[0m\u001b[0;34m\u001b[0m\u001b[0;34m\u001b[0m\u001b[0m\n",
      "\u001b[0;32m~/opt/anaconda3/lib/python3.8/xml/sax/expatreader.py\u001b[0m in \u001b[0;36mfeed\u001b[0;34m(self, data, isFinal)\u001b[0m\n\u001b[1;32m    215\u001b[0m             \u001b[0;31m# document. When feeding chunks, they are not normally final -\u001b[0m\u001b[0;34m\u001b[0m\u001b[0;34m\u001b[0m\u001b[0;34m\u001b[0m\u001b[0m\n\u001b[1;32m    216\u001b[0m             \u001b[0;31m# except when invoked from close.\u001b[0m\u001b[0;34m\u001b[0m\u001b[0;34m\u001b[0m\u001b[0;34m\u001b[0m\u001b[0m\n\u001b[0;32m--> 217\u001b[0;31m             \u001b[0mself\u001b[0m\u001b[0;34m.\u001b[0m\u001b[0m_parser\u001b[0m\u001b[0;34m.\u001b[0m\u001b[0mParse\u001b[0m\u001b[0;34m(\u001b[0m\u001b[0mdata\u001b[0m\u001b[0;34m,\u001b[0m \u001b[0misFinal\u001b[0m\u001b[0;34m)\u001b[0m\u001b[0;34m\u001b[0m\u001b[0;34m\u001b[0m\u001b[0m\n\u001b[0m\u001b[1;32m    218\u001b[0m         \u001b[0;32mexcept\u001b[0m \u001b[0mexpat\u001b[0m\u001b[0;34m.\u001b[0m\u001b[0merror\u001b[0m \u001b[0;32mas\u001b[0m \u001b[0me\u001b[0m\u001b[0;34m:\u001b[0m\u001b[0;34m\u001b[0m\u001b[0;34m\u001b[0m\u001b[0m\n\u001b[1;32m    219\u001b[0m             \u001b[0mexc\u001b[0m \u001b[0;34m=\u001b[0m \u001b[0mSAXParseException\u001b[0m\u001b[0;34m(\u001b[0m\u001b[0mexpat\u001b[0m\u001b[0;34m.\u001b[0m\u001b[0mErrorString\u001b[0m\u001b[0;34m(\u001b[0m\u001b[0me\u001b[0m\u001b[0;34m.\u001b[0m\u001b[0mcode\u001b[0m\u001b[0;34m)\u001b[0m\u001b[0;34m,\u001b[0m \u001b[0me\u001b[0m\u001b[0;34m,\u001b[0m \u001b[0mself\u001b[0m\u001b[0;34m)\u001b[0m\u001b[0;34m\u001b[0m\u001b[0;34m\u001b[0m\u001b[0m\n",
      "\u001b[0;32m/opt/concourse/worker/volumes/live/71f8613d-c53a-40aa-4c7b-351131b1952c/volume/python_1599203882312/work/Modules/pyexpat.c\u001b[0m in \u001b[0;36mEndElement\u001b[0;34m()\u001b[0m\n",
      "\u001b[0;32m~/opt/anaconda3/lib/python3.8/xml/sax/expatreader.py\u001b[0m in \u001b[0;36mend_element_ns\u001b[0;34m(self, name)\u001b[0m\n\u001b[1;32m    379\u001b[0m             \u001b[0mpair\u001b[0m \u001b[0;34m=\u001b[0m \u001b[0mtuple\u001b[0m\u001b[0;34m(\u001b[0m\u001b[0mpair\u001b[0m\u001b[0;34m)\u001b[0m\u001b[0;34m\u001b[0m\u001b[0;34m\u001b[0m\u001b[0m\n\u001b[1;32m    380\u001b[0m \u001b[0;34m\u001b[0m\u001b[0m\n\u001b[0;32m--> 381\u001b[0;31m         \u001b[0mself\u001b[0m\u001b[0;34m.\u001b[0m\u001b[0m_cont_handler\u001b[0m\u001b[0;34m.\u001b[0m\u001b[0mendElementNS\u001b[0m\u001b[0;34m(\u001b[0m\u001b[0mpair\u001b[0m\u001b[0;34m,\u001b[0m \u001b[0;32mNone\u001b[0m\u001b[0;34m)\u001b[0m\u001b[0;34m\u001b[0m\u001b[0;34m\u001b[0m\u001b[0m\n\u001b[0m\u001b[1;32m    382\u001b[0m \u001b[0;34m\u001b[0m\u001b[0m\n\u001b[1;32m    383\u001b[0m     \u001b[0;31m# this is not used (call directly to ContentHandler)\u001b[0m\u001b[0;34m\u001b[0m\u001b[0;34m\u001b[0m\u001b[0;34m\u001b[0m\u001b[0m\n",
      "\u001b[0;32m~/opt/anaconda3/lib/python3.8/site-packages/feedparser/parsers/strict.py\u001b[0m in \u001b[0;36mendElementNS\u001b[0;34m(self, name, qname)\u001b[0m\n\u001b[1;32m    122\u001b[0m                     \u001b[0;32mbreak\u001b[0m\u001b[0;34m\u001b[0m\u001b[0;34m\u001b[0m\u001b[0m\n\u001b[1;32m    123\u001b[0m         \u001b[0mlocalname\u001b[0m \u001b[0;34m=\u001b[0m \u001b[0mstr\u001b[0m\u001b[0;34m(\u001b[0m\u001b[0mlocalname\u001b[0m\u001b[0;34m)\u001b[0m\u001b[0;34m.\u001b[0m\u001b[0mlower\u001b[0m\u001b[0;34m(\u001b[0m\u001b[0;34m)\u001b[0m\u001b[0;34m\u001b[0m\u001b[0;34m\u001b[0m\u001b[0m\n\u001b[0;32m--> 124\u001b[0;31m         \u001b[0mself\u001b[0m\u001b[0;34m.\u001b[0m\u001b[0munknown_endtag\u001b[0m\u001b[0;34m(\u001b[0m\u001b[0mlocalname\u001b[0m\u001b[0;34m)\u001b[0m\u001b[0;34m\u001b[0m\u001b[0;34m\u001b[0m\u001b[0m\n\u001b[0m\u001b[1;32m    125\u001b[0m \u001b[0;34m\u001b[0m\u001b[0m\n\u001b[1;32m    126\u001b[0m     \u001b[0;32mdef\u001b[0m \u001b[0merror\u001b[0m\u001b[0;34m(\u001b[0m\u001b[0mself\u001b[0m\u001b[0;34m,\u001b[0m \u001b[0mexc\u001b[0m\u001b[0;34m)\u001b[0m\u001b[0;34m:\u001b[0m\u001b[0;34m\u001b[0m\u001b[0;34m\u001b[0m\u001b[0m\n",
      "\u001b[0;32m~/opt/anaconda3/lib/python3.8/site-packages/feedparser/mixin.py\u001b[0m in \u001b[0;36munknown_endtag\u001b[0;34m(self, tag)\u001b[0m\n\u001b[1;32m    318\u001b[0m                 \u001b[0;32mraise\u001b[0m \u001b[0mAttributeError\u001b[0m\u001b[0;34m(\u001b[0m\u001b[0;34m)\u001b[0m\u001b[0;34m\u001b[0m\u001b[0;34m\u001b[0m\u001b[0m\n\u001b[1;32m    319\u001b[0m             \u001b[0mmethod\u001b[0m \u001b[0;34m=\u001b[0m \u001b[0mgetattr\u001b[0m\u001b[0;34m(\u001b[0m\u001b[0mself\u001b[0m\u001b[0;34m,\u001b[0m \u001b[0mmethodname\u001b[0m\u001b[0;34m)\u001b[0m\u001b[0;34m\u001b[0m\u001b[0;34m\u001b[0m\u001b[0m\n\u001b[0;32m--> 320\u001b[0;31m             \u001b[0mmethod\u001b[0m\u001b[0;34m(\u001b[0m\u001b[0;34m)\u001b[0m\u001b[0;34m\u001b[0m\u001b[0;34m\u001b[0m\u001b[0m\n\u001b[0m\u001b[1;32m    321\u001b[0m         \u001b[0;32mexcept\u001b[0m \u001b[0mAttributeError\u001b[0m\u001b[0;34m:\u001b[0m\u001b[0;34m\u001b[0m\u001b[0;34m\u001b[0m\u001b[0m\n\u001b[1;32m    322\u001b[0m             \u001b[0mself\u001b[0m\u001b[0;34m.\u001b[0m\u001b[0mpop\u001b[0m\u001b[0;34m(\u001b[0m\u001b[0mprefix\u001b[0m \u001b[0;34m+\u001b[0m \u001b[0msuffix\u001b[0m\u001b[0;34m)\u001b[0m\u001b[0;34m\u001b[0m\u001b[0;34m\u001b[0m\u001b[0m\n",
      "\u001b[0;32m~/opt/anaconda3/lib/python3.8/site-packages/feedparser/namespaces/_base.py\u001b[0m in \u001b[0;36m_end_summary\u001b[0;34m(self)\u001b[0m\n\u001b[1;32m    441\u001b[0m             \u001b[0mself\u001b[0m\u001b[0;34m.\u001b[0m\u001b[0m_end_content\u001b[0m\u001b[0;34m(\u001b[0m\u001b[0;34m)\u001b[0m\u001b[0;34m\u001b[0m\u001b[0;34m\u001b[0m\u001b[0m\n\u001b[1;32m    442\u001b[0m         \u001b[0;32melse\u001b[0m\u001b[0;34m:\u001b[0m\u001b[0;34m\u001b[0m\u001b[0;34m\u001b[0m\u001b[0m\n\u001b[0;32m--> 443\u001b[0;31m             \u001b[0mself\u001b[0m\u001b[0;34m.\u001b[0m\u001b[0mpop_content\u001b[0m\u001b[0;34m(\u001b[0m\u001b[0mself\u001b[0m\u001b[0;34m.\u001b[0m\u001b[0m_summaryKey\u001b[0m \u001b[0;32mor\u001b[0m \u001b[0;34m'summary'\u001b[0m\u001b[0;34m)\u001b[0m\u001b[0;34m\u001b[0m\u001b[0;34m\u001b[0m\u001b[0m\n\u001b[0m\u001b[1;32m    444\u001b[0m         \u001b[0mself\u001b[0m\u001b[0;34m.\u001b[0m\u001b[0m_summaryKey\u001b[0m \u001b[0;34m=\u001b[0m \u001b[0;32mNone\u001b[0m\u001b[0;34m\u001b[0m\u001b[0;34m\u001b[0m\u001b[0m\n\u001b[1;32m    445\u001b[0m \u001b[0;34m\u001b[0m\u001b[0m\n",
      "\u001b[0;32m~/opt/anaconda3/lib/python3.8/site-packages/feedparser/mixin.py\u001b[0m in \u001b[0;36mpop_content\u001b[0;34m(self, tag)\u001b[0m\n\u001b[1;32m    628\u001b[0m \u001b[0;34m\u001b[0m\u001b[0m\n\u001b[1;32m    629\u001b[0m     \u001b[0;32mdef\u001b[0m \u001b[0mpop_content\u001b[0m\u001b[0;34m(\u001b[0m\u001b[0mself\u001b[0m\u001b[0;34m,\u001b[0m \u001b[0mtag\u001b[0m\u001b[0;34m)\u001b[0m\u001b[0;34m:\u001b[0m\u001b[0;34m\u001b[0m\u001b[0;34m\u001b[0m\u001b[0m\n\u001b[0;32m--> 630\u001b[0;31m         \u001b[0mvalue\u001b[0m \u001b[0;34m=\u001b[0m \u001b[0mself\u001b[0m\u001b[0;34m.\u001b[0m\u001b[0mpop\u001b[0m\u001b[0;34m(\u001b[0m\u001b[0mtag\u001b[0m\u001b[0;34m)\u001b[0m\u001b[0;34m\u001b[0m\u001b[0;34m\u001b[0m\u001b[0m\n\u001b[0m\u001b[1;32m    631\u001b[0m         \u001b[0mself\u001b[0m\u001b[0;34m.\u001b[0m\u001b[0mincontent\u001b[0m \u001b[0;34m-=\u001b[0m \u001b[0;36m1\u001b[0m\u001b[0;34m\u001b[0m\u001b[0;34m\u001b[0m\u001b[0m\n\u001b[1;32m    632\u001b[0m         \u001b[0mself\u001b[0m\u001b[0;34m.\u001b[0m\u001b[0mcontentparams\u001b[0m\u001b[0;34m.\u001b[0m\u001b[0mclear\u001b[0m\u001b[0;34m(\u001b[0m\u001b[0;34m)\u001b[0m\u001b[0;34m\u001b[0m\u001b[0;34m\u001b[0m\u001b[0m\n",
      "\u001b[0;32m~/opt/anaconda3/lib/python3.8/site-packages/feedparser/mixin.py\u001b[0m in \u001b[0;36mpop\u001b[0;34m(self, element, strip_whitespace)\u001b[0m\n\u001b[1;32m    562\u001b[0m         \u001b[0;31m# map win-1252 extensions to the proper code points\u001b[0m\u001b[0;34m\u001b[0m\u001b[0;34m\u001b[0m\u001b[0;34m\u001b[0m\u001b[0m\n\u001b[1;32m    563\u001b[0m         \u001b[0;32mif\u001b[0m \u001b[0;32mnot\u001b[0m \u001b[0misinstance\u001b[0m\u001b[0;34m(\u001b[0m\u001b[0moutput\u001b[0m\u001b[0;34m,\u001b[0m \u001b[0mbytes\u001b[0m\u001b[0;34m)\u001b[0m\u001b[0;34m:\u001b[0m\u001b[0;34m\u001b[0m\u001b[0;34m\u001b[0m\u001b[0m\n\u001b[0;32m--> 564\u001b[0;31m             \u001b[0moutput\u001b[0m \u001b[0;34m=\u001b[0m \u001b[0moutput\u001b[0m\u001b[0;34m.\u001b[0m\u001b[0mtranslate\u001b[0m\u001b[0;34m(\u001b[0m\u001b[0m_cp1252\u001b[0m\u001b[0;34m)\u001b[0m\u001b[0;34m\u001b[0m\u001b[0;34m\u001b[0m\u001b[0m\n\u001b[0m\u001b[1;32m    565\u001b[0m \u001b[0;34m\u001b[0m\u001b[0m\n\u001b[1;32m    566\u001b[0m         \u001b[0;31m# categories/tags/keywords/whatever are handled in _end_category or\u001b[0m\u001b[0;34m\u001b[0m\u001b[0;34m\u001b[0m\u001b[0;34m\u001b[0m\u001b[0m\n",
      "\u001b[0;31mKeyboardInterrupt\u001b[0m: "
     ]
    }
   ],
   "source": [
    "data = pd.DataFrame([])\n",
    "for snap in snapshots:\n",
    "    parser = feedparser.parse(snap)\n",
    "    for post in parser.entries:\n",
    "        try:\n",
    "            title = post.title\n",
    "            link = post.link\n",
    "            date = post.published\n",
    "            data = data.append(pd.DataFrame({'title': title, 'url': link,'date' : date}, index=[0]), ignore_index=True)\n",
    "        except:\n",
    "            continue\n",
    "    "
   ]
  },
  {
   "cell_type": "code",
   "execution_count": 114,
   "metadata": {},
   "outputs": [
    {
     "data": {
      "text/plain": [
       "(393828, 3)"
      ]
     },
     "execution_count": 114,
     "metadata": {},
     "output_type": "execute_result"
    }
   ],
   "source": [
    "data.shape"
   ]
  },
  {
   "cell_type": "code",
   "execution_count": 115,
   "metadata": {},
   "outputs": [],
   "source": [
    "data = data.drop_duplicates(subset='url')"
   ]
  },
  {
   "cell_type": "code",
   "execution_count": 116,
   "metadata": {},
   "outputs": [
    {
     "data": {
      "text/plain": [
       "(40239, 3)"
      ]
     },
     "execution_count": 116,
     "metadata": {},
     "output_type": "execute_result"
    }
   ],
   "source": [
    "data.shape"
   ]
  },
  {
   "cell_type": "code",
   "execution_count": 141,
   "metadata": {},
   "outputs": [],
   "source": [
    "data = data.dropna()"
   ]
  },
  {
   "cell_type": "code",
   "execution_count": 142,
   "metadata": {},
   "outputs": [
    {
     "data": {
      "text/plain": [
       "(40239, 3)"
      ]
     },
     "execution_count": 142,
     "metadata": {},
     "output_type": "execute_result"
    }
   ],
   "source": [
    "data.shape"
   ]
  },
  {
   "cell_type": "code",
   "execution_count": 144,
   "metadata": {},
   "outputs": [],
   "source": [
    "data.to_csv(\"bbc_rss_sp.csv\",index=False)"
   ]
  },
  {
   "cell_type": "code",
   "execution_count": 191,
   "metadata": {},
   "outputs": [
    {
     "data": {
      "text/html": [
       "<div>\n",
       "<style scoped>\n",
       "    .dataframe tbody tr th:only-of-type {\n",
       "        vertical-align: middle;\n",
       "    }\n",
       "\n",
       "    .dataframe tbody tr th {\n",
       "        vertical-align: top;\n",
       "    }\n",
       "\n",
       "    .dataframe thead th {\n",
       "        text-align: right;\n",
       "    }\n",
       "</style>\n",
       "<table border=\"1\" class=\"dataframe\">\n",
       "  <thead>\n",
       "    <tr style=\"text-align: right;\">\n",
       "      <th></th>\n",
       "      <th>title</th>\n",
       "      <th>url</th>\n",
       "      <th>date</th>\n",
       "    </tr>\n",
       "  </thead>\n",
       "  <tbody>\n",
       "    <tr>\n",
       "      <th>0</th>\n",
       "      <td>Boletín: Primer ataque de EE.UU. y aliados ára...</td>\n",
       "      <td>http://www.bbc.co.uk/mundo/video_fotos/2014/09...</td>\n",
       "      <td>2014-09-23T11:27:42+00:00</td>\n",
       "    </tr>\n",
       "    <tr>\n",
       "      <th>1</th>\n",
       "      <td>Estrato 1, estrato 6: cómo los colombianos hab...</td>\n",
       "      <td>http://www.bbc.co.uk/mundo/noticias/2014/09/14...</td>\n",
       "      <td>2014-09-19T14:49:39+00:00</td>\n",
       "    </tr>\n",
       "    <tr>\n",
       "      <th>2</th>\n",
       "      <td>Las dos vidas de Cantinflas</td>\n",
       "      <td>http://www.bbc.co.uk/mundo/noticias/2014/09/14...</td>\n",
       "      <td>2014-09-20T17:22:01+00:00</td>\n",
       "    </tr>\n",
       "    <tr>\n",
       "      <th>3</th>\n",
       "      <td>Santos: \"No le estoy dando el país a las FARC\"</td>\n",
       "      <td>http://www.bbc.co.uk/mundo/ultimas_noticias/20...</td>\n",
       "      <td>2014-09-23T02:25:37+00:00</td>\n",
       "    </tr>\n",
       "    <tr>\n",
       "      <th>4</th>\n",
       "      <td>Fernández denuncia que con caso \"fondos buitre...</td>\n",
       "      <td>http://www.bbc.co.uk/mundo/ultimas_noticias/20...</td>\n",
       "      <td>2014-09-23T00:22:52+00:00</td>\n",
       "    </tr>\n",
       "  </tbody>\n",
       "</table>\n",
       "</div>"
      ],
      "text/plain": [
       "                                               title  \\\n",
       "0  Boletín: Primer ataque de EE.UU. y aliados ára...   \n",
       "1  Estrato 1, estrato 6: cómo los colombianos hab...   \n",
       "2                        Las dos vidas de Cantinflas   \n",
       "3     Santos: \"No le estoy dando el país a las FARC\"   \n",
       "4  Fernández denuncia que con caso \"fondos buitre...   \n",
       "\n",
       "                                                 url  \\\n",
       "0  http://www.bbc.co.uk/mundo/video_fotos/2014/09...   \n",
       "1  http://www.bbc.co.uk/mundo/noticias/2014/09/14...   \n",
       "2  http://www.bbc.co.uk/mundo/noticias/2014/09/14...   \n",
       "3  http://www.bbc.co.uk/mundo/ultimas_noticias/20...   \n",
       "4  http://www.bbc.co.uk/mundo/ultimas_noticias/20...   \n",
       "\n",
       "                        date  \n",
       "0  2014-09-23T11:27:42+00:00  \n",
       "1  2014-09-19T14:49:39+00:00  \n",
       "2  2014-09-20T17:22:01+00:00  \n",
       "3  2014-09-23T02:25:37+00:00  \n",
       "4  2014-09-23T00:22:52+00:00  "
      ]
     },
     "execution_count": 191,
     "metadata": {},
     "output_type": "execute_result"
    }
   ],
   "source": [
    "data.head()"
   ]
  },
  {
   "cell_type": "code",
   "execution_count": 267,
   "metadata": {},
   "outputs": [],
   "source": [
    "def categorize(x):\n",
    "    if 'cultura' in x:\n",
    "        return \"cultura\"\n",
    "    elif 'tecnologia' in x:\n",
    "        return \"tecnologia\"\n",
    "    elif 'salud' in x:\n",
    "        return \"salud\"\n",
    "    elif 'internacional' in x:\n",
    "        return \"internacional\"\n",
    "    elif 'cultura' in x:\n",
    "        return \"cultura\"\n",
    "    elif 'ciencia' in x:\n",
    "        return \"ciencia\"\n",
    "    elif 'economia' in x:\n",
    "        return \"economia\"\n",
    "    elif 'america_latina' in x:\n",
    "        return \"america_latina\"\n",
    "    elif 'mundo' in x:\n",
    "        return \"mundo\"\n",
    "    else:\n",
    "        return np.nan\n"
   ]
  },
  {
   "cell_type": "code",
   "execution_count": 268,
   "metadata": {},
   "outputs": [],
   "source": [
    "data['category'] = data[\"url\"].apply (lambda x: categorize(x))"
   ]
  },
  {
   "cell_type": "code",
   "execution_count": 203,
   "metadata": {},
   "outputs": [
    {
     "data": {
      "text/plain": [
       "'http://www.bbc.co.uk/mundo/video_fotos/2014/09/140923_video_boletin_noticias_re.shtml'"
      ]
     },
     "execution_count": 203,
     "metadata": {},
     "output_type": "execute_result"
    }
   ],
   "source": [
    "data[\"url\"][0]"
   ]
  },
  {
   "cell_type": "code",
   "execution_count": 189,
   "metadata": {},
   "outputs": [
    {
     "data": {
      "text/plain": [
       "(851, 4)"
      ]
     },
     "execution_count": 189,
     "metadata": {},
     "output_type": "execute_result"
    }
   ],
   "source": [
    "data_all.shape"
   ]
  },
  {
   "cell_type": "code",
   "execution_count": 260,
   "metadata": {},
   "outputs": [
    {
     "data": {
      "text/html": [
       "<div>\n",
       "<style scoped>\n",
       "    .dataframe tbody tr th:only-of-type {\n",
       "        vertical-align: middle;\n",
       "    }\n",
       "\n",
       "    .dataframe tbody tr th {\n",
       "        vertical-align: top;\n",
       "    }\n",
       "\n",
       "    .dataframe thead th {\n",
       "        text-align: right;\n",
       "    }\n",
       "</style>\n",
       "<table border=\"1\" class=\"dataframe\">\n",
       "  <thead>\n",
       "    <tr style=\"text-align: right;\">\n",
       "      <th></th>\n",
       "      <th>title</th>\n",
       "      <th>url</th>\n",
       "      <th>date</th>\n",
       "      <th>category</th>\n",
       "    </tr>\n",
       "  </thead>\n",
       "  <tbody>\n",
       "    <tr>\n",
       "      <th>0</th>\n",
       "      <td>\"Dondequiera que mires hay ambulancias y cadáv...</td>\n",
       "      <td>http://www.bbc.com/mundo/noticias-internaciona...</td>\n",
       "      <td>Wed, 21 Apr 2021 05:17:59 GMT</td>\n",
       "      <td>internacional</td>\n",
       "    </tr>\n",
       "    <tr>\n",
       "      <th>1</th>\n",
       "      <td>Muerte de George Floyd: \"Este veredicto es un ...</td>\n",
       "      <td>http://www.bbc.com/mundo/noticias-internaciona...</td>\n",
       "      <td>Wed, 21 Apr 2021 04:13:12 GMT</td>\n",
       "      <td>internacional</td>\n",
       "    </tr>\n",
       "    <tr>\n",
       "      <th>2</th>\n",
       "      <td>Derek Chauvin: el jurado declara culpable de a...</td>\n",
       "      <td>http://www.bbc.com/mundo/noticias-internaciona...</td>\n",
       "      <td>Tue, 20 Apr 2021 23:55:53 GMT</td>\n",
       "      <td>internacional</td>\n",
       "    </tr>\n",
       "    <tr>\n",
       "      <th>3</th>\n",
       "      <td>Superliga Europea: los 6 equipos ingleses se r...</td>\n",
       "      <td>http://www.bbc.com/mundo/noticias-56824620</td>\n",
       "      <td>Wed, 21 Apr 2021 04:57:45 GMT</td>\n",
       "      <td>internacional</td>\n",
       "    </tr>\n",
       "    <tr>\n",
       "      <th>4</th>\n",
       "      <td>\"Los gobiernos de América Latina le fallaron a...</td>\n",
       "      <td>http://www.bbc.com/mundo/noticias-56683896</td>\n",
       "      <td>Tue, 20 Apr 2021 11:30:23 GMT</td>\n",
       "      <td>internacional</td>\n",
       "    </tr>\n",
       "  </tbody>\n",
       "</table>\n",
       "</div>"
      ],
      "text/plain": [
       "                                               title  \\\n",
       "0  \"Dondequiera que mires hay ambulancias y cadáv...   \n",
       "1  Muerte de George Floyd: \"Este veredicto es un ...   \n",
       "2  Derek Chauvin: el jurado declara culpable de a...   \n",
       "3  Superliga Europea: los 6 equipos ingleses se r...   \n",
       "4  \"Los gobiernos de América Latina le fallaron a...   \n",
       "\n",
       "                                                 url  \\\n",
       "0  http://www.bbc.com/mundo/noticias-internaciona...   \n",
       "1  http://www.bbc.com/mundo/noticias-internaciona...   \n",
       "2  http://www.bbc.com/mundo/noticias-internaciona...   \n",
       "3         http://www.bbc.com/mundo/noticias-56824620   \n",
       "4         http://www.bbc.com/mundo/noticias-56683896   \n",
       "\n",
       "                            date       category  \n",
       "0  Wed, 21 Apr 2021 05:17:59 GMT  internacional  \n",
       "1  Wed, 21 Apr 2021 04:13:12 GMT  internacional  \n",
       "2  Tue, 20 Apr 2021 23:55:53 GMT  internacional  \n",
       "3  Wed, 21 Apr 2021 04:57:45 GMT  internacional  \n",
       "4  Tue, 20 Apr 2021 11:30:23 GMT  internacional  "
      ]
     },
     "execution_count": 260,
     "metadata": {},
     "output_type": "execute_result"
    }
   ],
   "source": [
    "data_all.head()"
   ]
  },
  {
   "cell_type": "code",
   "execution_count": 272,
   "metadata": {},
   "outputs": [],
   "source": [
    "data_final = data.append(data_all,ignore_index=True)"
   ]
  },
  {
   "cell_type": "code",
   "execution_count": 274,
   "metadata": {},
   "outputs": [],
   "source": [
    "data_final = data_final.drop_duplicates(subset='url')"
   ]
  },
  {
   "cell_type": "code",
   "execution_count": 275,
   "metadata": {},
   "outputs": [
    {
     "data": {
      "text/plain": [
       "(40645, 4)"
      ]
     },
     "execution_count": 275,
     "metadata": {},
     "output_type": "execute_result"
    }
   ],
   "source": [
    "data_final.shape"
   ]
  },
  {
   "cell_type": "code",
   "execution_count": null,
   "metadata": {},
   "outputs": [],
   "source": [
    "%%time\n",
    "s = Session()\n",
    "headers = {'User-Agent': 'Mozilla/5.0 (X11; Linux x86_64) '\\\n",
    "                         'AppleWebKit/537.36 (KHTML, like Gecko) '\\\n",
    "                         'Chrome/75.0.3770.80 Safari/537.36'}\n",
    "# Add headers\n",
    "s.headers.update(headers)\n",
    "\n",
    "    \n",
    "def get_user_need(page):\n",
    "    try:\n",
    "        article = s.get(page)\n",
    "        soup = BeautifulSoup(article.content, 'lxml')\n",
    "        x = [i for i in soup.find(\"script\",text = re.compile(r'(?<=\"campaignName\".\").+?(?=\\\")'))][0]\n",
    "        return re.search(r'(?<=\"campaignName\".\").+?(?=\\\")',x)[0]\n",
    "    except:\n",
    "        return np.nan\n",
    "    \n",
    "def get_text(url):\n",
    "    try:\n",
    "        article = s.get(url)\n",
    "        soup = BeautifulSoup(article.content, 'lxml')\n",
    "        body = soup.find(role='main')\n",
    "        text = [p.text for p in body.find_all('p',dir=\"ltr\")]\n",
    "        return ''.join(text)\n",
    "    except:\n",
    "        return np.nan\n",
    "\n",
    "pool = ThreadPool(4)\n",
    "user_need = pool.map(get_user_need, data_final[\"url\"])\n",
    "data_final[\"User Need\"] = user_need\n",
    "\n"
   ]
  },
  {
   "cell_type": "code",
   "execution_count": null,
   "metadata": {},
   "outputs": [],
   "source": [
    "%%time\n",
    "page_text = pool.map(get_text, data_final[\"url\"])\n",
    "data_final[\"text\"] = page_text"
   ]
  }
 ],
 "metadata": {
  "kernelspec": {
   "display_name": "Python 3",
   "language": "python",
   "name": "python3"
  },
  "language_info": {
   "codemirror_mode": {
    "name": "ipython",
    "version": 3
   },
   "file_extension": ".py",
   "mimetype": "text/x-python",
   "name": "python",
   "nbconvert_exporter": "python",
   "pygments_lexer": "ipython3",
   "version": "3.8.5"
  }
 },
 "nbformat": 4,
 "nbformat_minor": 4
}
