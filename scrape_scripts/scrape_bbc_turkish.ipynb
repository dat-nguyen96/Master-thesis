{
  "nbformat": 4,
  "nbformat_minor": 0,
  "metadata": {
    "colab": {
      "name": "scrape_bbc_turkish.ipynb",
      "provenance": [],
      "collapsed_sections": []
    },
    "kernelspec": {
      "name": "python3",
      "display_name": "Python 3"
    },
    "language_info": {
      "name": "python"
    }
  },
  "cells": [
    {
      "cell_type": "code",
      "metadata": {
        "colab": {
          "base_uri": "https://localhost:8080/"
        },
        "id": "1oA53s9YbxwF",
        "outputId": "9a0210ba-7b5c-4e33-c3f6-aa35aed9e6b0"
      },
      "source": [
        "!pip install feedparser"
      ],
      "execution_count": 1,
      "outputs": [
        {
          "output_type": "stream",
          "text": [
            "Collecting feedparser\n",
            "\u001b[?25l  Downloading https://files.pythonhosted.org/packages/1c/21/faf1bac028662cc8adb2b5ef7a6f3999a765baa2835331df365289b0ca56/feedparser-6.0.2-py3-none-any.whl (80kB)\n",
            "\r\u001b[K     |████                            | 10kB 13.4MB/s eta 0:00:01\r\u001b[K     |████████                        | 20kB 12.4MB/s eta 0:00:01\r\u001b[K     |████████████▏                   | 30kB 7.9MB/s eta 0:00:01\r\u001b[K     |████████████████▏               | 40kB 7.4MB/s eta 0:00:01\r\u001b[K     |████████████████████▎           | 51kB 4.6MB/s eta 0:00:01\r\u001b[K     |████████████████████████▎       | 61kB 5.0MB/s eta 0:00:01\r\u001b[K     |████████████████████████████▍   | 71kB 5.2MB/s eta 0:00:01\r\u001b[K     |████████████████████████████████| 81kB 3.7MB/s \n",
            "\u001b[?25hCollecting sgmllib3k\n",
            "  Downloading https://files.pythonhosted.org/packages/9e/bd/3704a8c3e0942d711c1299ebf7b9091930adae6675d7c8f476a7ce48653c/sgmllib3k-1.0.0.tar.gz\n",
            "Building wheels for collected packages: sgmllib3k\n",
            "  Building wheel for sgmllib3k (setup.py) ... \u001b[?25l\u001b[?25hdone\n",
            "  Created wheel for sgmllib3k: filename=sgmllib3k-1.0.0-cp37-none-any.whl size=6067 sha256=0e21b4a56b1d66a5c3e34b3e545b6a978ef9d36e72ba2916619ffb4e40769073\n",
            "  Stored in directory: /root/.cache/pip/wheels/f1/80/5a/444ba08a550cdd241bd9baf8bae44be750efe370adb944506a\n",
            "Successfully built sgmllib3k\n",
            "Installing collected packages: sgmllib3k, feedparser\n",
            "Successfully installed feedparser-6.0.2 sgmllib3k-1.0.0\n"
          ],
          "name": "stdout"
        }
      ]
    },
    {
      "cell_type": "code",
      "metadata": {
        "id": "o8GHfDdubvbe"
      },
      "source": [
        "import urllib.request,sys,time\n",
        "from bs4 import BeautifulSoup\n",
        "import requests\n",
        "import pandas as pd\n",
        "import numpy as np\n",
        "import re\n",
        "import feedparser\n",
        "import os\n",
        "import numpy as np\n",
        "from requests import Session\n",
        "from multiprocessing.dummy import Pool as ThreadPool"
      ],
      "execution_count": 6,
      "outputs": []
    },
    {
      "cell_type": "code",
      "metadata": {
        "id": "zw38I6vdSSk3"
      },
      "source": [
        "s = Session()\n",
        "headers = {'User-Agent': 'Mozilla/5.0 (X11; Linux x86_64) '\\\n",
        "                         'AppleWebKit/537.36 (KHTML, like Gecko) '\\\n",
        "                         'Chrome/75.0.3770.80 Safari/537.36'}\n",
        "# Add headers\n",
        "s.headers.update(headers)"
      ],
      "execution_count": 7,
      "outputs": []
    },
    {
      "cell_type": "code",
      "metadata": {
        "id": "lVuvK0hUb1-G"
      },
      "source": [
        "def get_article_items(category,pages):\n",
        "  pagesToGet = pages\n",
        "  data = pd.DataFrame([])\n",
        "  for page in range(1,pagesToGet+1):\n",
        "      url = category + '/page/' + str(page)\n",
        "      #an exception might be thrown, so the code should be in a try-except block\n",
        "      try:\n",
        "          #use the browser to get the url. This is suspicious command that might blow up.\n",
        "          page=s.get(url)                             # this might throw an exception if something goes wrong.\n",
        "      except Exception as e:                                   # this describes what to do if an exception is thrown\n",
        "          error_type, error_obj, error_info = sys.exc_info()      # get the exception information\n",
        "          print ('ERROR FOR LINK:',url)                          #print the link that cause the problem\n",
        "          print (error_type, 'Line:', error_info.tb_lineno)     #print error info and line that threw the exception\n",
        "          continue                                              #ignore this page. Abandon this and go back. \n",
        "      soup=BeautifulSoup(page.text,'lxml')\n",
        "      links = soup.find_all('li',attrs={\"class\":\"lx-stream__post-container\"})\n",
        "      for i in links:\n",
        "          try: \n",
        "              title = i.find(\"span\",attrs={'class':'lx-stream-post__header-text gs-u-align-middle'}).text.strip()\n",
        "              link = \"https://www.bbc.com\"\n",
        "              link += i.find('a',attrs={\"class\":\"qa-heading-link lx-stream-post__header-link\"})[\"href\"]\n",
        "              date = i.find('div',attrs={\"class\":\"gs-u-display-flex\"}).find(\"span\",attrs={\"class\":\"qa-post-auto-meta\"}).text\n",
        "              data = data.append(pd.DataFrame({'title': title, 'url': link,'date' : date}, index=[0]), ignore_index=True)\n",
        "          except:\n",
        "              continue\n",
        "  return data\n",
        "    \n",
        "\n",
        "    "
      ],
      "execution_count": 8,
      "outputs": []
    },
    {
      "cell_type": "code",
      "metadata": {
        "id": "DgtR0XIEaV8Q"
      },
      "source": [
        "data = pd.DataFrame([])\n",
        "list1 = []"
      ],
      "execution_count": 9,
      "outputs": []
    },
    {
      "cell_type": "code",
      "metadata": {
        "id": "bTUaW08bb9kw",
        "colab": {
          "base_uri": "https://localhost:8080/"
        },
        "outputId": "1d948f71-7647-4738-f9f6-9b6fe6061441"
      },
      "source": [
        "%%time\n",
        "Health = get_article_items(\"https://www.bbc.com/turkce/topics/cnq68n6wgzdt\",100)\n",
        "Health[\"category\"] = \"Health\"\n",
        "list1.append(Health)"
      ],
      "execution_count": 10,
      "outputs": [
        {
          "output_type": "stream",
          "text": [
            "CPU times: user 9.57 s, sys: 253 ms, total: 9.83 s\n",
            "Wall time: 1min 32s\n"
          ],
          "name": "stdout"
        }
      ]
    },
    {
      "cell_type": "code",
      "metadata": {
        "colab": {
          "base_uri": "https://localhost:8080/",
          "height": 204
        },
        "id": "d90OvP38Z7gg",
        "outputId": "e7dde029-30a2-462d-87d5-f0edfeb693c8"
      },
      "source": [
        "Health.head()"
      ],
      "execution_count": 11,
      "outputs": [
        {
          "output_type": "execute_result",
          "data": {
            "text/html": [
              "<div>\n",
              "<style scoped>\n",
              "    .dataframe tbody tr th:only-of-type {\n",
              "        vertical-align: middle;\n",
              "    }\n",
              "\n",
              "    .dataframe tbody tr th {\n",
              "        vertical-align: top;\n",
              "    }\n",
              "\n",
              "    .dataframe thead th {\n",
              "        text-align: right;\n",
              "    }\n",
              "</style>\n",
              "<table border=\"1\" class=\"dataframe\">\n",
              "  <thead>\n",
              "    <tr style=\"text-align: right;\">\n",
              "      <th></th>\n",
              "      <th>title</th>\n",
              "      <th>url</th>\n",
              "      <th>date</th>\n",
              "      <th>category</th>\n",
              "    </tr>\n",
              "  </thead>\n",
              "  <tbody>\n",
              "    <tr>\n",
              "      <th>0</th>\n",
              "      <td>İngiltere-Türkiye arasında seyahat için mevcut...</td>\n",
              "      <td>https://www.bbc.com/turkce/haberler-dunya-5632...</td>\n",
              "      <td>18:12</td>\n",
              "      <td>Health</td>\n",
              "    </tr>\n",
              "    <tr>\n",
              "      <th>1</th>\n",
              "      <td>Türkiye'de son 24 saatte Covid vaka sayısı 61 ...</td>\n",
              "      <td>https://www.bbc.com/turkce/haberler-turkiye-51...</td>\n",
              "      <td>22:10 20 Nisan 2021</td>\n",
              "      <td>Health</td>\n",
              "    </tr>\n",
              "    <tr>\n",
              "      <th>2</th>\n",
              "      <td>Sağlık Bakanlığı: 61 bini aşkın yeni vaka, 346...</td>\n",
              "      <td>https://www.bbc.com/turkce/live/haberler-turki...</td>\n",
              "      <td>11:05 20 Nisan 2021</td>\n",
              "      <td>Health</td>\n",
              "    </tr>\n",
              "    <tr>\n",
              "      <th>3</th>\n",
              "      <td>Covid-19 hastalığını atlatanlar ne kadar süred...</td>\n",
              "      <td>https://www.bbc.com/turkce/haberler-dunya-5234...</td>\n",
              "      <td>9:55 20 Nisan 2021</td>\n",
              "      <td>Health</td>\n",
              "    </tr>\n",
              "    <tr>\n",
              "      <th>4</th>\n",
              "      <td>İsrail'de yapılan araştırmalar, Pfizer aşısını...</td>\n",
              "      <td>https://www.bbc.com/turkce/haberler-dunya-5600...</td>\n",
              "      <td>7:49 20 Nisan 2021</td>\n",
              "      <td>Health</td>\n",
              "    </tr>\n",
              "  </tbody>\n",
              "</table>\n",
              "</div>"
            ],
            "text/plain": [
              "                                               title  ... category\n",
              "0  İngiltere-Türkiye arasında seyahat için mevcut...  ...   Health\n",
              "1  Türkiye'de son 24 saatte Covid vaka sayısı 61 ...  ...   Health\n",
              "2  Sağlık Bakanlığı: 61 bini aşkın yeni vaka, 346...  ...   Health\n",
              "3  Covid-19 hastalığını atlatanlar ne kadar süred...  ...   Health\n",
              "4  İsrail'de yapılan araştırmalar, Pfizer aşısını...  ...   Health\n",
              "\n",
              "[5 rows x 4 columns]"
            ]
          },
          "metadata": {
            "tags": []
          },
          "execution_count": 11
        }
      ]
    },
    {
      "cell_type": "code",
      "metadata": {
        "colab": {
          "base_uri": "https://localhost:8080/"
        },
        "id": "A4odThy6YFxF",
        "outputId": "5c89b78d-f4f7-4799-9916-50294fcca899"
      },
      "source": [
        "%%time\n",
        "technology = get_article_items(\"https://www.bbc.com/turkce/topics/c2dwqnwkvnqt\",100)\n",
        "technology[\"category\"] = \"technology\"\n",
        "list1.append(technology)"
      ],
      "execution_count": 12,
      "outputs": [
        {
          "output_type": "stream",
          "text": [
            "CPU times: user 7.33 s, sys: 187 ms, total: 7.51 s\n",
            "Wall time: 2min 3s\n"
          ],
          "name": "stdout"
        }
      ]
    },
    {
      "cell_type": "code",
      "metadata": {
        "colab": {
          "base_uri": "https://localhost:8080/",
          "height": 204
        },
        "id": "mIveBSoHZ92u",
        "outputId": "b64d369d-f469-4a01-b977-781f21c66310"
      },
      "source": [
        "technology.head()"
      ],
      "execution_count": 15,
      "outputs": [
        {
          "output_type": "execute_result",
          "data": {
            "text/html": [
              "<div>\n",
              "<style scoped>\n",
              "    .dataframe tbody tr th:only-of-type {\n",
              "        vertical-align: middle;\n",
              "    }\n",
              "\n",
              "    .dataframe tbody tr th {\n",
              "        vertical-align: top;\n",
              "    }\n",
              "\n",
              "    .dataframe thead th {\n",
              "        text-align: right;\n",
              "    }\n",
              "</style>\n",
              "<table border=\"1\" class=\"dataframe\">\n",
              "  <thead>\n",
              "    <tr style=\"text-align: right;\">\n",
              "      <th></th>\n",
              "      <th>title</th>\n",
              "      <th>url</th>\n",
              "      <th>date</th>\n",
              "      <th>category</th>\n",
              "    </tr>\n",
              "  </thead>\n",
              "  <tbody>\n",
              "    <tr>\n",
              "      <th>0</th>\n",
              "      <td>Apple son model iPad, iMac ve AirTag’leri tanı...</td>\n",
              "      <td>https://www.bbc.com/turkce/haberler-dunya-5683...</td>\n",
              "      <td>9:29</td>\n",
              "      <td>technology</td>\n",
              "    </tr>\n",
              "    <tr>\n",
              "      <th>1</th>\n",
              "      <td>Facebook, Clubhouse benzeri Live Audio Rooms v...</td>\n",
              "      <td>https://www.bbc.com/turkce/haberler-dunya-5681...</td>\n",
              "      <td>9:25 20 Nisan 2021</td>\n",
              "      <td>technology</td>\n",
              "    </tr>\n",
              "    <tr>\n",
              "      <th>2</th>\n",
              "      <td>Elon Musk: 2 kişinin öldüğü Tesla kazasında 'o...</td>\n",
              "      <td>https://www.bbc.com/turkce/haberler-dunya-5681...</td>\n",
              "      <td>2:01 20 Nisan 2021</td>\n",
              "      <td>technology</td>\n",
              "    </tr>\n",
              "    <tr>\n",
              "      <th>3</th>\n",
              "      <td>Dogecoin: Şaka amaçlı geliştirilen ve piyasa d...</td>\n",
              "      <td>https://www.bbc.com/turkce/haberler-dunya-5593...</td>\n",
              "      <td>12:38 19 Nisan 2021</td>\n",
              "      <td>technology</td>\n",
              "    </tr>\n",
              "    <tr>\n",
              "      <th>4</th>\n",
              "      <td>Elektrikli tırlar ‘dizellerle rekabet edebilir’</td>\n",
              "      <td>https://www.bbc.com/turkce/haberler-dunya-5671...</td>\n",
              "      <td>13:31 11 Nisan 2021</td>\n",
              "      <td>technology</td>\n",
              "    </tr>\n",
              "  </tbody>\n",
              "</table>\n",
              "</div>"
            ],
            "text/plain": [
              "                                               title  ...    category\n",
              "0  Apple son model iPad, iMac ve AirTag’leri tanı...  ...  technology\n",
              "1  Facebook, Clubhouse benzeri Live Audio Rooms v...  ...  technology\n",
              "2  Elon Musk: 2 kişinin öldüğü Tesla kazasında 'o...  ...  technology\n",
              "3  Dogecoin: Şaka amaçlı geliştirilen ve piyasa d...  ...  technology\n",
              "4    Elektrikli tırlar ‘dizellerle rekabet edebilir’  ...  technology\n",
              "\n",
              "[5 rows x 4 columns]"
            ]
          },
          "metadata": {
            "tags": []
          },
          "execution_count": 15
        }
      ]
    },
    {
      "cell_type": "code",
      "metadata": {
        "colab": {
          "base_uri": "https://localhost:8080/"
        },
        "id": "xTPe2mvRYO1P",
        "outputId": "188dc1ff-409a-4203-b464-b45b8b1bbe24"
      },
      "source": [
        "%%time\n",
        "science = get_article_items(\"https://www.bbc.com/turkce/topics/c404v74nk56t\",32)\n",
        "science[\"category\"] = \"science\"\n",
        "list1.append(science)"
      ],
      "execution_count": 16,
      "outputs": [
        {
          "output_type": "stream",
          "text": [
            "CPU times: user 3.25 s, sys: 62.8 ms, total: 3.31 s\n",
            "Wall time: 31.9 s\n"
          ],
          "name": "stdout"
        }
      ]
    },
    {
      "cell_type": "code",
      "metadata": {
        "colab": {
          "base_uri": "https://localhost:8080/",
          "height": 204
        },
        "id": "Z3Q-yDUFaFUt",
        "outputId": "9700a41f-cee2-4813-e4b8-1cfe07972aa8"
      },
      "source": [
        "science.head()"
      ],
      "execution_count": 17,
      "outputs": [
        {
          "output_type": "execute_result",
          "data": {
            "text/html": [
              "<div>\n",
              "<style scoped>\n",
              "    .dataframe tbody tr th:only-of-type {\n",
              "        vertical-align: middle;\n",
              "    }\n",
              "\n",
              "    .dataframe tbody tr th {\n",
              "        vertical-align: top;\n",
              "    }\n",
              "\n",
              "    .dataframe thead th {\n",
              "        text-align: right;\n",
              "    }\n",
              "</style>\n",
              "<table border=\"1\" class=\"dataframe\">\n",
              "  <thead>\n",
              "    <tr style=\"text-align: right;\">\n",
              "      <th></th>\n",
              "      <th>title</th>\n",
              "      <th>url</th>\n",
              "      <th>date</th>\n",
              "      <th>category</th>\n",
              "    </tr>\n",
              "  </thead>\n",
              "  <tbody>\n",
              "    <tr>\n",
              "      <th>0</th>\n",
              "      <td>Türkiye'de kullanılan Çin aşısı CoronaVac hakk...</td>\n",
              "      <td>https://www.bbc.com/turkce/haberler-dunya-5516...</td>\n",
              "      <td>10:26 15 Nisan 2021</td>\n",
              "      <td>science</td>\n",
              "    </tr>\n",
              "    <tr>\n",
              "      <th>1</th>\n",
              "      <td>Neden eğlenirken çığlık atarız?</td>\n",
              "      <td>https://www.bbc.com/turkce/haberler-dunya-5675...</td>\n",
              "      <td>4:33 15 Nisan 2021</td>\n",
              "      <td>science</td>\n",
              "    </tr>\n",
              "    <tr>\n",
              "      <th>2</th>\n",
              "      <td>Yuri Gagarin, 60 yıl önce ilk insanlı uzay uçu...</td>\n",
              "      <td>https://www.bbc.com/turkce/haberler-dunya-5671...</td>\n",
              "      <td>12:10 12 Nisan 2021</td>\n",
              "      <td>science</td>\n",
              "    </tr>\n",
              "    <tr>\n",
              "      <th>3</th>\n",
              "      <td>Fizikçilere göre, doğadaki 5. temel kuvvete il...</td>\n",
              "      <td>https://www.bbc.com/turkce/haberler-dunya-5667...</td>\n",
              "      <td>17:22 8 Nisan 2021</td>\n",
              "      <td>science</td>\n",
              "    </tr>\n",
              "    <tr>\n",
              "      <th>4</th>\n",
              "      <td>Birinin yalan söylediğini anlamak mümkün mü?</td>\n",
              "      <td>https://www.bbc.com/turkce/haberler-dunya-5666...</td>\n",
              "      <td>2:00 8 Nisan 2021</td>\n",
              "      <td>science</td>\n",
              "    </tr>\n",
              "  </tbody>\n",
              "</table>\n",
              "</div>"
            ],
            "text/plain": [
              "                                               title  ... category\n",
              "0  Türkiye'de kullanılan Çin aşısı CoronaVac hakk...  ...  science\n",
              "1                    Neden eğlenirken çığlık atarız?  ...  science\n",
              "2  Yuri Gagarin, 60 yıl önce ilk insanlı uzay uçu...  ...  science\n",
              "3  Fizikçilere göre, doğadaki 5. temel kuvvete il...  ...  science\n",
              "4       Birinin yalan söylediğini anlamak mümkün mü?  ...  science\n",
              "\n",
              "[5 rows x 4 columns]"
            ]
          },
          "metadata": {
            "tags": []
          },
          "execution_count": 17
        }
      ]
    },
    {
      "cell_type": "code",
      "metadata": {
        "colab": {
          "base_uri": "https://localhost:8080/"
        },
        "id": "VIM479waYjp8",
        "outputId": "a54d43e5-c1d5-4ef6-d1b3-d949a0b0e6ad"
      },
      "source": [
        "%%time\n",
        "Economy = get_article_items(\"https://www.bbc.com/turkce/topics/cg726y2k82dt\",85)\n",
        "Economy[\"category\"] = \"economy\"\n",
        "list1.append(Economy)"
      ],
      "execution_count": 18,
      "outputs": [
        {
          "output_type": "stream",
          "text": [
            "CPU times: user 9.52 s, sys: 176 ms, total: 9.7 s\n",
            "Wall time: 1min 25s\n"
          ],
          "name": "stdout"
        }
      ]
    },
    {
      "cell_type": "code",
      "metadata": {
        "colab": {
          "base_uri": "https://localhost:8080/",
          "height": 204
        },
        "id": "1-57H0pzY6AC",
        "outputId": "25b49832-76b6-41ac-a9ac-b31f5268297b"
      },
      "source": [
        "Economy.head()"
      ],
      "execution_count": 19,
      "outputs": [
        {
          "output_type": "execute_result",
          "data": {
            "text/html": [
              "<div>\n",
              "<style scoped>\n",
              "    .dataframe tbody tr th:only-of-type {\n",
              "        vertical-align: middle;\n",
              "    }\n",
              "\n",
              "    .dataframe tbody tr th {\n",
              "        vertical-align: top;\n",
              "    }\n",
              "\n",
              "    .dataframe thead th {\n",
              "        text-align: right;\n",
              "    }\n",
              "</style>\n",
              "<table border=\"1\" class=\"dataframe\">\n",
              "  <thead>\n",
              "    <tr style=\"text-align: right;\">\n",
              "      <th></th>\n",
              "      <th>title</th>\n",
              "      <th>url</th>\n",
              "      <th>date</th>\n",
              "      <th>category</th>\n",
              "    </tr>\n",
              "  </thead>\n",
              "  <tbody>\n",
              "    <tr>\n",
              "      <th>0</th>\n",
              "      <td>Kısa çalışma ödeneği Haziran sonuna kadar uzat...</td>\n",
              "      <td>https://www.bbc.com/turkce/haberler-turkiye-53...</td>\n",
              "      <td>14:53</td>\n",
              "      <td>economy</td>\n",
              "    </tr>\n",
              "    <tr>\n",
              "      <th>1</th>\n",
              "      <td>Netflix büyüme beklentilerini karşılayamadı, p...</td>\n",
              "      <td>https://www.bbc.com/turkce/haberler-dunya-5681...</td>\n",
              "      <td>10:10</td>\n",
              "      <td>economy</td>\n",
              "    </tr>\n",
              "    <tr>\n",
              "      <th>2</th>\n",
              "      <td>Canikli: 128 milyar doların 75 milyarı bankala...</td>\n",
              "      <td>https://www.bbc.com/turkce/haberler-turkiye-54...</td>\n",
              "      <td>14:35 20 Nisan 2021</td>\n",
              "      <td>economy</td>\n",
              "    </tr>\n",
              "    <tr>\n",
              "      <th>3</th>\n",
              "      <td>Kripto para yönetmeliği nedir ve kimleri etkil...</td>\n",
              "      <td>https://www.bbc.com/turkce/haberler-turkiye-56...</td>\n",
              "      <td>17:23 16 Nisan 2021</td>\n",
              "      <td>economy</td>\n",
              "    </tr>\n",
              "    <tr>\n",
              "      <th>4</th>\n",
              "      <td>'128 milyar dolar' tartışması nasıl başladı, T...</td>\n",
              "      <td>https://www.bbc.com/turkce/haberler-turkiye-54...</td>\n",
              "      <td>12:47 16 Nisan 2021</td>\n",
              "      <td>economy</td>\n",
              "    </tr>\n",
              "  </tbody>\n",
              "</table>\n",
              "</div>"
            ],
            "text/plain": [
              "                                               title  ... category\n",
              "0  Kısa çalışma ödeneği Haziran sonuna kadar uzat...  ...  economy\n",
              "1  Netflix büyüme beklentilerini karşılayamadı, p...  ...  economy\n",
              "2  Canikli: 128 milyar doların 75 milyarı bankala...  ...  economy\n",
              "3  Kripto para yönetmeliği nedir ve kimleri etkil...  ...  economy\n",
              "4  '128 milyar dolar' tartışması nasıl başladı, T...  ...  economy\n",
              "\n",
              "[5 rows x 4 columns]"
            ]
          },
          "metadata": {
            "tags": []
          },
          "execution_count": 19
        }
      ]
    },
    {
      "cell_type": "code",
      "metadata": {
        "colab": {
          "base_uri": "https://localhost:8080/"
        },
        "id": "mombgK6N0AM5",
        "outputId": "793cb541-06f8-4249-bdcb-58ad57734871"
      },
      "source": [
        "%%time\n",
        "sports = get_article_items(\"https://www.bbc.com/turkce/topics/c340qx04vwwt\",27)\n",
        "sports[\"category\"] = \"sports\"\n",
        "list1.append(sports)"
      ],
      "execution_count": 20,
      "outputs": [
        {
          "output_type": "stream",
          "text": [
            "CPU times: user 2.8 s, sys: 47.7 ms, total: 2.85 s\n",
            "Wall time: 27 s\n"
          ],
          "name": "stdout"
        }
      ]
    },
    {
      "cell_type": "code",
      "metadata": {
        "id": "qpsg1EGXawxp"
      },
      "source": [
        "df = Health.append(list1,ignore_index=True)"
      ],
      "execution_count": 21,
      "outputs": []
    },
    {
      "cell_type": "code",
      "metadata": {
        "id": "RW0YNVcYlxlx"
      },
      "source": [
        "df = df.drop_duplicates(subset='url')"
      ],
      "execution_count": 22,
      "outputs": []
    },
    {
      "cell_type": "code",
      "metadata": {
        "colab": {
          "base_uri": "https://localhost:8080/"
        },
        "id": "1owAaWSXeKtD",
        "outputId": "d343bf07-0aae-49a0-fef5-2b41839644a9"
      },
      "source": [
        "df.shape"
      ],
      "execution_count": 23,
      "outputs": [
        {
          "output_type": "execute_result",
          "data": {
            "text/plain": [
              "(1644, 4)"
            ]
          },
          "metadata": {
            "tags": []
          },
          "execution_count": 23
        }
      ]
    },
    {
      "cell_type": "code",
      "metadata": {
        "id": "fEz8iJzuedI0"
      },
      "source": [
        "s = Session()\n",
        "headers = {'User-Agent': 'Mozilla/5.0 (X11; Linux x86_64) '\\\n",
        "                         'AppleWebKit/537.36 (KHTML, like Gecko) '\\\n",
        "                         'Chrome/75.0.3770.80 Safari/537.36'}\n",
        "# Add headers\n",
        "s.headers.update(headers)\n",
        "\n",
        "    \n",
        "def get_user_need(page):\n",
        "    try:\n",
        "        article = s.get(page)\n",
        "        soup = BeautifulSoup(article.content, 'lxml')\n",
        "        x = [i for i in soup.find(\"script\",text = re.compile(r'(?<=\"campaignName\".\").+?(?=\\\")'))][0]\n",
        "        return re.search(r'(?<=\"campaignName\".\").+?(?=\\\")',x)[0]\n",
        "    except:\n",
        "        return np.nan\n",
        "    \n",
        "def get_text(url):\n",
        "    try:\n",
        "        article = s.get(url)\n",
        "        soup = BeautifulSoup(article.content, 'lxml')\n",
        "        body = soup.find(role='main')\n",
        "        text = [p.text for p in body.find_all('p',dir=\"ltr\")]\n",
        "        return ''.join(text)\n",
        "    except:\n",
        "        return np.nan\n"
      ],
      "execution_count": 24,
      "outputs": []
    },
    {
      "cell_type": "code",
      "metadata": {
        "colab": {
          "base_uri": "https://localhost:8080/"
        },
        "id": "SXiaVpWAkrwP",
        "outputId": "6abc7593-2ecc-4865-fe44-8043afce3e4b"
      },
      "source": [
        "%%time\n",
        "pool = ThreadPool(5)\n",
        "user_need = pool.map(get_user_need, df[\"url\"])\n",
        "df[\"User Need\"] = user_need"
      ],
      "execution_count": 25,
      "outputs": [
        {
          "output_type": "stream",
          "text": [
            "CPU times: user 1min 3s, sys: 3.24 s, total: 1min 6s\n",
            "Wall time: 3min 43s\n"
          ],
          "name": "stdout"
        }
      ]
    },
    {
      "cell_type": "code",
      "metadata": {
        "id": "yaw8Bz0zk0y6"
      },
      "source": [
        "df[\"User Need\"] = df[\"User Need\"].apply(lambda s: re.sub(r\"(WS - )\", \"\", s) if pd.notnull(s) else s)\n"
      ],
      "execution_count": 26,
      "outputs": []
    },
    {
      "cell_type": "code",
      "metadata": {
        "colab": {
          "base_uri": "https://localhost:8080/"
        },
        "id": "j59Gp7jlk6DI",
        "outputId": "159c5f37-6933-4587-f659-f7766bfe1a7b"
      },
      "source": [
        "%%time\n",
        "page_text = pool.map(get_text, df[\"url\"])\n",
        "df[\"text\"] = page_text"
      ],
      "execution_count": 27,
      "outputs": [
        {
          "output_type": "stream",
          "text": [
            "CPU times: user 1min 19s, sys: 19 s, total: 1min 38s\n",
            "Wall time: 1min 16s\n"
          ],
          "name": "stdout"
        }
      ]
    },
    {
      "cell_type": "code",
      "metadata": {
        "colab": {
          "base_uri": "https://localhost:8080/"
        },
        "id": "ZpSx_sMzmqss",
        "outputId": "878a8da9-a0e2-40fd-c1d9-3eda7cba95e6"
      },
      "source": [
        "df[\"User Need\"].value_counts()"
      ],
      "execution_count": 28,
      "outputs": [
        {
          "output_type": "execute_result",
          "data": {
            "text/plain": [
              "Update me              781\n",
              "Give me perspective    435\n",
              "Educate me              85\n",
              "Keep me on trend        81\n",
              "Divert me               77\n",
              "CS                      56\n",
              "Inspire me              40\n",
              "SEO Pilot                3\n",
              "Name: User Need, dtype: int64"
            ]
          },
          "metadata": {
            "tags": []
          },
          "execution_count": 28
        }
      ]
    },
    {
      "cell_type": "code",
      "metadata": {
        "id": "mfc5mKAlnGi9"
      },
      "source": [
        "df.to_csv(\"bbc_turkish.csv\",index=False)"
      ],
      "execution_count": 29,
      "outputs": []
    },
    {
      "cell_type": "code",
      "metadata": {
        "id": "k9H3nBGw08fZ"
      },
      "source": [
        ""
      ],
      "execution_count": null,
      "outputs": []
    }
  ]
}