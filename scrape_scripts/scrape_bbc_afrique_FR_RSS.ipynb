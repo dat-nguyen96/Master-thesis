{
 "cells": [
  {
   "cell_type": "code",
   "execution_count": 86,
   "metadata": {},
   "outputs": [],
   "source": [
    "import urllib.request,sys,time\n",
    "from bs4 import BeautifulSoup\n",
    "import requests\n",
    "import pandas as pd\n",
    "import numpy as np\n",
    "import re\n",
    "import feedparser\n",
    "import os\n",
    "import numpy as np"
   ]
  },
  {
   "cell_type": "code",
   "execution_count": 25,
   "metadata": {},
   "outputs": [],
   "source": [
    "#Use https://github.com/sangaline/wayback-machine-scraper to scrape all the available snapshots for the rss feeds\n",
    "\n",
    "#wayback-machine-scraper -a 'http://feeds.bbci.co.uk/afrique/rss.xml$' http://feeds.bbci.co.uk/afrique/rss.xml\n",
    "#wayback-machine-scraper -a 'http://feeds.bbci.co.uk/afrique/monde/rss.xml$' http://feeds.bbci.co.uk/afrique/monde/rss.xml\n",
    "#wayback-machine-scraper -a 'http://feeds.bbci.co.uk/afrique/region/rss.xml$' http://feeds.bbci.co.uk/afrique/monde/rss.xml\n",
    "#wayback-machine-scraper -a 'http://feeds.bbci.co.uk/afrique/sports/rss.xml$' http://feeds.bbci.co.uk/afrique/sports/rss.xml\n"
   ]
  },
  {
   "cell_type": "code",
   "execution_count": 26,
   "metadata": {},
   "outputs": [],
   "source": [
    "import os\n",
    "\n",
    "# Getting the current work directory (cwd)\n",
    "thisdir = os.getcwd()\n",
    "snapshots = []\n",
    "\n",
    "# r=root, d=directories, f = files\n",
    "for r, d, f in os.walk(thisdir):\n",
    "    for file in f:\n",
    "        if file.endswith(\".snapshot\"):\n",
    "            snapshots.append(os.path.join(r, file))"
   ]
  },
  {
   "cell_type": "code",
   "execution_count": 71,
   "metadata": {},
   "outputs": [],
   "source": [
    "data = pd.DataFrame([])\n",
    "for snap in snapshots:\n",
    "    parser = feedparser.parse(snap)\n",
    "    for post in parser.entries:\n",
    "        try:\n",
    "            title = post.title\n",
    "            link = post.link\n",
    "            date = post.published\n",
    "            data = data.append(pd.DataFrame({'title': title, 'url': link,'date' : date}, index=[0]), ignore_index=True)\n",
    "        except:\n",
    "            continue\n",
    "    "
   ]
  },
  {
   "cell_type": "code",
   "execution_count": 72,
   "metadata": {},
   "outputs": [
    {
     "data": {
      "text/plain": [
       "(2541, 3)"
      ]
     },
     "execution_count": 72,
     "metadata": {},
     "output_type": "execute_result"
    }
   ],
   "source": [
    "data.shape"
   ]
  },
  {
   "cell_type": "code",
   "execution_count": 75,
   "metadata": {},
   "outputs": [],
   "source": [
    "def categorize(x):\n",
    "    if 'region' in x:\n",
    "        return \"afrique\"\n",
    "    elif 'sports' in x:\n",
    "        return \"sport\"\n",
    "    elif 'monde' in x:\n",
    "        return \"monde\"\n",
    "    else:\n",
    "        return np.nan\n"
   ]
  },
  {
   "cell_type": "code",
   "execution_count": 77,
   "metadata": {},
   "outputs": [],
   "source": [
    "data['category'] = data[\"url\"].apply (lambda x: categorize(x))"
   ]
  },
  {
   "cell_type": "code",
   "execution_count": 82,
   "metadata": {},
   "outputs": [
    {
     "data": {
      "text/html": [
       "<div>\n",
       "<style scoped>\n",
       "    .dataframe tbody tr th:only-of-type {\n",
       "        vertical-align: middle;\n",
       "    }\n",
       "\n",
       "    .dataframe tbody tr th {\n",
       "        vertical-align: top;\n",
       "    }\n",
       "\n",
       "    .dataframe thead th {\n",
       "        text-align: right;\n",
       "    }\n",
       "</style>\n",
       "<table border=\"1\" class=\"dataframe\">\n",
       "  <thead>\n",
       "    <tr style=\"text-align: right;\">\n",
       "      <th></th>\n",
       "      <th>title</th>\n",
       "      <th>url</th>\n",
       "      <th>date</th>\n",
       "      <th>category</th>\n",
       "    </tr>\n",
       "  </thead>\n",
       "  <tbody>\n",
       "    <tr>\n",
       "      <th>0</th>\n",
       "      <td>Nigeria, le président du Sénat convoqué pour a...</td>\n",
       "      <td>http://www.bbc.com/afrique/44364579</td>\n",
       "      <td>Mon, 04 Jun 2018 21:54:22 GMT</td>\n",
       "      <td>NaN</td>\n",
       "    </tr>\n",
       "    <tr>\n",
       "      <th>1</th>\n",
       "      <td>Un nouveau premier ministre pour Madagascar</td>\n",
       "      <td>http://www.bbc.com/afrique/region-44356472</td>\n",
       "      <td>Mon, 04 Jun 2018 13:00:45 GMT</td>\n",
       "      <td>afrique</td>\n",
       "    </tr>\n",
       "    <tr>\n",
       "      <th>2</th>\n",
       "      <td>Au Guatemala, 25 morts dans l'éruption d'un vo...</td>\n",
       "      <td>http://www.bbc.com/afrique/monde-44324063</td>\n",
       "      <td>Mon, 04 Jun 2018 12:15:25 GMT</td>\n",
       "      <td>monde</td>\n",
       "    </tr>\n",
       "    <tr>\n",
       "      <th>3</th>\n",
       "      <td>Alassane Ouattara et son 3ème mandat</td>\n",
       "      <td>http://www.bbc.com/afrique/region-44356470</td>\n",
       "      <td>Mon, 04 Jun 2018 10:22:56 GMT</td>\n",
       "      <td>afrique</td>\n",
       "    </tr>\n",
       "    <tr>\n",
       "      <th>4</th>\n",
       "      <td>13 personnes tuées dans des attaques au Nigeria</td>\n",
       "      <td>http://www.bbc.com/afrique/region-44351196</td>\n",
       "      <td>Mon, 04 Jun 2018 03:07:49 GMT</td>\n",
       "      <td>afrique</td>\n",
       "    </tr>\n",
       "  </tbody>\n",
       "</table>\n",
       "</div>"
      ],
      "text/plain": [
       "                                               title  \\\n",
       "0  Nigeria, le président du Sénat convoqué pour a...   \n",
       "1        Un nouveau premier ministre pour Madagascar   \n",
       "2  Au Guatemala, 25 morts dans l'éruption d'un vo...   \n",
       "3               Alassane Ouattara et son 3ème mandat   \n",
       "4    13 personnes tuées dans des attaques au Nigeria   \n",
       "\n",
       "                                          url                           date  \\\n",
       "0         http://www.bbc.com/afrique/44364579  Mon, 04 Jun 2018 21:54:22 GMT   \n",
       "1  http://www.bbc.com/afrique/region-44356472  Mon, 04 Jun 2018 13:00:45 GMT   \n",
       "2   http://www.bbc.com/afrique/monde-44324063  Mon, 04 Jun 2018 12:15:25 GMT   \n",
       "3  http://www.bbc.com/afrique/region-44356470  Mon, 04 Jun 2018 10:22:56 GMT   \n",
       "4  http://www.bbc.com/afrique/region-44351196  Mon, 04 Jun 2018 03:07:49 GMT   \n",
       "\n",
       "  category  \n",
       "0      NaN  \n",
       "1  afrique  \n",
       "2    monde  \n",
       "3  afrique  \n",
       "4  afrique  "
      ]
     },
     "execution_count": 82,
     "metadata": {},
     "output_type": "execute_result"
    }
   ],
   "source": [
    "data.head()"
   ]
  },
  {
   "cell_type": "code",
   "execution_count": 83,
   "metadata": {},
   "outputs": [],
   "source": [
    "data = data.drop_duplicates(subset=['url', 'title'], keep='last')"
   ]
  },
  {
   "cell_type": "code",
   "execution_count": 85,
   "metadata": {},
   "outputs": [
    {
     "data": {
      "text/plain": [
       "(2121, 4)"
      ]
     },
     "execution_count": 85,
     "metadata": {},
     "output_type": "execute_result"
    }
   ],
   "source": [
    "data.shape"
   ]
  },
  {
   "cell_type": "code",
   "execution_count": 87,
   "metadata": {},
   "outputs": [],
   "source": [
    "def extract_userneed(x):\n",
    "    page=requests.get(x)\n",
    "    soup=BeautifulSoup(page.text,'html.parser')\n",
    "    for i in soup.findAll(\"script\"):\n",
    "        try:\n",
    "            return re.findall(r'(?<=\"campaignName\".\").+?(?=\\\")', str(i.string))[0]\n",
    "        except:\n",
    "            continue"
   ]
  },
  {
   "cell_type": "code",
   "execution_count": 99,
   "metadata": {},
   "outputs": [],
   "source": [
    "def get_text(url):\n",
    "    try:\n",
    "        article = requests.get(url)\n",
    "        soup = BeautifulSoup(article.content, 'html.parser')\n",
    "        body = soup.find(role='main')\n",
    "        text = [p.text for p in body.find_all('p',dir=\"ltr\")]\n",
    "        return ''.join(text)\n",
    "    except:\n",
    "        return \"error\""
   ]
  },
  {
   "cell_type": "code",
   "execution_count": 89,
   "metadata": {},
   "outputs": [
    {
     "name": "stdout",
     "output_type": "stream",
     "text": [
      "CPU times: user 2min 59s, sys: 6.54 s, total: 3min 5s\n",
      "Wall time: 23min 5s\n"
     ]
    }
   ],
   "source": [
    "%%time\n",
    "data[\"User Need\"] = data[\"url\"].apply(lambda x : extract_userneed(x))"
   ]
  },
  {
   "cell_type": "code",
   "execution_count": 94,
   "metadata": {},
   "outputs": [],
   "source": [
    "data[\"User Need\"] = data[\"User Need\"].apply(lambda s: re.sub(r\"(WS - )\", \"\", s) if pd.notnull(s) else s)\n"
   ]
  },
  {
   "cell_type": "code",
   "execution_count": 95,
   "metadata": {},
   "outputs": [
    {
     "data": {
      "text/plain": [
       "Update me              1106\n",
       "Keep me on trend        479\n",
       "Educate me              136\n",
       "Give me perspective     129\n",
       "Inspire me              114\n",
       "CS                       60\n",
       "Divert me                28\n",
       "News - Learning           1\n",
       "Name: User Need, dtype: int64"
      ]
     },
     "execution_count": 95,
     "metadata": {},
     "output_type": "execute_result"
    }
   ],
   "source": [
    "data[\"User Need\"].value_counts()"
   ]
  },
  {
   "cell_type": "code",
   "execution_count": 100,
   "metadata": {},
   "outputs": [
    {
     "name": "stdout",
     "output_type": "stream",
     "text": [
      "CPU times: user 2min 25s, sys: 4.59 s, total: 2min 29s\n",
      "Wall time: 6min 54s\n"
     ]
    }
   ],
   "source": [
    "%%time\n",
    "data[\"text\"] = data[\"url\"].apply(lambda x : get_text(x))"
   ]
  },
  {
   "cell_type": "code",
   "execution_count": 104,
   "metadata": {},
   "outputs": [
    {
     "data": {
      "text/html": [
       "<div>\n",
       "<style scoped>\n",
       "    .dataframe tbody tr th:only-of-type {\n",
       "        vertical-align: middle;\n",
       "    }\n",
       "\n",
       "    .dataframe tbody tr th {\n",
       "        vertical-align: top;\n",
       "    }\n",
       "\n",
       "    .dataframe thead th {\n",
       "        text-align: right;\n",
       "    }\n",
       "</style>\n",
       "<table border=\"1\" class=\"dataframe\">\n",
       "  <thead>\n",
       "    <tr style=\"text-align: right;\">\n",
       "      <th></th>\n",
       "      <th>title</th>\n",
       "      <th>url</th>\n",
       "      <th>date</th>\n",
       "      <th>category</th>\n",
       "      <th>User Need</th>\n",
       "      <th>text</th>\n",
       "    </tr>\n",
       "  </thead>\n",
       "  <tbody>\n",
       "    <tr>\n",
       "      <th>790</th>\n",
       "      <td>Enterrés dans des tombes sans nom</td>\n",
       "      <td>http://www.bbc.co.uk/news/resources/idt-54e83d...</td>\n",
       "      <td>Thu, 12 May 2016 10:40:19 GMT</td>\n",
       "      <td>NaN</td>\n",
       "      <td>None</td>\n",
       "      <td>error</td>\n",
       "    </tr>\n",
       "    <tr>\n",
       "      <th>1210</th>\n",
       "      <td>Guide de rédaction</td>\n",
       "      <td>http://www.bbc.co.uk/academy/french/language/s...</td>\n",
       "      <td>Tue, 26 Jan 2016 13:45:50 GMT</td>\n",
       "      <td>NaN</td>\n",
       "      <td>None</td>\n",
       "      <td>error</td>\n",
       "    </tr>\n",
       "  </tbody>\n",
       "</table>\n",
       "</div>"
      ],
      "text/plain": [
       "                                  title  \\\n",
       "790   Enterrés dans des tombes sans nom   \n",
       "1210                 Guide de rédaction   \n",
       "\n",
       "                                                    url  \\\n",
       "790   http://www.bbc.co.uk/news/resources/idt-54e83d...   \n",
       "1210  http://www.bbc.co.uk/academy/french/language/s...   \n",
       "\n",
       "                               date category User Need   text  \n",
       "790   Thu, 12 May 2016 10:40:19 GMT      NaN      None  error  \n",
       "1210  Tue, 26 Jan 2016 13:45:50 GMT      NaN      None  error  "
      ]
     },
     "execution_count": 104,
     "metadata": {},
     "output_type": "execute_result"
    }
   ],
   "source": [
    "data[data.text==\"error\"]"
   ]
  },
  {
   "cell_type": "code",
   "execution_count": 106,
   "metadata": {},
   "outputs": [],
   "source": [
    "data = data.dropna(subset=[\"User Need\"])"
   ]
  },
  {
   "cell_type": "code",
   "execution_count": 109,
   "metadata": {},
   "outputs": [],
   "source": [
    "data.to_csv(\"bbc_afrique_rss.csv\",index = False)"
   ]
  },
  {
   "cell_type": "code",
   "execution_count": 111,
   "metadata": {},
   "outputs": [],
   "source": [
    "data2 = pd.read_csv(\"bbc_afrique_userneeds.csv\")"
   ]
  },
  {
   "cell_type": "code",
   "execution_count": 114,
   "metadata": {},
   "outputs": [],
   "source": [
    "data3 = data2.append(data)"
   ]
  },
  {
   "cell_type": "code",
   "execution_count": 115,
   "metadata": {},
   "outputs": [],
   "source": [
    "data3 = data3.drop_duplicates(subset=['url'], keep='last')"
   ]
  },
  {
   "cell_type": "code",
   "execution_count": 119,
   "metadata": {},
   "outputs": [],
   "source": [
    "data3.to_csv(\"BBC_afrique_final.csv\",index=False)"
   ]
  },
  {
   "cell_type": "code",
   "execution_count": 122,
   "metadata": {},
   "outputs": [
    {
     "data": {
      "text/plain": [
       "Update me                1448\n",
       "Keep me on trend          821\n",
       "Educate me                706\n",
       "Give me perspective       627\n",
       "Inspire me                441\n",
       "CS                        245\n",
       "Divert me                  86\n",
       "News - Disclosure          14\n",
       "News - Learning             5\n",
       "News - Reader Revenue       1\n",
       "Name: User Need, dtype: int64"
      ]
     },
     "execution_count": 122,
     "metadata": {},
     "output_type": "execute_result"
    }
   ],
   "source": [
    "data3[\"User Need\"].value_counts()"
   ]
  },
  {
   "cell_type": "code",
   "execution_count": null,
   "metadata": {},
   "outputs": [],
   "source": []
  }
 ],
 "metadata": {
  "kernelspec": {
   "display_name": "Python 3",
   "language": "python",
   "name": "python3"
  },
  "language_info": {
   "codemirror_mode": {
    "name": "ipython",
    "version": 3
   },
   "file_extension": ".py",
   "mimetype": "text/x-python",
   "name": "python",
   "nbconvert_exporter": "python",
   "pygments_lexer": "ipython3",
   "version": "3.8.5"
  }
 },
 "nbformat": 4,
 "nbformat_minor": 4
}
