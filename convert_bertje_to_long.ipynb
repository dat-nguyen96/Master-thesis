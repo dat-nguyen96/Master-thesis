{
  "nbformat": 4,
  "nbformat_minor": 0,
  "metadata": {
    "colab": {
      "name": "convert_bertje_to_long.ipynb",
      "provenance": []
    },
    "kernelspec": {
      "name": "python3",
      "display_name": "Python 3"
    },
    "language_info": {
      "name": "python"
    },
    "accelerator": "GPU",
    "widgets": {
      "application/vnd.jupyter.widget-state+json": {
        "d06495c44a804f51908df411bbf52f0a": {
          "model_module": "@jupyter-widgets/controls",
          "model_name": "HBoxModel",
          "state": {
            "_view_name": "HBoxView",
            "_dom_classes": [],
            "_model_name": "HBoxModel",
            "_view_module": "@jupyter-widgets/controls",
            "_model_module_version": "1.5.0",
            "_view_count": null,
            "_view_module_version": "1.5.0",
            "box_style": "",
            "layout": "IPY_MODEL_191e9fba53c148308a224ab9fde31a8c",
            "_model_module": "@jupyter-widgets/controls",
            "children": [
              "IPY_MODEL_dab79d8bad5d4be4833d166e76730428",
              "IPY_MODEL_fb5b9bdb748c49debe5e933c0b5a6c0b"
            ]
          }
        },
        "191e9fba53c148308a224ab9fde31a8c": {
          "model_module": "@jupyter-widgets/base",
          "model_name": "LayoutModel",
          "state": {
            "_view_name": "LayoutView",
            "grid_template_rows": null,
            "right": null,
            "justify_content": null,
            "_view_module": "@jupyter-widgets/base",
            "overflow": null,
            "_model_module_version": "1.2.0",
            "_view_count": null,
            "flex_flow": null,
            "width": null,
            "min_width": null,
            "border": null,
            "align_items": null,
            "bottom": null,
            "_model_module": "@jupyter-widgets/base",
            "top": null,
            "grid_column": null,
            "overflow_y": null,
            "overflow_x": null,
            "grid_auto_flow": null,
            "grid_area": null,
            "grid_template_columns": null,
            "flex": null,
            "_model_name": "LayoutModel",
            "justify_items": null,
            "grid_row": null,
            "max_height": null,
            "align_content": null,
            "visibility": null,
            "align_self": null,
            "height": null,
            "min_height": null,
            "padding": null,
            "grid_auto_rows": null,
            "grid_gap": null,
            "max_width": null,
            "order": null,
            "_view_module_version": "1.2.0",
            "grid_template_areas": null,
            "object_position": null,
            "object_fit": null,
            "grid_auto_columns": null,
            "margin": null,
            "display": null,
            "left": null
          }
        },
        "dab79d8bad5d4be4833d166e76730428": {
          "model_module": "@jupyter-widgets/controls",
          "model_name": "FloatProgressModel",
          "state": {
            "_view_name": "ProgressView",
            "style": "IPY_MODEL_c1dd0d715c404c6e94ae71ffa3338ed8",
            "_dom_classes": [],
            "description": "Downloading: 100%",
            "_model_name": "FloatProgressModel",
            "bar_style": "success",
            "max": 521,
            "_view_module": "@jupyter-widgets/controls",
            "_model_module_version": "1.5.0",
            "value": 521,
            "_view_count": null,
            "_view_module_version": "1.5.0",
            "orientation": "horizontal",
            "min": 0,
            "description_tooltip": null,
            "_model_module": "@jupyter-widgets/controls",
            "layout": "IPY_MODEL_09e0ae1dac2d4037bf7a0ca03ec6aa96"
          }
        },
        "fb5b9bdb748c49debe5e933c0b5a6c0b": {
          "model_module": "@jupyter-widgets/controls",
          "model_name": "HTMLModel",
          "state": {
            "_view_name": "HTMLView",
            "style": "IPY_MODEL_bd21e73558b8439181c24cf9aa337063",
            "_dom_classes": [],
            "description": "",
            "_model_name": "HTMLModel",
            "placeholder": "​",
            "_view_module": "@jupyter-widgets/controls",
            "_model_module_version": "1.5.0",
            "value": " 521/521 [00:13&lt;00:00, 37.5B/s]",
            "_view_count": null,
            "_view_module_version": "1.5.0",
            "description_tooltip": null,
            "_model_module": "@jupyter-widgets/controls",
            "layout": "IPY_MODEL_37fe624c223a443e8a44f4091b45236f"
          }
        },
        "c1dd0d715c404c6e94ae71ffa3338ed8": {
          "model_module": "@jupyter-widgets/controls",
          "model_name": "ProgressStyleModel",
          "state": {
            "_view_name": "StyleView",
            "_model_name": "ProgressStyleModel",
            "description_width": "initial",
            "_view_module": "@jupyter-widgets/base",
            "_model_module_version": "1.5.0",
            "_view_count": null,
            "_view_module_version": "1.2.0",
            "bar_color": null,
            "_model_module": "@jupyter-widgets/controls"
          }
        },
        "09e0ae1dac2d4037bf7a0ca03ec6aa96": {
          "model_module": "@jupyter-widgets/base",
          "model_name": "LayoutModel",
          "state": {
            "_view_name": "LayoutView",
            "grid_template_rows": null,
            "right": null,
            "justify_content": null,
            "_view_module": "@jupyter-widgets/base",
            "overflow": null,
            "_model_module_version": "1.2.0",
            "_view_count": null,
            "flex_flow": null,
            "width": null,
            "min_width": null,
            "border": null,
            "align_items": null,
            "bottom": null,
            "_model_module": "@jupyter-widgets/base",
            "top": null,
            "grid_column": null,
            "overflow_y": null,
            "overflow_x": null,
            "grid_auto_flow": null,
            "grid_area": null,
            "grid_template_columns": null,
            "flex": null,
            "_model_name": "LayoutModel",
            "justify_items": null,
            "grid_row": null,
            "max_height": null,
            "align_content": null,
            "visibility": null,
            "align_self": null,
            "height": null,
            "min_height": null,
            "padding": null,
            "grid_auto_rows": null,
            "grid_gap": null,
            "max_width": null,
            "order": null,
            "_view_module_version": "1.2.0",
            "grid_template_areas": null,
            "object_position": null,
            "object_fit": null,
            "grid_auto_columns": null,
            "margin": null,
            "display": null,
            "left": null
          }
        },
        "bd21e73558b8439181c24cf9aa337063": {
          "model_module": "@jupyter-widgets/controls",
          "model_name": "DescriptionStyleModel",
          "state": {
            "_view_name": "StyleView",
            "_model_name": "DescriptionStyleModel",
            "description_width": "",
            "_view_module": "@jupyter-widgets/base",
            "_model_module_version": "1.5.0",
            "_view_count": null,
            "_view_module_version": "1.2.0",
            "_model_module": "@jupyter-widgets/controls"
          }
        },
        "37fe624c223a443e8a44f4091b45236f": {
          "model_module": "@jupyter-widgets/base",
          "model_name": "LayoutModel",
          "state": {
            "_view_name": "LayoutView",
            "grid_template_rows": null,
            "right": null,
            "justify_content": null,
            "_view_module": "@jupyter-widgets/base",
            "overflow": null,
            "_model_module_version": "1.2.0",
            "_view_count": null,
            "flex_flow": null,
            "width": null,
            "min_width": null,
            "border": null,
            "align_items": null,
            "bottom": null,
            "_model_module": "@jupyter-widgets/base",
            "top": null,
            "grid_column": null,
            "overflow_y": null,
            "overflow_x": null,
            "grid_auto_flow": null,
            "grid_area": null,
            "grid_template_columns": null,
            "flex": null,
            "_model_name": "LayoutModel",
            "justify_items": null,
            "grid_row": null,
            "max_height": null,
            "align_content": null,
            "visibility": null,
            "align_self": null,
            "height": null,
            "min_height": null,
            "padding": null,
            "grid_auto_rows": null,
            "grid_gap": null,
            "max_width": null,
            "order": null,
            "_view_module_version": "1.2.0",
            "grid_template_areas": null,
            "object_position": null,
            "object_fit": null,
            "grid_auto_columns": null,
            "margin": null,
            "display": null,
            "left": null
          }
        },
        "c51298e303be493cab50cecb30a41bf1": {
          "model_module": "@jupyter-widgets/controls",
          "model_name": "HBoxModel",
          "state": {
            "_view_name": "HBoxView",
            "_dom_classes": [],
            "_model_name": "HBoxModel",
            "_view_module": "@jupyter-widgets/controls",
            "_model_module_version": "1.5.0",
            "_view_count": null,
            "_view_module_version": "1.5.0",
            "box_style": "",
            "layout": "IPY_MODEL_35b55c593e3a4420bee3a3ded33f77a6",
            "_model_module": "@jupyter-widgets/controls",
            "children": [
              "IPY_MODEL_6e03d03ccb554c29b9a38cedb5facb9c",
              "IPY_MODEL_ff3e70452bd344499e2e87afaba006b8"
            ]
          }
        },
        "35b55c593e3a4420bee3a3ded33f77a6": {
          "model_module": "@jupyter-widgets/base",
          "model_name": "LayoutModel",
          "state": {
            "_view_name": "LayoutView",
            "grid_template_rows": null,
            "right": null,
            "justify_content": null,
            "_view_module": "@jupyter-widgets/base",
            "overflow": null,
            "_model_module_version": "1.2.0",
            "_view_count": null,
            "flex_flow": null,
            "width": null,
            "min_width": null,
            "border": null,
            "align_items": null,
            "bottom": null,
            "_model_module": "@jupyter-widgets/base",
            "top": null,
            "grid_column": null,
            "overflow_y": null,
            "overflow_x": null,
            "grid_auto_flow": null,
            "grid_area": null,
            "grid_template_columns": null,
            "flex": null,
            "_model_name": "LayoutModel",
            "justify_items": null,
            "grid_row": null,
            "max_height": null,
            "align_content": null,
            "visibility": null,
            "align_self": null,
            "height": null,
            "min_height": null,
            "padding": null,
            "grid_auto_rows": null,
            "grid_gap": null,
            "max_width": null,
            "order": null,
            "_view_module_version": "1.2.0",
            "grid_template_areas": null,
            "object_position": null,
            "object_fit": null,
            "grid_auto_columns": null,
            "margin": null,
            "display": null,
            "left": null
          }
        },
        "6e03d03ccb554c29b9a38cedb5facb9c": {
          "model_module": "@jupyter-widgets/controls",
          "model_name": "FloatProgressModel",
          "state": {
            "_view_name": "ProgressView",
            "style": "IPY_MODEL_b1070adc23184a979e34fbb3bfe04c16",
            "_dom_classes": [],
            "description": "Downloading: 100%",
            "_model_name": "FloatProgressModel",
            "bar_style": "success",
            "max": 436538834,
            "_view_module": "@jupyter-widgets/controls",
            "_model_module_version": "1.5.0",
            "value": 436538834,
            "_view_count": null,
            "_view_module_version": "1.5.0",
            "orientation": "horizontal",
            "min": 0,
            "description_tooltip": null,
            "_model_module": "@jupyter-widgets/controls",
            "layout": "IPY_MODEL_c1a5ff4c78694520a578ede20bcf94c7"
          }
        },
        "ff3e70452bd344499e2e87afaba006b8": {
          "model_module": "@jupyter-widgets/controls",
          "model_name": "HTMLModel",
          "state": {
            "_view_name": "HTMLView",
            "style": "IPY_MODEL_4064b1bf2ba74c8d8d4b62d68f170b94",
            "_dom_classes": [],
            "description": "",
            "_model_name": "HTMLModel",
            "placeholder": "​",
            "_view_module": "@jupyter-widgets/controls",
            "_model_module_version": "1.5.0",
            "value": " 437M/437M [00:13&lt;00:00, 32.3MB/s]",
            "_view_count": null,
            "_view_module_version": "1.5.0",
            "description_tooltip": null,
            "_model_module": "@jupyter-widgets/controls",
            "layout": "IPY_MODEL_a2e2879986244c09964b3c4add638ebc"
          }
        },
        "b1070adc23184a979e34fbb3bfe04c16": {
          "model_module": "@jupyter-widgets/controls",
          "model_name": "ProgressStyleModel",
          "state": {
            "_view_name": "StyleView",
            "_model_name": "ProgressStyleModel",
            "description_width": "initial",
            "_view_module": "@jupyter-widgets/base",
            "_model_module_version": "1.5.0",
            "_view_count": null,
            "_view_module_version": "1.2.0",
            "bar_color": null,
            "_model_module": "@jupyter-widgets/controls"
          }
        },
        "c1a5ff4c78694520a578ede20bcf94c7": {
          "model_module": "@jupyter-widgets/base",
          "model_name": "LayoutModel",
          "state": {
            "_view_name": "LayoutView",
            "grid_template_rows": null,
            "right": null,
            "justify_content": null,
            "_view_module": "@jupyter-widgets/base",
            "overflow": null,
            "_model_module_version": "1.2.0",
            "_view_count": null,
            "flex_flow": null,
            "width": null,
            "min_width": null,
            "border": null,
            "align_items": null,
            "bottom": null,
            "_model_module": "@jupyter-widgets/base",
            "top": null,
            "grid_column": null,
            "overflow_y": null,
            "overflow_x": null,
            "grid_auto_flow": null,
            "grid_area": null,
            "grid_template_columns": null,
            "flex": null,
            "_model_name": "LayoutModel",
            "justify_items": null,
            "grid_row": null,
            "max_height": null,
            "align_content": null,
            "visibility": null,
            "align_self": null,
            "height": null,
            "min_height": null,
            "padding": null,
            "grid_auto_rows": null,
            "grid_gap": null,
            "max_width": null,
            "order": null,
            "_view_module_version": "1.2.0",
            "grid_template_areas": null,
            "object_position": null,
            "object_fit": null,
            "grid_auto_columns": null,
            "margin": null,
            "display": null,
            "left": null
          }
        },
        "4064b1bf2ba74c8d8d4b62d68f170b94": {
          "model_module": "@jupyter-widgets/controls",
          "model_name": "DescriptionStyleModel",
          "state": {
            "_view_name": "StyleView",
            "_model_name": "DescriptionStyleModel",
            "description_width": "",
            "_view_module": "@jupyter-widgets/base",
            "_model_module_version": "1.5.0",
            "_view_count": null,
            "_view_module_version": "1.2.0",
            "_model_module": "@jupyter-widgets/controls"
          }
        },
        "a2e2879986244c09964b3c4add638ebc": {
          "model_module": "@jupyter-widgets/base",
          "model_name": "LayoutModel",
          "state": {
            "_view_name": "LayoutView",
            "grid_template_rows": null,
            "right": null,
            "justify_content": null,
            "_view_module": "@jupyter-widgets/base",
            "overflow": null,
            "_model_module_version": "1.2.0",
            "_view_count": null,
            "flex_flow": null,
            "width": null,
            "min_width": null,
            "border": null,
            "align_items": null,
            "bottom": null,
            "_model_module": "@jupyter-widgets/base",
            "top": null,
            "grid_column": null,
            "overflow_y": null,
            "overflow_x": null,
            "grid_auto_flow": null,
            "grid_area": null,
            "grid_template_columns": null,
            "flex": null,
            "_model_name": "LayoutModel",
            "justify_items": null,
            "grid_row": null,
            "max_height": null,
            "align_content": null,
            "visibility": null,
            "align_self": null,
            "height": null,
            "min_height": null,
            "padding": null,
            "grid_auto_rows": null,
            "grid_gap": null,
            "max_width": null,
            "order": null,
            "_view_module_version": "1.2.0",
            "grid_template_areas": null,
            "object_position": null,
            "object_fit": null,
            "grid_auto_columns": null,
            "margin": null,
            "display": null,
            "left": null
          }
        },
        "15b7aeb122044f51b566b57ff127e1ae": {
          "model_module": "@jupyter-widgets/controls",
          "model_name": "HBoxModel",
          "state": {
            "_view_name": "HBoxView",
            "_dom_classes": [],
            "_model_name": "HBoxModel",
            "_view_module": "@jupyter-widgets/controls",
            "_model_module_version": "1.5.0",
            "_view_count": null,
            "_view_module_version": "1.5.0",
            "box_style": "",
            "layout": "IPY_MODEL_d81055cdcde9435fa7abf9e7d67e1eb8",
            "_model_module": "@jupyter-widgets/controls",
            "children": [
              "IPY_MODEL_3a1530f60ccc4651a31aef7f4a0249f7",
              "IPY_MODEL_4edee56147ad4e5fb7c14dc276236fc4"
            ]
          }
        },
        "d81055cdcde9435fa7abf9e7d67e1eb8": {
          "model_module": "@jupyter-widgets/base",
          "model_name": "LayoutModel",
          "state": {
            "_view_name": "LayoutView",
            "grid_template_rows": null,
            "right": null,
            "justify_content": null,
            "_view_module": "@jupyter-widgets/base",
            "overflow": null,
            "_model_module_version": "1.2.0",
            "_view_count": null,
            "flex_flow": null,
            "width": null,
            "min_width": null,
            "border": null,
            "align_items": null,
            "bottom": null,
            "_model_module": "@jupyter-widgets/base",
            "top": null,
            "grid_column": null,
            "overflow_y": null,
            "overflow_x": null,
            "grid_auto_flow": null,
            "grid_area": null,
            "grid_template_columns": null,
            "flex": null,
            "_model_name": "LayoutModel",
            "justify_items": null,
            "grid_row": null,
            "max_height": null,
            "align_content": null,
            "visibility": null,
            "align_self": null,
            "height": null,
            "min_height": null,
            "padding": null,
            "grid_auto_rows": null,
            "grid_gap": null,
            "max_width": null,
            "order": null,
            "_view_module_version": "1.2.0",
            "grid_template_areas": null,
            "object_position": null,
            "object_fit": null,
            "grid_auto_columns": null,
            "margin": null,
            "display": null,
            "left": null
          }
        },
        "3a1530f60ccc4651a31aef7f4a0249f7": {
          "model_module": "@jupyter-widgets/controls",
          "model_name": "FloatProgressModel",
          "state": {
            "_view_name": "ProgressView",
            "style": "IPY_MODEL_9227ba20fccf42b79765226ff76f987b",
            "_dom_classes": [],
            "description": "Downloading: 100%",
            "_model_name": "FloatProgressModel",
            "bar_style": "success",
            "max": 241441,
            "_view_module": "@jupyter-widgets/controls",
            "_model_module_version": "1.5.0",
            "value": 241441,
            "_view_count": null,
            "_view_module_version": "1.5.0",
            "orientation": "horizontal",
            "min": 0,
            "description_tooltip": null,
            "_model_module": "@jupyter-widgets/controls",
            "layout": "IPY_MODEL_3c22ea360a294ac3bab2e2d087367fcc"
          }
        },
        "4edee56147ad4e5fb7c14dc276236fc4": {
          "model_module": "@jupyter-widgets/controls",
          "model_name": "HTMLModel",
          "state": {
            "_view_name": "HTMLView",
            "style": "IPY_MODEL_256cd315c2ed49ecbda054824c2e2dfa",
            "_dom_classes": [],
            "description": "",
            "_model_name": "HTMLModel",
            "placeholder": "​",
            "_view_module": "@jupyter-widgets/controls",
            "_model_module_version": "1.5.0",
            "value": " 241k/241k [00:00&lt;00:00, 976kB/s]",
            "_view_count": null,
            "_view_module_version": "1.5.0",
            "description_tooltip": null,
            "_model_module": "@jupyter-widgets/controls",
            "layout": "IPY_MODEL_84d9c7894ae746bda0cd8e73dc3bf95b"
          }
        },
        "9227ba20fccf42b79765226ff76f987b": {
          "model_module": "@jupyter-widgets/controls",
          "model_name": "ProgressStyleModel",
          "state": {
            "_view_name": "StyleView",
            "_model_name": "ProgressStyleModel",
            "description_width": "initial",
            "_view_module": "@jupyter-widgets/base",
            "_model_module_version": "1.5.0",
            "_view_count": null,
            "_view_module_version": "1.2.0",
            "bar_color": null,
            "_model_module": "@jupyter-widgets/controls"
          }
        },
        "3c22ea360a294ac3bab2e2d087367fcc": {
          "model_module": "@jupyter-widgets/base",
          "model_name": "LayoutModel",
          "state": {
            "_view_name": "LayoutView",
            "grid_template_rows": null,
            "right": null,
            "justify_content": null,
            "_view_module": "@jupyter-widgets/base",
            "overflow": null,
            "_model_module_version": "1.2.0",
            "_view_count": null,
            "flex_flow": null,
            "width": null,
            "min_width": null,
            "border": null,
            "align_items": null,
            "bottom": null,
            "_model_module": "@jupyter-widgets/base",
            "top": null,
            "grid_column": null,
            "overflow_y": null,
            "overflow_x": null,
            "grid_auto_flow": null,
            "grid_area": null,
            "grid_template_columns": null,
            "flex": null,
            "_model_name": "LayoutModel",
            "justify_items": null,
            "grid_row": null,
            "max_height": null,
            "align_content": null,
            "visibility": null,
            "align_self": null,
            "height": null,
            "min_height": null,
            "padding": null,
            "grid_auto_rows": null,
            "grid_gap": null,
            "max_width": null,
            "order": null,
            "_view_module_version": "1.2.0",
            "grid_template_areas": null,
            "object_position": null,
            "object_fit": null,
            "grid_auto_columns": null,
            "margin": null,
            "display": null,
            "left": null
          }
        },
        "256cd315c2ed49ecbda054824c2e2dfa": {
          "model_module": "@jupyter-widgets/controls",
          "model_name": "DescriptionStyleModel",
          "state": {
            "_view_name": "StyleView",
            "_model_name": "DescriptionStyleModel",
            "description_width": "",
            "_view_module": "@jupyter-widgets/base",
            "_model_module_version": "1.5.0",
            "_view_count": null,
            "_view_module_version": "1.2.0",
            "_model_module": "@jupyter-widgets/controls"
          }
        },
        "84d9c7894ae746bda0cd8e73dc3bf95b": {
          "model_module": "@jupyter-widgets/base",
          "model_name": "LayoutModel",
          "state": {
            "_view_name": "LayoutView",
            "grid_template_rows": null,
            "right": null,
            "justify_content": null,
            "_view_module": "@jupyter-widgets/base",
            "overflow": null,
            "_model_module_version": "1.2.0",
            "_view_count": null,
            "flex_flow": null,
            "width": null,
            "min_width": null,
            "border": null,
            "align_items": null,
            "bottom": null,
            "_model_module": "@jupyter-widgets/base",
            "top": null,
            "grid_column": null,
            "overflow_y": null,
            "overflow_x": null,
            "grid_auto_flow": null,
            "grid_area": null,
            "grid_template_columns": null,
            "flex": null,
            "_model_name": "LayoutModel",
            "justify_items": null,
            "grid_row": null,
            "max_height": null,
            "align_content": null,
            "visibility": null,
            "align_self": null,
            "height": null,
            "min_height": null,
            "padding": null,
            "grid_auto_rows": null,
            "grid_gap": null,
            "max_width": null,
            "order": null,
            "_view_module_version": "1.2.0",
            "grid_template_areas": null,
            "object_position": null,
            "object_fit": null,
            "grid_auto_columns": null,
            "margin": null,
            "display": null,
            "left": null
          }
        },
        "492ac5eec108444cad1e485f1ef6c921": {
          "model_module": "@jupyter-widgets/controls",
          "model_name": "HBoxModel",
          "state": {
            "_view_name": "HBoxView",
            "_dom_classes": [],
            "_model_name": "HBoxModel",
            "_view_module": "@jupyter-widgets/controls",
            "_model_module_version": "1.5.0",
            "_view_count": null,
            "_view_module_version": "1.5.0",
            "box_style": "",
            "layout": "IPY_MODEL_121908311a404796812d4a3689677c96",
            "_model_module": "@jupyter-widgets/controls",
            "children": [
              "IPY_MODEL_4c909de5fa78452bb32f313bb846490d",
              "IPY_MODEL_ca0bca5d28b043f398675127a302be09"
            ]
          }
        },
        "121908311a404796812d4a3689677c96": {
          "model_module": "@jupyter-widgets/base",
          "model_name": "LayoutModel",
          "state": {
            "_view_name": "LayoutView",
            "grid_template_rows": null,
            "right": null,
            "justify_content": null,
            "_view_module": "@jupyter-widgets/base",
            "overflow": null,
            "_model_module_version": "1.2.0",
            "_view_count": null,
            "flex_flow": null,
            "width": null,
            "min_width": null,
            "border": null,
            "align_items": null,
            "bottom": null,
            "_model_module": "@jupyter-widgets/base",
            "top": null,
            "grid_column": null,
            "overflow_y": null,
            "overflow_x": null,
            "grid_auto_flow": null,
            "grid_area": null,
            "grid_template_columns": null,
            "flex": null,
            "_model_name": "LayoutModel",
            "justify_items": null,
            "grid_row": null,
            "max_height": null,
            "align_content": null,
            "visibility": null,
            "align_self": null,
            "height": null,
            "min_height": null,
            "padding": null,
            "grid_auto_rows": null,
            "grid_gap": null,
            "max_width": null,
            "order": null,
            "_view_module_version": "1.2.0",
            "grid_template_areas": null,
            "object_position": null,
            "object_fit": null,
            "grid_auto_columns": null,
            "margin": null,
            "display": null,
            "left": null
          }
        },
        "4c909de5fa78452bb32f313bb846490d": {
          "model_module": "@jupyter-widgets/controls",
          "model_name": "FloatProgressModel",
          "state": {
            "_view_name": "ProgressView",
            "style": "IPY_MODEL_ac58f8b7a9fc4e69991a9133c55f4458",
            "_dom_classes": [],
            "description": "Downloading: 100%",
            "_model_name": "FloatProgressModel",
            "bar_style": "success",
            "max": 112,
            "_view_module": "@jupyter-widgets/controls",
            "_model_module_version": "1.5.0",
            "value": 112,
            "_view_count": null,
            "_view_module_version": "1.5.0",
            "orientation": "horizontal",
            "min": 0,
            "description_tooltip": null,
            "_model_module": "@jupyter-widgets/controls",
            "layout": "IPY_MODEL_ac27cf0cb3364ea5be32dd1a1e4f8fc7"
          }
        },
        "ca0bca5d28b043f398675127a302be09": {
          "model_module": "@jupyter-widgets/controls",
          "model_name": "HTMLModel",
          "state": {
            "_view_name": "HTMLView",
            "style": "IPY_MODEL_942a1a36007f4e0c9d3ce247f53aede6",
            "_dom_classes": [],
            "description": "",
            "_model_name": "HTMLModel",
            "placeholder": "​",
            "_view_module": "@jupyter-widgets/controls",
            "_model_module_version": "1.5.0",
            "value": " 112/112 [00:00&lt;00:00, 969B/s]",
            "_view_count": null,
            "_view_module_version": "1.5.0",
            "description_tooltip": null,
            "_model_module": "@jupyter-widgets/controls",
            "layout": "IPY_MODEL_91e0ed5f2fcc45d8b328f36510289775"
          }
        },
        "ac58f8b7a9fc4e69991a9133c55f4458": {
          "model_module": "@jupyter-widgets/controls",
          "model_name": "ProgressStyleModel",
          "state": {
            "_view_name": "StyleView",
            "_model_name": "ProgressStyleModel",
            "description_width": "initial",
            "_view_module": "@jupyter-widgets/base",
            "_model_module_version": "1.5.0",
            "_view_count": null,
            "_view_module_version": "1.2.0",
            "bar_color": null,
            "_model_module": "@jupyter-widgets/controls"
          }
        },
        "ac27cf0cb3364ea5be32dd1a1e4f8fc7": {
          "model_module": "@jupyter-widgets/base",
          "model_name": "LayoutModel",
          "state": {
            "_view_name": "LayoutView",
            "grid_template_rows": null,
            "right": null,
            "justify_content": null,
            "_view_module": "@jupyter-widgets/base",
            "overflow": null,
            "_model_module_version": "1.2.0",
            "_view_count": null,
            "flex_flow": null,
            "width": null,
            "min_width": null,
            "border": null,
            "align_items": null,
            "bottom": null,
            "_model_module": "@jupyter-widgets/base",
            "top": null,
            "grid_column": null,
            "overflow_y": null,
            "overflow_x": null,
            "grid_auto_flow": null,
            "grid_area": null,
            "grid_template_columns": null,
            "flex": null,
            "_model_name": "LayoutModel",
            "justify_items": null,
            "grid_row": null,
            "max_height": null,
            "align_content": null,
            "visibility": null,
            "align_self": null,
            "height": null,
            "min_height": null,
            "padding": null,
            "grid_auto_rows": null,
            "grid_gap": null,
            "max_width": null,
            "order": null,
            "_view_module_version": "1.2.0",
            "grid_template_areas": null,
            "object_position": null,
            "object_fit": null,
            "grid_auto_columns": null,
            "margin": null,
            "display": null,
            "left": null
          }
        },
        "942a1a36007f4e0c9d3ce247f53aede6": {
          "model_module": "@jupyter-widgets/controls",
          "model_name": "DescriptionStyleModel",
          "state": {
            "_view_name": "StyleView",
            "_model_name": "DescriptionStyleModel",
            "description_width": "",
            "_view_module": "@jupyter-widgets/base",
            "_model_module_version": "1.5.0",
            "_view_count": null,
            "_view_module_version": "1.2.0",
            "_model_module": "@jupyter-widgets/controls"
          }
        },
        "91e0ed5f2fcc45d8b328f36510289775": {
          "model_module": "@jupyter-widgets/base",
          "model_name": "LayoutModel",
          "state": {
            "_view_name": "LayoutView",
            "grid_template_rows": null,
            "right": null,
            "justify_content": null,
            "_view_module": "@jupyter-widgets/base",
            "overflow": null,
            "_model_module_version": "1.2.0",
            "_view_count": null,
            "flex_flow": null,
            "width": null,
            "min_width": null,
            "border": null,
            "align_items": null,
            "bottom": null,
            "_model_module": "@jupyter-widgets/base",
            "top": null,
            "grid_column": null,
            "overflow_y": null,
            "overflow_x": null,
            "grid_auto_flow": null,
            "grid_area": null,
            "grid_template_columns": null,
            "flex": null,
            "_model_name": "LayoutModel",
            "justify_items": null,
            "grid_row": null,
            "max_height": null,
            "align_content": null,
            "visibility": null,
            "align_self": null,
            "height": null,
            "min_height": null,
            "padding": null,
            "grid_auto_rows": null,
            "grid_gap": null,
            "max_width": null,
            "order": null,
            "_view_module_version": "1.2.0",
            "grid_template_areas": null,
            "object_position": null,
            "object_fit": null,
            "grid_auto_columns": null,
            "margin": null,
            "display": null,
            "left": null
          }
        },
        "cf556aa4e9174b7fac37237e0d9817d5": {
          "model_module": "@jupyter-widgets/controls",
          "model_name": "HBoxModel",
          "state": {
            "_view_name": "HBoxView",
            "_dom_classes": [],
            "_model_name": "HBoxModel",
            "_view_module": "@jupyter-widgets/controls",
            "_model_module_version": "1.5.0",
            "_view_count": null,
            "_view_module_version": "1.5.0",
            "box_style": "",
            "layout": "IPY_MODEL_7754f96ab7744f5882300795be97bc6e",
            "_model_module": "@jupyter-widgets/controls",
            "children": [
              "IPY_MODEL_30b3f6496e1c47919ad4b3390a218b53",
              "IPY_MODEL_b5a4d52fc9c948d3897ca79ee6b52c80"
            ]
          }
        },
        "7754f96ab7744f5882300795be97bc6e": {
          "model_module": "@jupyter-widgets/base",
          "model_name": "LayoutModel",
          "state": {
            "_view_name": "LayoutView",
            "grid_template_rows": null,
            "right": null,
            "justify_content": null,
            "_view_module": "@jupyter-widgets/base",
            "overflow": null,
            "_model_module_version": "1.2.0",
            "_view_count": null,
            "flex_flow": null,
            "width": null,
            "min_width": null,
            "border": null,
            "align_items": null,
            "bottom": null,
            "_model_module": "@jupyter-widgets/base",
            "top": null,
            "grid_column": null,
            "overflow_y": null,
            "overflow_x": null,
            "grid_auto_flow": null,
            "grid_area": null,
            "grid_template_columns": null,
            "flex": null,
            "_model_name": "LayoutModel",
            "justify_items": null,
            "grid_row": null,
            "max_height": null,
            "align_content": null,
            "visibility": null,
            "align_self": null,
            "height": null,
            "min_height": null,
            "padding": null,
            "grid_auto_rows": null,
            "grid_gap": null,
            "max_width": null,
            "order": null,
            "_view_module_version": "1.2.0",
            "grid_template_areas": null,
            "object_position": null,
            "object_fit": null,
            "grid_auto_columns": null,
            "margin": null,
            "display": null,
            "left": null
          }
        },
        "30b3f6496e1c47919ad4b3390a218b53": {
          "model_module": "@jupyter-widgets/controls",
          "model_name": "FloatProgressModel",
          "state": {
            "_view_name": "ProgressView",
            "style": "IPY_MODEL_aaeed483073c43deb60226bf3b65f5ff",
            "_dom_classes": [],
            "description": "Downloading: 100%",
            "_model_name": "FloatProgressModel",
            "bar_style": "success",
            "max": 254,
            "_view_module": "@jupyter-widgets/controls",
            "_model_module_version": "1.5.0",
            "value": 254,
            "_view_count": null,
            "_view_module_version": "1.5.0",
            "orientation": "horizontal",
            "min": 0,
            "description_tooltip": null,
            "_model_module": "@jupyter-widgets/controls",
            "layout": "IPY_MODEL_8bce6337127b4328adc1f17a1e1c5bca"
          }
        },
        "b5a4d52fc9c948d3897ca79ee6b52c80": {
          "model_module": "@jupyter-widgets/controls",
          "model_name": "HTMLModel",
          "state": {
            "_view_name": "HTMLView",
            "style": "IPY_MODEL_46195c02288d4b54aec553fe1e9f9026",
            "_dom_classes": [],
            "description": "",
            "_model_name": "HTMLModel",
            "placeholder": "​",
            "_view_module": "@jupyter-widgets/controls",
            "_model_module_version": "1.5.0",
            "value": " 254/254 [00:00&lt;00:00, 3.23kB/s]",
            "_view_count": null,
            "_view_module_version": "1.5.0",
            "description_tooltip": null,
            "_model_module": "@jupyter-widgets/controls",
            "layout": "IPY_MODEL_26c00a213b404c53826f99cb3f80e951"
          }
        },
        "aaeed483073c43deb60226bf3b65f5ff": {
          "model_module": "@jupyter-widgets/controls",
          "model_name": "ProgressStyleModel",
          "state": {
            "_view_name": "StyleView",
            "_model_name": "ProgressStyleModel",
            "description_width": "initial",
            "_view_module": "@jupyter-widgets/base",
            "_model_module_version": "1.5.0",
            "_view_count": null,
            "_view_module_version": "1.2.0",
            "bar_color": null,
            "_model_module": "@jupyter-widgets/controls"
          }
        },
        "8bce6337127b4328adc1f17a1e1c5bca": {
          "model_module": "@jupyter-widgets/base",
          "model_name": "LayoutModel",
          "state": {
            "_view_name": "LayoutView",
            "grid_template_rows": null,
            "right": null,
            "justify_content": null,
            "_view_module": "@jupyter-widgets/base",
            "overflow": null,
            "_model_module_version": "1.2.0",
            "_view_count": null,
            "flex_flow": null,
            "width": null,
            "min_width": null,
            "border": null,
            "align_items": null,
            "bottom": null,
            "_model_module": "@jupyter-widgets/base",
            "top": null,
            "grid_column": null,
            "overflow_y": null,
            "overflow_x": null,
            "grid_auto_flow": null,
            "grid_area": null,
            "grid_template_columns": null,
            "flex": null,
            "_model_name": "LayoutModel",
            "justify_items": null,
            "grid_row": null,
            "max_height": null,
            "align_content": null,
            "visibility": null,
            "align_self": null,
            "height": null,
            "min_height": null,
            "padding": null,
            "grid_auto_rows": null,
            "grid_gap": null,
            "max_width": null,
            "order": null,
            "_view_module_version": "1.2.0",
            "grid_template_areas": null,
            "object_position": null,
            "object_fit": null,
            "grid_auto_columns": null,
            "margin": null,
            "display": null,
            "left": null
          }
        },
        "46195c02288d4b54aec553fe1e9f9026": {
          "model_module": "@jupyter-widgets/controls",
          "model_name": "DescriptionStyleModel",
          "state": {
            "_view_name": "StyleView",
            "_model_name": "DescriptionStyleModel",
            "description_width": "",
            "_view_module": "@jupyter-widgets/base",
            "_model_module_version": "1.5.0",
            "_view_count": null,
            "_view_module_version": "1.2.0",
            "_model_module": "@jupyter-widgets/controls"
          }
        },
        "26c00a213b404c53826f99cb3f80e951": {
          "model_module": "@jupyter-widgets/base",
          "model_name": "LayoutModel",
          "state": {
            "_view_name": "LayoutView",
            "grid_template_rows": null,
            "right": null,
            "justify_content": null,
            "_view_module": "@jupyter-widgets/base",
            "overflow": null,
            "_model_module_version": "1.2.0",
            "_view_count": null,
            "flex_flow": null,
            "width": null,
            "min_width": null,
            "border": null,
            "align_items": null,
            "bottom": null,
            "_model_module": "@jupyter-widgets/base",
            "top": null,
            "grid_column": null,
            "overflow_y": null,
            "overflow_x": null,
            "grid_auto_flow": null,
            "grid_area": null,
            "grid_template_columns": null,
            "flex": null,
            "_model_name": "LayoutModel",
            "justify_items": null,
            "grid_row": null,
            "max_height": null,
            "align_content": null,
            "visibility": null,
            "align_self": null,
            "height": null,
            "min_height": null,
            "padding": null,
            "grid_auto_rows": null,
            "grid_gap": null,
            "max_width": null,
            "order": null,
            "_view_module_version": "1.2.0",
            "grid_template_areas": null,
            "object_position": null,
            "object_fit": null,
            "grid_auto_columns": null,
            "margin": null,
            "display": null,
            "left": null
          }
        }
      }
    }
  },
  "cells": [
    {
      "cell_type": "code",
      "metadata": {
        "colab": {
          "base_uri": "https://localhost:8080/"
        },
        "id": "qc8aufjpqkxX",
        "outputId": "563109da-13d5-4816-f5f2-1b193e50639d"
      },
      "source": [
        "!pip install transformers"
      ],
      "execution_count": null,
      "outputs": [
        {
          "output_type": "stream",
          "text": [
            "Collecting transformers\n",
            "\u001b[?25l  Downloading https://files.pythonhosted.org/packages/d8/b2/57495b5309f09fa501866e225c84532d1fd89536ea62406b2181933fb418/transformers-4.5.1-py3-none-any.whl (2.1MB)\n",
            "\r\u001b[K     |▏                               | 10kB 25.9MB/s eta 0:00:01\r\u001b[K     |▎                               | 20kB 28.9MB/s eta 0:00:01\r\u001b[K     |▌                               | 30kB 19.6MB/s eta 0:00:01\r\u001b[K     |▋                               | 40kB 22.8MB/s eta 0:00:01\r\u001b[K     |▉                               | 51kB 24.3MB/s eta 0:00:01\r\u001b[K     |█                               | 61kB 26.8MB/s eta 0:00:01\r\u001b[K     |█▏                              | 71kB 21.5MB/s eta 0:00:01\r\u001b[K     |█▎                              | 81kB 22.2MB/s eta 0:00:01\r\u001b[K     |█▍                              | 92kB 20.9MB/s eta 0:00:01\r\u001b[K     |█▋                              | 102kB 20.3MB/s eta 0:00:01\r\u001b[K     |█▊                              | 112kB 20.3MB/s eta 0:00:01\r\u001b[K     |██                              | 122kB 20.3MB/s eta 0:00:01\r\u001b[K     |██                              | 133kB 20.3MB/s eta 0:00:01\r\u001b[K     |██▎                             | 143kB 20.3MB/s eta 0:00:01\r\u001b[K     |██▍                             | 153kB 20.3MB/s eta 0:00:01\r\u001b[K     |██▌                             | 163kB 20.3MB/s eta 0:00:01\r\u001b[K     |██▊                             | 174kB 20.3MB/s eta 0:00:01\r\u001b[K     |██▉                             | 184kB 20.3MB/s eta 0:00:01\r\u001b[K     |███                             | 194kB 20.3MB/s eta 0:00:01\r\u001b[K     |███▏                            | 204kB 20.3MB/s eta 0:00:01\r\u001b[K     |███▍                            | 215kB 20.3MB/s eta 0:00:01\r\u001b[K     |███▌                            | 225kB 20.3MB/s eta 0:00:01\r\u001b[K     |███▋                            | 235kB 20.3MB/s eta 0:00:01\r\u001b[K     |███▉                            | 245kB 20.3MB/s eta 0:00:01\r\u001b[K     |████                            | 256kB 20.3MB/s eta 0:00:01\r\u001b[K     |████▏                           | 266kB 20.3MB/s eta 0:00:01\r\u001b[K     |████▎                           | 276kB 20.3MB/s eta 0:00:01\r\u001b[K     |████▌                           | 286kB 20.3MB/s eta 0:00:01\r\u001b[K     |████▋                           | 296kB 20.3MB/s eta 0:00:01\r\u001b[K     |████▊                           | 307kB 20.3MB/s eta 0:00:01\r\u001b[K     |█████                           | 317kB 20.3MB/s eta 0:00:01\r\u001b[K     |█████                           | 327kB 20.3MB/s eta 0:00:01\r\u001b[K     |█████▎                          | 337kB 20.3MB/s eta 0:00:01\r\u001b[K     |█████▍                          | 348kB 20.3MB/s eta 0:00:01\r\u001b[K     |█████▋                          | 358kB 20.3MB/s eta 0:00:01\r\u001b[K     |█████▊                          | 368kB 20.3MB/s eta 0:00:01\r\u001b[K     |█████▉                          | 378kB 20.3MB/s eta 0:00:01\r\u001b[K     |██████                          | 389kB 20.3MB/s eta 0:00:01\r\u001b[K     |██████▏                         | 399kB 20.3MB/s eta 0:00:01\r\u001b[K     |██████▍                         | 409kB 20.3MB/s eta 0:00:01\r\u001b[K     |██████▌                         | 419kB 20.3MB/s eta 0:00:01\r\u001b[K     |██████▊                         | 430kB 20.3MB/s eta 0:00:01\r\u001b[K     |██████▉                         | 440kB 20.3MB/s eta 0:00:01\r\u001b[K     |███████                         | 450kB 20.3MB/s eta 0:00:01\r\u001b[K     |███████▏                        | 460kB 20.3MB/s eta 0:00:01\r\u001b[K     |███████▎                        | 471kB 20.3MB/s eta 0:00:01\r\u001b[K     |███████▌                        | 481kB 20.3MB/s eta 0:00:01\r\u001b[K     |███████▋                        | 491kB 20.3MB/s eta 0:00:01\r\u001b[K     |███████▉                        | 501kB 20.3MB/s eta 0:00:01\r\u001b[K     |████████                        | 512kB 20.3MB/s eta 0:00:01\r\u001b[K     |████████                        | 522kB 20.3MB/s eta 0:00:01\r\u001b[K     |████████▎                       | 532kB 20.3MB/s eta 0:00:01\r\u001b[K     |████████▍                       | 542kB 20.3MB/s eta 0:00:01\r\u001b[K     |████████▋                       | 552kB 20.3MB/s eta 0:00:01\r\u001b[K     |████████▊                       | 563kB 20.3MB/s eta 0:00:01\r\u001b[K     |█████████                       | 573kB 20.3MB/s eta 0:00:01\r\u001b[K     |█████████                       | 583kB 20.3MB/s eta 0:00:01\r\u001b[K     |█████████▎                      | 593kB 20.3MB/s eta 0:00:01\r\u001b[K     |█████████▍                      | 604kB 20.3MB/s eta 0:00:01\r\u001b[K     |█████████▌                      | 614kB 20.3MB/s eta 0:00:01\r\u001b[K     |█████████▊                      | 624kB 20.3MB/s eta 0:00:01\r\u001b[K     |█████████▉                      | 634kB 20.3MB/s eta 0:00:01\r\u001b[K     |██████████                      | 645kB 20.3MB/s eta 0:00:01\r\u001b[K     |██████████▏                     | 655kB 20.3MB/s eta 0:00:01\r\u001b[K     |██████████▍                     | 665kB 20.3MB/s eta 0:00:01\r\u001b[K     |██████████▌                     | 675kB 20.3MB/s eta 0:00:01\r\u001b[K     |██████████▋                     | 686kB 20.3MB/s eta 0:00:01\r\u001b[K     |██████████▉                     | 696kB 20.3MB/s eta 0:00:01\r\u001b[K     |███████████                     | 706kB 20.3MB/s eta 0:00:01\r\u001b[K     |███████████▏                    | 716kB 20.3MB/s eta 0:00:01\r\u001b[K     |███████████▎                    | 727kB 20.3MB/s eta 0:00:01\r\u001b[K     |███████████▌                    | 737kB 20.3MB/s eta 0:00:01\r\u001b[K     |███████████▋                    | 747kB 20.3MB/s eta 0:00:01\r\u001b[K     |███████████▊                    | 757kB 20.3MB/s eta 0:00:01\r\u001b[K     |████████████                    | 768kB 20.3MB/s eta 0:00:01\r\u001b[K     |████████████                    | 778kB 20.3MB/s eta 0:00:01\r\u001b[K     |████████████▎                   | 788kB 20.3MB/s eta 0:00:01\r\u001b[K     |████████████▍                   | 798kB 20.3MB/s eta 0:00:01\r\u001b[K     |████████████▋                   | 808kB 20.3MB/s eta 0:00:01\r\u001b[K     |████████████▊                   | 819kB 20.3MB/s eta 0:00:01\r\u001b[K     |████████████▉                   | 829kB 20.3MB/s eta 0:00:01\r\u001b[K     |█████████████                   | 839kB 20.3MB/s eta 0:00:01\r\u001b[K     |█████████████▏                  | 849kB 20.3MB/s eta 0:00:01\r\u001b[K     |█████████████▍                  | 860kB 20.3MB/s eta 0:00:01\r\u001b[K     |█████████████▌                  | 870kB 20.3MB/s eta 0:00:01\r\u001b[K     |█████████████▊                  | 880kB 20.3MB/s eta 0:00:01\r\u001b[K     |█████████████▉                  | 890kB 20.3MB/s eta 0:00:01\r\u001b[K     |██████████████                  | 901kB 20.3MB/s eta 0:00:01\r\u001b[K     |██████████████▏                 | 911kB 20.3MB/s eta 0:00:01\r\u001b[K     |██████████████▎                 | 921kB 20.3MB/s eta 0:00:01\r\u001b[K     |██████████████▌                 | 931kB 20.3MB/s eta 0:00:01\r\u001b[K     |██████████████▋                 | 942kB 20.3MB/s eta 0:00:01\r\u001b[K     |██████████████▉                 | 952kB 20.3MB/s eta 0:00:01\r\u001b[K     |███████████████                 | 962kB 20.3MB/s eta 0:00:01\r\u001b[K     |███████████████                 | 972kB 20.3MB/s eta 0:00:01\r\u001b[K     |███████████████▎                | 983kB 20.3MB/s eta 0:00:01\r\u001b[K     |███████████████▍                | 993kB 20.3MB/s eta 0:00:01\r\u001b[K     |███████████████▋                | 1.0MB 20.3MB/s eta 0:00:01\r\u001b[K     |███████████████▊                | 1.0MB 20.3MB/s eta 0:00:01\r\u001b[K     |████████████████                | 1.0MB 20.3MB/s eta 0:00:01\r\u001b[K     |████████████████                | 1.0MB 20.3MB/s eta 0:00:01\r\u001b[K     |████████████████▏               | 1.0MB 20.3MB/s eta 0:00:01\r\u001b[K     |████████████████▍               | 1.1MB 20.3MB/s eta 0:00:01\r\u001b[K     |████████████████▌               | 1.1MB 20.3MB/s eta 0:00:01\r\u001b[K     |████████████████▊               | 1.1MB 20.3MB/s eta 0:00:01\r\u001b[K     |████████████████▉               | 1.1MB 20.3MB/s eta 0:00:01\r\u001b[K     |█████████████████               | 1.1MB 20.3MB/s eta 0:00:01\r\u001b[K     |█████████████████▏              | 1.1MB 20.3MB/s eta 0:00:01\r\u001b[K     |█████████████████▍              | 1.1MB 20.3MB/s eta 0:00:01\r\u001b[K     |█████████████████▌              | 1.1MB 20.3MB/s eta 0:00:01\r\u001b[K     |█████████████████▋              | 1.1MB 20.3MB/s eta 0:00:01\r\u001b[K     |█████████████████▉              | 1.1MB 20.3MB/s eta 0:00:01\r\u001b[K     |██████████████████              | 1.2MB 20.3MB/s eta 0:00:01\r\u001b[K     |██████████████████▏             | 1.2MB 20.3MB/s eta 0:00:01\r\u001b[K     |██████████████████▎             | 1.2MB 20.3MB/s eta 0:00:01\r\u001b[K     |██████████████████▌             | 1.2MB 20.3MB/s eta 0:00:01\r\u001b[K     |██████████████████▋             | 1.2MB 20.3MB/s eta 0:00:01\r\u001b[K     |██████████████████▊             | 1.2MB 20.3MB/s eta 0:00:01\r\u001b[K     |███████████████████             | 1.2MB 20.3MB/s eta 0:00:01\r\u001b[K     |███████████████████             | 1.2MB 20.3MB/s eta 0:00:01\r\u001b[K     |███████████████████▎            | 1.2MB 20.3MB/s eta 0:00:01\r\u001b[K     |███████████████████▍            | 1.2MB 20.3MB/s eta 0:00:01\r\u001b[K     |███████████████████▋            | 1.3MB 20.3MB/s eta 0:00:01\r\u001b[K     |███████████████████▊            | 1.3MB 20.3MB/s eta 0:00:01\r\u001b[K     |███████████████████▉            | 1.3MB 20.3MB/s eta 0:00:01\r\u001b[K     |████████████████████            | 1.3MB 20.3MB/s eta 0:00:01\r\u001b[K     |████████████████████▏           | 1.3MB 20.3MB/s eta 0:00:01\r\u001b[K     |████████████████████▍           | 1.3MB 20.3MB/s eta 0:00:01\r\u001b[K     |████████████████████▌           | 1.3MB 20.3MB/s eta 0:00:01\r\u001b[K     |████████████████████▊           | 1.3MB 20.3MB/s eta 0:00:01\r\u001b[K     |████████████████████▉           | 1.3MB 20.3MB/s eta 0:00:01\r\u001b[K     |█████████████████████           | 1.4MB 20.3MB/s eta 0:00:01\r\u001b[K     |█████████████████████▏          | 1.4MB 20.3MB/s eta 0:00:01\r\u001b[K     |█████████████████████▎          | 1.4MB 20.3MB/s eta 0:00:01\r\u001b[K     |█████████████████████▌          | 1.4MB 20.3MB/s eta 0:00:01\r\u001b[K     |█████████████████████▋          | 1.4MB 20.3MB/s eta 0:00:01\r\u001b[K     |█████████████████████▉          | 1.4MB 20.3MB/s eta 0:00:01\r\u001b[K     |██████████████████████          | 1.4MB 20.3MB/s eta 0:00:01\r\u001b[K     |██████████████████████          | 1.4MB 20.3MB/s eta 0:00:01\r\u001b[K     |██████████████████████▎         | 1.4MB 20.3MB/s eta 0:00:01\r\u001b[K     |██████████████████████▍         | 1.4MB 20.3MB/s eta 0:00:01\r\u001b[K     |██████████████████████▋         | 1.5MB 20.3MB/s eta 0:00:01\r\u001b[K     |██████████████████████▊         | 1.5MB 20.3MB/s eta 0:00:01\r\u001b[K     |███████████████████████         | 1.5MB 20.3MB/s eta 0:00:01\r\u001b[K     |███████████████████████         | 1.5MB 20.3MB/s eta 0:00:01\r\u001b[K     |███████████████████████▏        | 1.5MB 20.3MB/s eta 0:00:01\r\u001b[K     |███████████████████████▍        | 1.5MB 20.3MB/s eta 0:00:01\r\u001b[K     |███████████████████████▌        | 1.5MB 20.3MB/s eta 0:00:01\r\u001b[K     |███████████████████████▊        | 1.5MB 20.3MB/s eta 0:00:01\r\u001b[K     |███████████████████████▉        | 1.5MB 20.3MB/s eta 0:00:01\r\u001b[K     |████████████████████████        | 1.5MB 20.3MB/s eta 0:00:01\r\u001b[K     |████████████████████████▏       | 1.6MB 20.3MB/s eta 0:00:01\r\u001b[K     |████████████████████████▎       | 1.6MB 20.3MB/s eta 0:00:01\r\u001b[K     |████████████████████████▌       | 1.6MB 20.3MB/s eta 0:00:01\r\u001b[K     |████████████████████████▋       | 1.6MB 20.3MB/s eta 0:00:01\r\u001b[K     |████████████████████████▉       | 1.6MB 20.3MB/s eta 0:00:01\r\u001b[K     |█████████████████████████       | 1.6MB 20.3MB/s eta 0:00:01\r\u001b[K     |█████████████████████████▏      | 1.6MB 20.3MB/s eta 0:00:01\r\u001b[K     |█████████████████████████▎      | 1.6MB 20.3MB/s eta 0:00:01\r\u001b[K     |█████████████████████████▍      | 1.6MB 20.3MB/s eta 0:00:01\r\u001b[K     |█████████████████████████▋      | 1.6MB 20.3MB/s eta 0:00:01\r\u001b[K     |█████████████████████████▊      | 1.7MB 20.3MB/s eta 0:00:01\r\u001b[K     |██████████████████████████      | 1.7MB 20.3MB/s eta 0:00:01\r\u001b[K     |██████████████████████████      | 1.7MB 20.3MB/s eta 0:00:01\r\u001b[K     |██████████████████████████▎     | 1.7MB 20.3MB/s eta 0:00:01\r\u001b[K     |██████████████████████████▍     | 1.7MB 20.3MB/s eta 0:00:01\r\u001b[K     |██████████████████████████▋     | 1.7MB 20.3MB/s eta 0:00:01\r\u001b[K     |██████████████████████████▊     | 1.7MB 20.3MB/s eta 0:00:01\r\u001b[K     |██████████████████████████▉     | 1.7MB 20.3MB/s eta 0:00:01\r\u001b[K     |███████████████████████████     | 1.7MB 20.3MB/s eta 0:00:01\r\u001b[K     |███████████████████████████▏    | 1.8MB 20.3MB/s eta 0:00:01\r\u001b[K     |███████████████████████████▍    | 1.8MB 20.3MB/s eta 0:00:01\r\u001b[K     |███████████████████████████▌    | 1.8MB 20.3MB/s eta 0:00:01\r\u001b[K     |███████████████████████████▊    | 1.8MB 20.3MB/s eta 0:00:01\r\u001b[K     |███████████████████████████▉    | 1.8MB 20.3MB/s eta 0:00:01\r\u001b[K     |████████████████████████████    | 1.8MB 20.3MB/s eta 0:00:01\r\u001b[K     |████████████████████████████▏   | 1.8MB 20.3MB/s eta 0:00:01\r\u001b[K     |████████████████████████████▎   | 1.8MB 20.3MB/s eta 0:00:01\r\u001b[K     |████████████████████████████▌   | 1.8MB 20.3MB/s eta 0:00:01\r\u001b[K     |████████████████████████████▋   | 1.8MB 20.3MB/s eta 0:00:01\r\u001b[K     |████████████████████████████▉   | 1.9MB 20.3MB/s eta 0:00:01\r\u001b[K     |█████████████████████████████   | 1.9MB 20.3MB/s eta 0:00:01\r\u001b[K     |█████████████████████████████   | 1.9MB 20.3MB/s eta 0:00:01\r\u001b[K     |█████████████████████████████▎  | 1.9MB 20.3MB/s eta 0:00:01\r\u001b[K     |█████████████████████████████▍  | 1.9MB 20.3MB/s eta 0:00:01\r\u001b[K     |█████████████████████████████▋  | 1.9MB 20.3MB/s eta 0:00:01\r\u001b[K     |█████████████████████████████▊  | 1.9MB 20.3MB/s eta 0:00:01\r\u001b[K     |██████████████████████████████  | 1.9MB 20.3MB/s eta 0:00:01\r\u001b[K     |██████████████████████████████  | 1.9MB 20.3MB/s eta 0:00:01\r\u001b[K     |██████████████████████████████▏ | 1.9MB 20.3MB/s eta 0:00:01\r\u001b[K     |██████████████████████████████▍ | 2.0MB 20.3MB/s eta 0:00:01\r\u001b[K     |██████████████████████████████▌ | 2.0MB 20.3MB/s eta 0:00:01\r\u001b[K     |██████████████████████████████▊ | 2.0MB 20.3MB/s eta 0:00:01\r\u001b[K     |██████████████████████████████▉ | 2.0MB 20.3MB/s eta 0:00:01\r\u001b[K     |███████████████████████████████ | 2.0MB 20.3MB/s eta 0:00:01\r\u001b[K     |███████████████████████████████▏| 2.0MB 20.3MB/s eta 0:00:01\r\u001b[K     |███████████████████████████████▎| 2.0MB 20.3MB/s eta 0:00:01\r\u001b[K     |███████████████████████████████▌| 2.0MB 20.3MB/s eta 0:00:01\r\u001b[K     |███████████████████████████████▋| 2.0MB 20.3MB/s eta 0:00:01\r\u001b[K     |███████████████████████████████▉| 2.0MB 20.3MB/s eta 0:00:01\r\u001b[K     |████████████████████████████████| 2.1MB 20.3MB/s eta 0:00:01\r\u001b[K     |████████████████████████████████| 2.1MB 20.3MB/s \n",
            "\u001b[?25hRequirement already satisfied: tqdm>=4.27 in /usr/local/lib/python3.7/dist-packages (from transformers) (4.41.1)\n",
            "Collecting tokenizers<0.11,>=0.10.1\n",
            "\u001b[?25l  Downloading https://files.pythonhosted.org/packages/ae/04/5b870f26a858552025a62f1649c20d29d2672c02ff3c3fb4c688ca46467a/tokenizers-0.10.2-cp37-cp37m-manylinux2010_x86_64.whl (3.3MB)\n",
            "\u001b[K     |████████████████████████████████| 3.3MB 55.4MB/s \n",
            "\u001b[?25hRequirement already satisfied: regex!=2019.12.17 in /usr/local/lib/python3.7/dist-packages (from transformers) (2019.12.20)\n",
            "Requirement already satisfied: numpy>=1.17 in /usr/local/lib/python3.7/dist-packages (from transformers) (1.19.5)\n",
            "Requirement already satisfied: requests in /usr/local/lib/python3.7/dist-packages (from transformers) (2.23.0)\n",
            "Collecting sacremoses\n",
            "\u001b[?25l  Downloading https://files.pythonhosted.org/packages/75/ee/67241dc87f266093c533a2d4d3d69438e57d7a90abb216fa076e7d475d4a/sacremoses-0.0.45-py3-none-any.whl (895kB)\n",
            "\u001b[K     |████████████████████████████████| 901kB 50.1MB/s \n",
            "\u001b[?25hRequirement already satisfied: importlib-metadata; python_version < \"3.8\" in /usr/local/lib/python3.7/dist-packages (from transformers) (3.10.1)\n",
            "Requirement already satisfied: packaging in /usr/local/lib/python3.7/dist-packages (from transformers) (20.9)\n",
            "Requirement already satisfied: filelock in /usr/local/lib/python3.7/dist-packages (from transformers) (3.0.12)\n",
            "Requirement already satisfied: chardet<4,>=3.0.2 in /usr/local/lib/python3.7/dist-packages (from requests->transformers) (3.0.4)\n",
            "Requirement already satisfied: idna<3,>=2.5 in /usr/local/lib/python3.7/dist-packages (from requests->transformers) (2.10)\n",
            "Requirement already satisfied: certifi>=2017.4.17 in /usr/local/lib/python3.7/dist-packages (from requests->transformers) (2020.12.5)\n",
            "Requirement already satisfied: urllib3!=1.25.0,!=1.25.1,<1.26,>=1.21.1 in /usr/local/lib/python3.7/dist-packages (from requests->transformers) (1.24.3)\n",
            "Requirement already satisfied: click in /usr/local/lib/python3.7/dist-packages (from sacremoses->transformers) (7.1.2)\n",
            "Requirement already satisfied: six in /usr/local/lib/python3.7/dist-packages (from sacremoses->transformers) (1.15.0)\n",
            "Requirement already satisfied: joblib in /usr/local/lib/python3.7/dist-packages (from sacremoses->transformers) (1.0.1)\n",
            "Requirement already satisfied: zipp>=0.5 in /usr/local/lib/python3.7/dist-packages (from importlib-metadata; python_version < \"3.8\"->transformers) (3.4.1)\n",
            "Requirement already satisfied: typing-extensions>=3.6.4; python_version < \"3.8\" in /usr/local/lib/python3.7/dist-packages (from importlib-metadata; python_version < \"3.8\"->transformers) (3.7.4.3)\n",
            "Requirement already satisfied: pyparsing>=2.0.2 in /usr/local/lib/python3.7/dist-packages (from packaging->transformers) (2.4.7)\n",
            "Installing collected packages: tokenizers, sacremoses, transformers\n",
            "Successfully installed sacremoses-0.0.45 tokenizers-0.10.2 transformers-4.5.1\n"
          ],
          "name": "stdout"
        }
      ]
    },
    {
      "cell_type": "code",
      "metadata": {
        "id": "SNz01FYiqprB"
      },
      "source": [
        "import transformers"
      ],
      "execution_count": null,
      "outputs": []
    },
    {
      "cell_type": "code",
      "metadata": {
        "colab": {
          "base_uri": "https://localhost:8080/"
        },
        "id": "8m4zSRhvqs0S",
        "outputId": "8fc615ef-aa7c-407f-cbf9-842aa10cb288"
      },
      "source": [
        "print (transformers.__version__)"
      ],
      "execution_count": null,
      "outputs": [
        {
          "output_type": "stream",
          "text": [
            "4.5.1\n"
          ],
          "name": "stdout"
        }
      ]
    },
    {
      "cell_type": "code",
      "metadata": {
        "id": "tSWhn-A5qwUM"
      },
      "source": [
        "import logging\n",
        "import os\n",
        "import math\n",
        "import torch\n",
        "import tensorflow as tf\n",
        "from dataclasses import dataclass, field\n",
        "from transformers import AutoModel, AutoTokenizer, BertTokenizerFast, BertForMaskedLM, BertModel\n",
        "from transformers import TrainingArguments, HfArgumentParser\n",
        "from transformers import LongformerModel \n",
        "from transformers import LongformerSelfAttention\n",
        "from transformers import LongformerConfig \n",
        "\n",
        "logger = logging.getLogger(__name__)\n",
        "logging.basicConfig(level=logging.INFO)"
      ],
      "execution_count": null,
      "outputs": []
    },
    {
      "cell_type": "code",
      "metadata": {
        "id": "VtwKnfM1qJKk"
      },
      "source": [
        "class BertLongSelfAttention(LongformerSelfAttention):\n",
        "    def forward(\n",
        "        self,\n",
        "        hidden_states,\n",
        "        attention_mask=None,\n",
        "        head_mask=None,\n",
        "        encoder_hidden_states=None,\n",
        "        encoder_attention_mask=None,\n",
        "        past_key_value=None,\n",
        "        output_attentions=False,\n",
        "    ):\n",
        "        return super().forward(hidden_states, attention_mask=attention_mask, output_attentions=output_attentions)\n",
        "\n",
        "\n",
        "class BertLong(BertModel):\n",
        "    def __init__(self, config):\n",
        "        super().__init__(config)\n",
        "        for i, layer in enumerate(self.encoder.layer):\n",
        "            # replace the `modeling_bert.BertSelfAttention` object with `LongformerSelfAttention`\n",
        "            layer.attention.self = BertLongSelfAttention(config, layer_id=i)"
      ],
      "execution_count": null,
      "outputs": []
    },
    {
      "cell_type": "code",
      "metadata": {
        "id": "JtlyaZgMqzzD"
      },
      "source": [
        "def create_long_model(save_model_to, attention_window, max_pos):\n",
        "    model = BertModel.from_pretrained(\"GroNLP/bert-base-dutch-cased\")\n",
        "    tokenizer = BertTokenizerFast.from_pretrained(\"GroNLP/bert-base-dutch-cased\", model_max_length=max_pos)\n",
        "    config = model.config\n",
        "\n",
        "    print(max_pos)\n",
        "    # extend position embeddings\n",
        "    tokenizer.model_max_length = max_pos\n",
        "    tokenizer.init_kwargs['model_max_length'] = max_pos\n",
        "    current_max_pos, embed_size = model.embeddings.position_embeddings.weight.shape\n",
        "    config.max_position_embeddings = max_pos\n",
        "    assert max_pos > current_max_pos\n",
        "    # allocate a larger position embedding matrix\n",
        "    new_pos_embed = model.embeddings.position_embeddings.weight.new_empty(max_pos, embed_size)\n",
        "    print(new_pos_embed.shape)\n",
        "    print(model.embeddings.position_embeddings)\n",
        "    # copy position embeddings over and over to initialize the new position embeddings\n",
        "    k = 0\n",
        "    step = current_max_pos\n",
        "    while k < max_pos - 1:\n",
        "        new_pos_embed[k:(k + step)] = model.embeddings.position_embeddings.weight\n",
        "        k += step\n",
        "    print(new_pos_embed.shape)\n",
        "    model.embeddings.position_ids = torch.from_numpy(tf.range(new_pos_embed.shape[0], dtype=tf.int32).numpy()[tf.newaxis, :])\n",
        "    model.embeddings.position_embeddings = torch.nn.Embedding.from_pretrained(new_pos_embed)\n",
        "    \n",
        "    # replace the `modeling_bert.BertSelfAttention` object with `LongformerSelfAttention`\n",
        "    config.attention_window = [attention_window] * config.num_hidden_layers                                                                                                                                                                                                                                                                                                                                                                                                                                                                                \n",
        "    for i, layer in enumerate(model.encoder.layer):\n",
        "        longformer_self_attn = LongformerSelfAttention(config, layer_id=i)\n",
        "        longformer_self_attn.query = layer.attention.self.query\n",
        "        longformer_self_attn.key = layer.attention.self.key\n",
        "        longformer_self_attn.value = layer.attention.self.value\n",
        "\n",
        "        longformer_self_attn.query_global = layer.attention.self.query\n",
        "        longformer_self_attn.key_global = layer.attention.self.key\n",
        "        longformer_self_attn.value_global = layer.attention.self.value\n",
        "\n",
        "        layer.attention.self = longformer_self_attn\n",
        "    print(model.embeddings.position_ids.shape)\n",
        "    logger.info(f'saving model to {save_model_to}')\n",
        "    model.save_pretrained(save_model_to)\n",
        "    tokenizer.save_pretrained(save_model_to)\n",
        "    return model, tokenizer, new_pos_embed"
      ],
      "execution_count": null,
      "outputs": []
    },
    {
      "cell_type": "code",
      "metadata": {
        "id": "k81_zd2Uq1P7"
      },
      "source": [
        "@dataclass\n",
        "class ModelArgs:\n",
        "    attention_window: int = field(default=512, metadata={\"help\": \"Size of attention window\"})\n",
        "    max_pos: int = field(default=4096, metadata={\"help\": \"Maximum position\"})\n",
        "\n",
        "parser = HfArgumentParser((TrainingArguments, ModelArgs,))\n",
        "\n",
        "\n",
        "training_args, model_args = parser.parse_args_into_dataclasses(look_for_args_file=False, args=[\n",
        "    '--output_dir', 'tmp',\n",
        "    '--warmup_steps', '500',\n",
        "    '--learning_rate', '0.00003',\n",
        "    '--weight_decay', '0.01',\n",
        "    '--adam_epsilon', '1e-6',\n",
        "    '--max_steps', '3000',\n",
        "    '--logging_steps', '500',\n",
        "    '--save_steps', '500',\n",
        "    '--max_grad_norm', '5.0',\n",
        "    '--per_gpu_eval_batch_size', '8',\n",
        "    '--per_gpu_train_batch_size', '2',  # 32GB gpu with fp32\n",
        "    '--gradient_accumulation_steps', '32',\n",
        "    #'--evaluate_during_training',\n",
        "    '--do_train',\n",
        "    '--do_eval',\n",
        "])\n",
        "\n",
        "# Choose GPU\n",
        "import os\n",
        "os.environ[\"CUDA_VISIBLE_DEVICES\"] = \"0\""
      ],
      "execution_count": null,
      "outputs": []
    },
    {
      "cell_type": "code",
      "metadata": {
        "colab": {
          "base_uri": "https://localhost:8080/",
          "height": 614,
          "referenced_widgets": [
            "d06495c44a804f51908df411bbf52f0a",
            "191e9fba53c148308a224ab9fde31a8c",
            "dab79d8bad5d4be4833d166e76730428",
            "fb5b9bdb748c49debe5e933c0b5a6c0b",
            "c1dd0d715c404c6e94ae71ffa3338ed8",
            "09e0ae1dac2d4037bf7a0ca03ec6aa96",
            "bd21e73558b8439181c24cf9aa337063",
            "37fe624c223a443e8a44f4091b45236f",
            "c51298e303be493cab50cecb30a41bf1",
            "35b55c593e3a4420bee3a3ded33f77a6",
            "6e03d03ccb554c29b9a38cedb5facb9c",
            "ff3e70452bd344499e2e87afaba006b8",
            "b1070adc23184a979e34fbb3bfe04c16",
            "c1a5ff4c78694520a578ede20bcf94c7",
            "4064b1bf2ba74c8d8d4b62d68f170b94",
            "a2e2879986244c09964b3c4add638ebc",
            "15b7aeb122044f51b566b57ff127e1ae",
            "d81055cdcde9435fa7abf9e7d67e1eb8",
            "3a1530f60ccc4651a31aef7f4a0249f7",
            "4edee56147ad4e5fb7c14dc276236fc4",
            "9227ba20fccf42b79765226ff76f987b",
            "3c22ea360a294ac3bab2e2d087367fcc",
            "256cd315c2ed49ecbda054824c2e2dfa",
            "84d9c7894ae746bda0cd8e73dc3bf95b",
            "492ac5eec108444cad1e485f1ef6c921",
            "121908311a404796812d4a3689677c96",
            "4c909de5fa78452bb32f313bb846490d",
            "ca0bca5d28b043f398675127a302be09",
            "ac58f8b7a9fc4e69991a9133c55f4458",
            "ac27cf0cb3364ea5be32dd1a1e4f8fc7",
            "942a1a36007f4e0c9d3ce247f53aede6",
            "91e0ed5f2fcc45d8b328f36510289775",
            "cf556aa4e9174b7fac37237e0d9817d5",
            "7754f96ab7744f5882300795be97bc6e",
            "30b3f6496e1c47919ad4b3390a218b53",
            "b5a4d52fc9c948d3897ca79ee6b52c80",
            "aaeed483073c43deb60226bf3b65f5ff",
            "8bce6337127b4328adc1f17a1e1c5bca",
            "46195c02288d4b54aec553fe1e9f9026",
            "26c00a213b404c53826f99cb3f80e951"
          ]
        },
        "id": "xWXIsb-4q2wl",
        "outputId": "a05e0da8-37f2-4e70-f5eb-7683da3f931d"
      },
      "source": [
        "model_path = f'{training_args.output_dir}/GroNLP/bert-base-dutch-cased-{model_args.max_pos}'\n",
        "if not os.path.exists(model_path):\n",
        "    os.makedirs(model_path)\n",
        "\n",
        "logger.info(f'GroNLP/bert-base-dutch-cased into GroNLP/bert-base-dutch-cased-{model_args.max_pos}')\n",
        "model, tokenizer, new_pos_embed = create_long_model(\n",
        "    save_model_to=model_path, attention_window=model_args.attention_window, max_pos=model_args.max_pos)\n",
        "#create_long_model(save_model_to, attention_window, max_pos)"
      ],
      "execution_count": null,
      "outputs": [
        {
          "output_type": "stream",
          "text": [
            "INFO:__main__:GroNLP/bert-base-dutch-cased into GroNLP/bert-base-dutch-cased-4096\n",
            "INFO:filelock:Lock 140210913015760 acquired on /root/.cache/huggingface/transformers/443c1d513d458927e5883e0b1298cdb70ba4d14a55faa236d93e0598efc78fc7.9c2c2a3ca9723b5324fb9d01fbe78b3550de8641c6cdf59498152ab427df95a2.lock\n"
          ],
          "name": "stderr"
        },
        {
          "output_type": "display_data",
          "data": {
            "application/vnd.jupyter.widget-view+json": {
              "model_id": "d06495c44a804f51908df411bbf52f0a",
              "version_minor": 0,
              "version_major": 2
            },
            "text/plain": [
              "HBox(children=(FloatProgress(value=0.0, description='Downloading', max=521.0, style=ProgressStyle(description_…"
            ]
          },
          "metadata": {
            "tags": []
          }
        },
        {
          "output_type": "stream",
          "text": [
            "INFO:filelock:Lock 140210913015760 released on /root/.cache/huggingface/transformers/443c1d513d458927e5883e0b1298cdb70ba4d14a55faa236d93e0598efc78fc7.9c2c2a3ca9723b5324fb9d01fbe78b3550de8641c6cdf59498152ab427df95a2.lock\n",
            "INFO:filelock:Lock 140211926223760 acquired on /root/.cache/huggingface/transformers/0afca22dbb0c0cf270ab24011224d449d604dca5dac95f18ef719be45029ee80.99bc8efd927a7d6b36398f23af86aff6b91a6b607e37773ed52ab62d53cfe5a9.lock\n"
          ],
          "name": "stderr"
        },
        {
          "output_type": "stream",
          "text": [
            "\n"
          ],
          "name": "stdout"
        },
        {
          "output_type": "display_data",
          "data": {
            "application/vnd.jupyter.widget-view+json": {
              "model_id": "c51298e303be493cab50cecb30a41bf1",
              "version_minor": 0,
              "version_major": 2
            },
            "text/plain": [
              "HBox(children=(FloatProgress(value=0.0, description='Downloading', max=436538834.0, style=ProgressStyle(descri…"
            ]
          },
          "metadata": {
            "tags": []
          }
        },
        {
          "output_type": "stream",
          "text": [
            "INFO:filelock:Lock 140211926223760 released on /root/.cache/huggingface/transformers/0afca22dbb0c0cf270ab24011224d449d604dca5dac95f18ef719be45029ee80.99bc8efd927a7d6b36398f23af86aff6b91a6b607e37773ed52ab62d53cfe5a9.lock\n"
          ],
          "name": "stderr"
        },
        {
          "output_type": "stream",
          "text": [
            "\n"
          ],
          "name": "stdout"
        },
        {
          "output_type": "stream",
          "text": [
            "Some weights of BertModel were not initialized from the model checkpoint at GroNLP/bert-base-dutch-cased and are newly initialized: ['bert.pooler.dense.weight', 'bert.pooler.dense.bias']\n",
            "You should probably TRAIN this model on a down-stream task to be able to use it for predictions and inference.\n",
            "INFO:filelock:Lock 140210912984976 acquired on /root/.cache/huggingface/transformers/5ab1fe3a4445d1380cdcfca1496fda3de97bc83e5005fd1a0942cb758eacc67a.4c3119f5f60fe4102b00f9d33781542a23e127fb2ee1ece1254b8f908cc357bd.lock\n"
          ],
          "name": "stderr"
        },
        {
          "output_type": "display_data",
          "data": {
            "application/vnd.jupyter.widget-view+json": {
              "model_id": "15b7aeb122044f51b566b57ff127e1ae",
              "version_minor": 0,
              "version_major": 2
            },
            "text/plain": [
              "HBox(children=(FloatProgress(value=0.0, description='Downloading', max=241441.0, style=ProgressStyle(descripti…"
            ]
          },
          "metadata": {
            "tags": []
          }
        },
        {
          "output_type": "stream",
          "text": [
            "INFO:filelock:Lock 140210912984976 released on /root/.cache/huggingface/transformers/5ab1fe3a4445d1380cdcfca1496fda3de97bc83e5005fd1a0942cb758eacc67a.4c3119f5f60fe4102b00f9d33781542a23e127fb2ee1ece1254b8f908cc357bd.lock\n",
            "INFO:filelock:Lock 140210778477840 acquired on /root/.cache/huggingface/transformers/adb82a117c09b0f8768357de8e836a9e0610730782f82edc49dd0020c48f1d03.dd8bd9bfd3664b530ea4e645105f557769387b3da9f79bdb55ed556bdd80611d.lock\n"
          ],
          "name": "stderr"
        },
        {
          "output_type": "stream",
          "text": [
            "\n"
          ],
          "name": "stdout"
        },
        {
          "output_type": "display_data",
          "data": {
            "application/vnd.jupyter.widget-view+json": {
              "model_id": "492ac5eec108444cad1e485f1ef6c921",
              "version_minor": 0,
              "version_major": 2
            },
            "text/plain": [
              "HBox(children=(FloatProgress(value=0.0, description='Downloading', max=112.0, style=ProgressStyle(description_…"
            ]
          },
          "metadata": {
            "tags": []
          }
        },
        {
          "output_type": "stream",
          "text": [
            "INFO:filelock:Lock 140210778477840 released on /root/.cache/huggingface/transformers/adb82a117c09b0f8768357de8e836a9e0610730782f82edc49dd0020c48f1d03.dd8bd9bfd3664b530ea4e645105f557769387b3da9f79bdb55ed556bdd80611d.lock\n",
            "INFO:filelock:Lock 140210778848848 acquired on /root/.cache/huggingface/transformers/32589e144ae92d44c56eef5c89a01b3cf4bb1c744c60073f47834ddfdd84854e.fd86b436ab272b10c085aec068f5dbace040ca1602155bea390706b96cb608e3.lock\n"
          ],
          "name": "stderr"
        },
        {
          "output_type": "stream",
          "text": [
            "\n"
          ],
          "name": "stdout"
        },
        {
          "output_type": "display_data",
          "data": {
            "application/vnd.jupyter.widget-view+json": {
              "model_id": "cf556aa4e9174b7fac37237e0d9817d5",
              "version_minor": 0,
              "version_major": 2
            },
            "text/plain": [
              "HBox(children=(FloatProgress(value=0.0, description='Downloading', max=254.0, style=ProgressStyle(description_…"
            ]
          },
          "metadata": {
            "tags": []
          }
        },
        {
          "output_type": "stream",
          "text": [
            "INFO:filelock:Lock 140210778848848 released on /root/.cache/huggingface/transformers/32589e144ae92d44c56eef5c89a01b3cf4bb1c744c60073f47834ddfdd84854e.fd86b436ab272b10c085aec068f5dbace040ca1602155bea390706b96cb608e3.lock\n"
          ],
          "name": "stderr"
        },
        {
          "output_type": "stream",
          "text": [
            "\n",
            "4096\n",
            "torch.Size([4096, 768])\n",
            "Embedding(512, 768)\n",
            "torch.Size([4096, 768])\n"
          ],
          "name": "stdout"
        },
        {
          "output_type": "stream",
          "text": [
            "INFO:__main__:saving model to tmp/GroNLP/bert-base-dutch-cased-4096\n"
          ],
          "name": "stderr"
        },
        {
          "output_type": "stream",
          "text": [
            "torch.Size([1, 4096])\n"
          ],
          "name": "stdout"
        }
      ]
    },
    {
      "cell_type": "code",
      "metadata": {
        "colab": {
          "base_uri": "https://localhost:8080/"
        },
        "id": "TzgckgUCq4f-",
        "outputId": "9201ae34-51ad-4c3f-b045-2c85db13ff79"
      },
      "source": [
        "logger.info(f'Loading the model from {model_path}')\n",
        "tokenizer = BertTokenizerFast.from_pretrained(model_path)\n",
        "model = BertLong.from_pretrained(model_path)\n"
      ],
      "execution_count": null,
      "outputs": [
        {
          "output_type": "stream",
          "text": [
            "INFO:__main__:Loading the model from tmp/GroNLP/bert-base-dutch-cased-4096\n"
          ],
          "name": "stderr"
        }
      ]
    },
    {
      "cell_type": "code",
      "metadata": {
        "id": "wE4U4zjjqVP3"
      },
      "source": [
        ""
      ],
      "execution_count": null,
      "outputs": []
    }
  ]
}